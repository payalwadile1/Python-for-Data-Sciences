{
 "cells": [
  {
   "cell_type": "code",
   "execution_count": 1,
   "id": "6c6bd110-0a00-4179-b8c6-1f6bdcd11804",
   "metadata": {},
   "outputs": [],
   "source": [
    "import numpy as np  #importing numpy into jupyter file\n",
    "import matplotlib.pyplot as plt"
   ]
  },
  {
   "cell_type": "code",
   "execution_count": 2,
   "id": "7ff3457e-c0c7-4305-9f28-50ba1f3a5368",
   "metadata": {},
   "outputs": [
    {
     "data": {
      "text/plain": [
       "array([ 9,  6,  7,  6, 10,  9,  7,  9,  9,  6])"
      ]
     },
     "execution_count": 2,
     "metadata": {},
     "output_type": "execute_result"
    }
   ],
   "source": [
    "arr6=np.random.randint(5,12,10) #low high size\n",
    "arr6"
   ]
  },
  {
   "cell_type": "code",
   "execution_count": 3,
   "id": "cd06752b-0fd5-4b71-9e82-8d92347f744b",
   "metadata": {},
   "outputs": [
    {
     "data": {
      "text/plain": [
       "array([0.21320081, 0.30857788, 0.17478053, 0.56274429, 0.97607559,\n",
       "       0.89316647, 0.4681798 , 0.36672502, 0.26046908, 0.51892026,\n",
       "       0.64175952, 0.55660959, 0.01944161, 0.07119657, 0.08710242,\n",
       "       0.04576778, 0.90297149, 0.73849653, 0.6143328 , 0.39146267,\n",
       "       0.51756037, 0.93001786, 0.7346273 ])"
      ]
     },
     "execution_count": 3,
     "metadata": {},
     "output_type": "execute_result"
    }
   ],
   "source": [
    "arr7=np.random.rand(23)\n",
    "arr7"
   ]
  },
  {
   "cell_type": "code",
   "execution_count": 4,
   "id": "da228c75-daf2-4f88-96b9-cfe176519879",
   "metadata": {},
   "outputs": [
    {
     "data": {
      "text/plain": [
       "array([-5.46430737,  8.49679416,  2.84565655, 12.36497955, 13.79475371,\n",
       "        9.1669994 , 14.48622658, 13.32737531,  2.78422072, 18.18855761,\n",
       "        8.85569158, -6.42318967,  6.4766956 ,  9.41521533,  2.98992117,\n",
       "       12.69362258,  4.58265709, 18.62735365,  2.22213903, 14.85030695,\n",
       "        9.2991751 , 13.24149915,  8.03146388,  0.15885999])"
      ]
     },
     "execution_count": 4,
     "metadata": {},
     "output_type": "execute_result"
    }
   ],
   "source": [
    "arr8=np.random.normal(8,7,24) #mean stand derivatives\n",
    "arr8"
   ]
  },
  {
   "cell_type": "code",
   "execution_count": 5,
   "id": "1d348d87-8657-4065-bebc-e0edaec7456c",
   "metadata": {},
   "outputs": [
    {
     "data": {
      "text/plain": [
       "array([  1,   2,   3,   4,   5,   6,   7,   8,   9,  10,  11,  12,  13,\n",
       "        14,  15,  16,  17,  18,  19,  20,  21,  22,  23,  24,  25,  26,\n",
       "        27,  28,  29,  30,  31,  32,  33,  34,  35,  36,  37,  38,  39,\n",
       "        40,  41,  42,  43,  44,  45,  46,  47,  48,  49,  50,  51,  52,\n",
       "        53,  54,  55,  56,  57,  58,  59,  60,  61,  62,  63,  64,  65,\n",
       "        66,  67,  68,  69,  70,  71,  72,  73,  74,  75,  76,  77,  78,\n",
       "        79,  80,  81,  82,  83,  84,  85,  86,  87,  88,  89,  90,  91,\n",
       "        92,  93,  94,  95,  96,  97,  98,  99, 100])"
      ]
     },
     "execution_count": 5,
     "metadata": {},
     "output_type": "execute_result"
    }
   ],
   "source": [
    "arr9=np.arange(1,101)\n",
    "arr9"
   ]
  },
  {
   "cell_type": "code",
   "execution_count": 6,
   "id": "1fb993cd-bf6d-4592-8327-6c9590ce5e1b",
   "metadata": {},
   "outputs": [
    {
     "data": {
      "text/plain": [
       "array([[  1,   2,   3,   4,   5,   6,   7,   8,   9,  10],\n",
       "       [ 11,  12,  13,  14,  15,  16,  17,  18,  19,  20],\n",
       "       [ 21,  22,  23,  24,  25,  26,  27,  28,  29,  30],\n",
       "       [ 31,  32,  33,  34,  35,  36,  37,  38,  39,  40],\n",
       "       [ 41,  42,  43,  44,  45,  46,  47,  48,  49,  50],\n",
       "       [ 51,  52,  53,  54,  55,  56,  57,  58,  59,  60],\n",
       "       [ 61,  62,  63,  64,  65,  66,  67,  68,  69,  70],\n",
       "       [ 71,  72,  73,  74,  75,  76,  77,  78,  79,  80],\n",
       "       [ 81,  82,  83,  84,  85,  86,  87,  88,  89,  90],\n",
       "       [ 91,  92,  93,  94,  95,  96,  97,  98,  99, 100]])"
      ]
     },
     "execution_count": 6,
     "metadata": {},
     "output_type": "execute_result"
    }
   ],
   "source": [
    "arr10=arr9.reshape(10,10)\n",
    "arr10"
   ]
  },
  {
   "cell_type": "code",
   "execution_count": 7,
   "id": "0e3210a6-0615-45e5-8f63-2cce65fb8b01",
   "metadata": {},
   "outputs": [
    {
     "name": "stdout",
     "output_type": "stream",
     "text": [
      "size 100\n",
      "shape (10, 10)\n",
      "dimension 2\n",
      "datatype int32\n",
      "datatype(name) int32\n"
     ]
    }
   ],
   "source": [
    "print(\"size\",arr10.size)\n",
    "#number of element in arry\n",
    "print(\"shape\",arr10.shape)\n",
    "#number of row and coloum in array\n",
    "print(\"dimension\",arr10.ndim)\n",
    "#dimension of on array\n",
    "print(\"datatype\",arr10.dtype)\n",
    "print(\"datatype(name)\",arr10.dtype.name)\n",
    "#datatype of an array\n",
    "      "
   ]
  },
  {
   "cell_type": "code",
   "execution_count": 8,
   "id": "ea91f1d4-a69b-4505-8d75-0651a5f9e273",
   "metadata": {},
   "outputs": [
    {
     "data": {
      "text/plain": [
       "array([1, 5, 4, 5, 1, 4, 4, 3, 2, 2])"
      ]
     },
     "execution_count": 8,
     "metadata": {},
     "output_type": "execute_result"
    }
   ],
   "source": [
    "arr11=np.random.choice([1,2,3,4,5,6],10)\n",
    "arr11"
   ]
  },
  {
   "cell_type": "code",
   "execution_count": 9,
   "id": "8ad6e8f0-9d45-4586-8e34-2ff54feb0c19",
   "metadata": {},
   "outputs": [
    {
     "data": {
      "text/plain": [
       "array([ 0,  1,  2,  3,  4,  5,  6,  7,  8,  9, 10, 11, 12, 13, 14, 15, 16,\n",
       "       17, 18, 19, 20, 21, 22, 23])"
      ]
     },
     "execution_count": 9,
     "metadata": {},
     "output_type": "execute_result"
    }
   ],
   "source": [
    "arr12=np.arange(24)\n",
    "arr12"
   ]
  },
  {
   "cell_type": "code",
   "execution_count": 10,
   "id": "42ece95e-4a8a-4f36-881c-f57ac40b5deb",
   "metadata": {},
   "outputs": [
    {
     "data": {
      "text/plain": [
       "1"
      ]
     },
     "execution_count": 10,
     "metadata": {},
     "output_type": "execute_result"
    }
   ],
   "source": [
    "arr12.ndim"
   ]
  },
  {
   "cell_type": "code",
   "execution_count": 11,
   "id": "df8fe054-988f-47be-b812-470a1be25d96",
   "metadata": {},
   "outputs": [
    {
     "data": {
      "text/plain": [
       "array([[ 0,  1,  2,  3,  4,  5],\n",
       "       [ 6,  7,  8,  9, 10, 11],\n",
       "       [12, 13, 14, 15, 16, 17],\n",
       "       [18, 19, 20, 21, 22, 23]])"
      ]
     },
     "execution_count": 11,
     "metadata": {},
     "output_type": "execute_result"
    }
   ],
   "source": [
    "arr12.reshape(4,6)"
   ]
  },
  {
   "cell_type": "code",
   "execution_count": 12,
   "id": "196b4dff-bd8f-4c7b-b031-0f8d1d443d63",
   "metadata": {},
   "outputs": [
    {
     "data": {
      "text/plain": [
       "array([[[ 0,  1,  2,  3],\n",
       "        [ 4,  5,  6,  7]],\n",
       "\n",
       "       [[ 8,  9, 10, 11],\n",
       "        [12, 13, 14, 15]],\n",
       "\n",
       "       [[16, 17, 18, 19],\n",
       "        [20, 21, 22, 23]]])"
      ]
     },
     "execution_count": 12,
     "metadata": {},
     "output_type": "execute_result"
    }
   ],
   "source": [
    "arr12.reshape(3,2,4)"
   ]
  },
  {
   "cell_type": "code",
   "execution_count": 13,
   "id": "4c844330-cb39-428d-b107-34e3efdff320",
   "metadata": {},
   "outputs": [
    {
     "data": {
      "text/plain": [
       "array([1, 2, 3, 4])"
      ]
     },
     "execution_count": 13,
     "metadata": {},
     "output_type": "execute_result"
    }
   ],
   "source": [
    "arr13=np.arange(1,5)\n",
    "arr13"
   ]
  },
  {
   "cell_type": "code",
   "execution_count": 14,
   "id": "9ff6ab3d-9204-4d54-8a78-0ff2f728abc2",
   "metadata": {},
   "outputs": [
    {
     "data": {
      "text/plain": [
       "array([1, 1, 1, 1, 1, 2, 2, 2, 2, 2, 3, 3, 3, 3, 3, 4, 4, 4, 4, 4])"
      ]
     },
     "execution_count": 14,
     "metadata": {},
     "output_type": "execute_result"
    }
   ],
   "source": [
    "arr13.repeat(5)"
   ]
  },
  {
   "cell_type": "code",
   "execution_count": 15,
   "id": "a4213909-81f1-4bdf-9786-abefe78ac49a",
   "metadata": {},
   "outputs": [
    {
     "data": {
      "text/plain": [
       "array([1, 1, 1, 2, 2, 2, 2, 2, 3, 3, 4, 4, 4])"
      ]
     },
     "execution_count": 15,
     "metadata": {},
     "output_type": "execute_result"
    }
   ],
   "source": [
    "arr13.repeat([3,5,2,3])"
   ]
  },
  {
   "cell_type": "code",
   "execution_count": 16,
   "id": "fed56a84-cc75-4ccd-b3b3-e1e27f478444",
   "metadata": {},
   "outputs": [],
   "source": [
    "arr14 = np.random.randint(1,5,4).reshape(2,2)\n",
    "arr15 = np.random.randint(5,10,4).reshape(2,2)"
   ]
  },
  {
   "cell_type": "code",
   "execution_count": 17,
   "id": "6f5241a2-c909-483e-95ea-8de8f261d3f8",
   "metadata": {},
   "outputs": [
    {
     "data": {
      "text/plain": [
       "(array([[4, 3],\n",
       "        [3, 4]]),\n",
       " array([[7, 6],\n",
       "        [9, 8]]))"
      ]
     },
     "execution_count": 17,
     "metadata": {},
     "output_type": "execute_result"
    }
   ],
   "source": [
    "arr14,arr15"
   ]
  },
  {
   "cell_type": "code",
   "execution_count": 18,
   "id": "949dc1c3-0ef4-4724-9f30-e59c9cccdc65",
   "metadata": {},
   "outputs": [
    {
     "data": {
      "text/plain": [
       "array([[11,  9],\n",
       "       [12, 12]])"
      ]
     },
     "execution_count": 18,
     "metadata": {},
     "output_type": "execute_result"
    }
   ],
   "source": [
    "arr14+arr15"
   ]
  },
  {
   "cell_type": "code",
   "execution_count": 19,
   "id": "402e8094-7518-4118-b12b-98829b1d4a9d",
   "metadata": {},
   "outputs": [
    {
     "data": {
      "text/plain": [
       "array([[-3, -3],\n",
       "       [-6, -4]])"
      ]
     },
     "execution_count": 19,
     "metadata": {},
     "output_type": "execute_result"
    }
   ],
   "source": [
    "arr14-arr15"
   ]
  },
  {
   "cell_type": "code",
   "execution_count": 20,
   "id": "4e87ca23-2960-45d9-a250-04696034d16f",
   "metadata": {},
   "outputs": [
    {
     "data": {
      "text/plain": [
       "array([[0.57142857, 0.5       ],\n",
       "       [0.33333333, 0.5       ]])"
      ]
     },
     "execution_count": 20,
     "metadata": {},
     "output_type": "execute_result"
    }
   ],
   "source": [
    "arr14/arr15"
   ]
  },
  {
   "cell_type": "code",
   "execution_count": 48,
   "id": "2d50e390-a48c-492d-a10d-16349b8197d0",
   "metadata": {},
   "outputs": [
    {
     "data": {
      "text/plain": [
       "array([[28, 18],\n",
       "       [27, 32]])"
      ]
     },
     "execution_count": 48,
     "metadata": {},
     "output_type": "execute_result"
    }
   ],
   "source": [
    "arr14*arr15"
   ]
  },
  {
   "cell_type": "code",
   "execution_count": 22,
   "id": "5f4e38e0-064a-47e6-bc0b-10d81a082efe",
   "metadata": {},
   "outputs": [
    {
     "data": {
      "text/plain": [
       "array([[55, 48],\n",
       "       [57, 50]])"
      ]
     },
     "execution_count": 22,
     "metadata": {},
     "output_type": "execute_result"
    }
   ],
   "source": [
    "np.dot(arr14,arr15)"
   ]
  },
  {
   "cell_type": "code",
   "execution_count": 23,
   "id": "061bcb5b-682d-4b09-a04a-03069e2de737",
   "metadata": {},
   "outputs": [
    {
     "data": {
      "text/plain": [
       "3.5"
      ]
     },
     "execution_count": 23,
     "metadata": {},
     "output_type": "execute_result"
    }
   ],
   "source": [
    "arr14.mean()  #average"
   ]
  },
  {
   "cell_type": "markdown",
   "id": "c3f0eb43-e424-428f-840a-d9e0570dfacd",
   "metadata": {},
   "source": []
  },
  {
   "cell_type": "code",
   "execution_count": 24,
   "id": "88ff5f6f-21e2-43ed-8f9f-a2bdf326a23e",
   "metadata": {},
   "outputs": [
    {
     "data": {
      "text/plain": [
       "0.5"
      ]
     },
     "execution_count": 24,
     "metadata": {},
     "output_type": "execute_result"
    }
   ],
   "source": [
    "arr14.std()  #standaed deviation"
   ]
  },
  {
   "cell_type": "code",
   "execution_count": 25,
   "id": "243c3c98-7597-4a98-acc9-c1a7b8255c66",
   "metadata": {},
   "outputs": [
    {
     "data": {
      "text/plain": [
       "3"
      ]
     },
     "execution_count": 25,
     "metadata": {},
     "output_type": "execute_result"
    }
   ],
   "source": [
    "arr14.min()  #miaximum"
   ]
  },
  {
   "cell_type": "code",
   "execution_count": 26,
   "id": "0f921b61-ce3d-40fc-9074-00e70fbfa0fd",
   "metadata": {},
   "outputs": [
    {
     "data": {
      "text/plain": [
       "4"
      ]
     },
     "execution_count": 26,
     "metadata": {},
     "output_type": "execute_result"
    }
   ],
   "source": [
    "arr14.max()  #maximum"
   ]
  },
  {
   "cell_type": "code",
   "execution_count": 27,
   "id": "cfbd3048-e02f-4b79-87ca-eecd78969778",
   "metadata": {},
   "outputs": [
    {
     "data": {
      "text/plain": [
       "array([[4., 3.],\n",
       "       [3., 4.]])"
      ]
     },
     "execution_count": 27,
     "metadata": {},
     "output_type": "execute_result"
    }
   ],
   "source": [
    "arr14.astype(\"float\")"
   ]
  },
  {
   "cell_type": "code",
   "execution_count": 28,
   "id": "c3efcffe-94b4-41ef-974a-0fb9b81080ca",
   "metadata": {},
   "outputs": [
    {
     "data": {
      "text/plain": [
       "array([1.        , 1.21052632, 1.42105263, 1.63157895, 1.84210526,\n",
       "       2.05263158, 2.26315789, 2.47368421, 2.68421053, 2.89473684,\n",
       "       3.10526316, 3.31578947, 3.52631579, 3.73684211, 3.94736842,\n",
       "       4.15789474, 4.36842105, 4.57894737, 4.78947368, 5.        ])"
      ]
     },
     "execution_count": 28,
     "metadata": {},
     "output_type": "execute_result"
    }
   ],
   "source": [
    "arr16=np.linspace(1,5,20)\n",
    "arr16"
   ]
  },
  {
   "cell_type": "code",
   "execution_count": 29,
   "id": "d8ca94a5-58ce-4d47-974c-e017baf21511",
   "metadata": {},
   "outputs": [
    {
     "data": {
      "text/plain": [
       "array([-1.        , -0.95918367, -0.91836735, -0.87755102, -0.83673469,\n",
       "       -0.79591837, -0.75510204, -0.71428571, -0.67346939, -0.63265306,\n",
       "       -0.59183673, -0.55102041, -0.51020408, -0.46938776, -0.42857143,\n",
       "       -0.3877551 , -0.34693878, -0.30612245, -0.26530612, -0.2244898 ,\n",
       "       -0.18367347, -0.14285714, -0.10204082, -0.06122449, -0.02040816,\n",
       "        0.02040816,  0.06122449,  0.10204082,  0.14285714,  0.18367347,\n",
       "        0.2244898 ,  0.26530612,  0.30612245,  0.34693878,  0.3877551 ,\n",
       "        0.42857143,  0.46938776,  0.51020408,  0.55102041,  0.59183673,\n",
       "        0.63265306,  0.67346939,  0.71428571,  0.75510204,  0.79591837,\n",
       "        0.83673469,  0.87755102,  0.91836735,  0.95918367,  1.        ])"
      ]
     },
     "execution_count": 29,
     "metadata": {},
     "output_type": "execute_result"
    }
   ],
   "source": [
    "arr17=np.linspace(-1,1,50)\n",
    "arr17"
   ]
  },
  {
   "cell_type": "code",
   "execution_count": 30,
   "id": "9ae57999-bf8c-46a4-8104-db8bfaf2b4ec",
   "metadata": {},
   "outputs": [
    {
     "data": {
      "image/png": "[encoded data removed]",
      "text/plain": [
       "<Figure size 640x480 with 1 Axes>"
      ]
     },
     "metadata": {},
     "output_type": "display_data"
    }
   ],
   "source": [
    "plt.plot(np.square(arr17))\n",
    "plt.scatter(range(1,51),np.square(arr17),color=\"red\",marker=\"*\")\n",
    "plt.show()\n"
   ]
  },
  {
   "cell_type": "raw",
   "id": "093cf712-4c3a-40a1-9657-119c2b68a25d",
   "metadata": {},
   "source": []
  },
  {
   "cell_type": "code",
   "execution_count": 38,
   "id": "41a01f50-355e-40d3-b45e-c8097950b8c5",
   "metadata": {},
   "outputs": [
    {
     "ename": "TypeError",
     "evalue": "genfromtxt() got an unexpected keyword argument 'filling_value'",
     "output_type": "error",
     "traceback": [
      "\u001b[1;31m---------------------------------------------------------------------------\u001b[0m",
      "\u001b[1;31mTypeError\u001b[0m                                 Traceback (most recent call last)",
      "Cell \u001b[1;32mIn[38], line 1\u001b[0m\n\u001b[1;32m----> 1\u001b[0m arr18 \u001b[38;5;241m=\u001b[39m\u001b[43mnp\u001b[49m\u001b[38;5;241;43m.\u001b[39;49m\u001b[43mgenfromtxt\u001b[49m\u001b[43m(\u001b[49m\u001b[38;5;124;43m\"\u001b[39;49m\u001b[38;5;124;43mstudent_id\u001b[39;49m\u001b[38;5;124;43m\"\u001b[39;49m\u001b[43m,\u001b[49m\u001b[43mdelimiter\u001b[49m\u001b[38;5;241;43m=\u001b[39;49m\u001b[38;5;124;43m\"\u001b[39;49m\u001b[38;5;124;43m \u001b[39;49m\u001b[38;5;124;43m\"\u001b[39;49m\u001b[43m,\u001b[49m\n\u001b[0;32m      2\u001b[0m \u001b[43m                      \u001b[49m\u001b[43mfilling_value\u001b[49m\u001b[38;5;241;43m=\u001b[39;49m\u001b[38;5;241;43m0.0\u001b[39;49m\u001b[43m,\u001b[49m\u001b[43mmissing_value\u001b[49m\u001b[38;5;241;43m=\u001b[39;49m\u001b[38;5;124;43m\"\u001b[39;49m\u001b[38;5;124;43m\"\u001b[39;49m\u001b[43m)\u001b[49m\n\u001b[0;32m      3\u001b[0m arr18\n",
      "\u001b[1;31mTypeError\u001b[0m: genfromtxt() got an unexpected keyword argument 'filling_value'"
     ]
    }
   ],
   "source": [
    "arr18 =np.genfromtxt(\"student_id\",delimiter=\" \",\n",
    "                      filling_value=0.0,missing_value=\"\")\n",
    "arr18"
   ]
  },
  {
   "cell_type": "code",
   "execution_count": 43,
   "id": "a9c2e070-dbec-4ad5-af9a-4e16d7e27862",
   "metadata": {},
   "outputs": [
    {
     "ename": "NameError",
     "evalue": "name 'genfromtxt' is not defined",
     "output_type": "error",
     "traceback": [
      "\u001b[1;31m---------------------------------------------------------------------------\u001b[0m",
      "\u001b[1;31mNameError\u001b[0m                                 Traceback (most recent call last)",
      "Cell \u001b[1;32mIn[43], line 1\u001b[0m\n\u001b[1;32m----> 1\u001b[0m arr19 \u001b[38;5;241m=\u001b[39m\u001b[43mgenfromtxt\u001b[49m(\u001b[38;5;124mr\u001b[39m\u001b[38;5;124m\"\u001b[39m\u001b[38;5;124mc:\u001b[39m\u001b[38;5;124m\\\u001b[39m\u001b[38;5;124mUser\u001b[39m\u001b[38;5;124m\\\u001b[39m\u001b[38;5;124mAdmin\u001b[39m\u001b[38;5;124m\\\u001b[39m\u001b[38;5;124mDesktop\u001b[39m\u001b[38;5;124m\\\u001b[39m\u001b[38;5;124mMarks.csv\u001b[39m\u001b[38;5;124m\"\u001b[39m,delimiter\u001b[38;5;241m=\u001b[39m\u001b[38;5;124m\"\u001b[39m\u001b[38;5;124m,\u001b[39m\u001b[38;5;124m\"\u001b[39m,dytpe\u001b[38;5;241m=\u001b[39m\u001b[38;5;124m\"\u001b[39m\u001b[38;5;124mint\u001b[39m\u001b[38;5;124m\"\u001b[39m)\n",
      "\u001b[1;31mNameError\u001b[0m: name 'genfromtxt' is not defined"
     ]
    }
   ],
   "source": [
    "arr19 =genfromtxt(r\"c:\\User\\Admin\\Desktop\\Marks.csv\",delimiter=\",\",dytpe=\"int\")"
   ]
  },
  {
   "cell_type": "code",
   "execution_count": 50,
   "id": "7f56123c-e471-499d-aac0-c473903b8d6a",
   "metadata": {},
   "outputs": [],
   "source": [
    "np.savetxt(\"array17.csv\",arr17,delimiter=\",\")"
   ]
  },
  {
   "cell_type": "code",
   "execution_count": 51,
   "id": "90411585-7fc9-4e0d-a4eb-791f9dcfef63",
   "metadata": {},
   "outputs": [],
   "source": [
    "np.save(\"arr17.npy\",arr17)"
   ]
  },
  {
   "cell_type": "code",
   "execution_count": 54,
   "id": "3c26f954-ee07-4021-b372-9052bbe2c602",
   "metadata": {},
   "outputs": [
    {
     "data": {
      "text/plain": [
       "array([-1.        , -0.95918367, -0.91836735, -0.87755102, -0.83673469,\n",
       "       -0.79591837, -0.75510204, -0.71428571, -0.67346939, -0.63265306,\n",
       "       -0.59183673, -0.55102041, -0.51020408, -0.46938776, -0.42857143,\n",
       "       -0.3877551 , -0.34693878, -0.30612245, -0.26530612, -0.2244898 ,\n",
       "       -0.18367347, -0.14285714, -0.10204082, -0.06122449, -0.02040816,\n",
       "        0.02040816,  0.06122449,  0.10204082,  0.14285714,  0.18367347,\n",
       "        0.2244898 ,  0.26530612,  0.30612245,  0.34693878,  0.3877551 ,\n",
       "        0.42857143,  0.46938776,  0.51020408,  0.55102041,  0.59183673,\n",
       "        0.63265306,  0.67346939,  0.71428571,  0.75510204,  0.79591837,\n",
       "        0.83673469,  0.87755102,  0.91836735,  0.95918367,  1.        ])"
      ]
     },
     "execution_count": 54,
     "metadata": {},
     "output_type": "execute_result"
    }
   ],
   "source": [
    "loading_array =np.load(\"arr17.npy\")\n",
    "loading_array"
   ]
  },
  {
   "cell_type": "code",
   "execution_count": 55,
   "id": "2a93dcd3-24de-4427-a641-93ad98e2748e",
   "metadata": {},
   "outputs": [
    {
     "data": {
      "text/plain": [
       "array([ 0,  1,  2,  3,  4,  5,  6,  7,  8,  9, 10, 11, 12, 13, 14, 15, 16,\n",
       "       17, 18, 19, 20, 21, 22, 23])"
      ]
     },
     "execution_count": 55,
     "metadata": {},
     "output_type": "execute_result"
    }
   ],
   "source": [
    "arr12 =arr12.ravel()\n",
    "arr12"
   ]
  },
  {
   "cell_type": "code",
   "execution_count": 56,
   "id": "5a801b48-35a1-4930-b764-de145f9c0a56",
   "metadata": {},
   "outputs": [
    {
     "data": {
      "text/plain": [
       "array([ 1,  2,  3,  4,  5,  6,  7,  8,  9, 10, 11, 12, 13, 14, 15, 16, 17,\n",
       "       18, 19, 20, 21, 22, 23, 24])"
      ]
     },
     "execution_count": 56,
     "metadata": {},
     "output_type": "execute_result"
    }
   ],
   "source": [
    "arr20=np.arange(1,25)\n",
    "arr20"
   ]
  },
  {
   "cell_type": "code",
   "execution_count": 60,
   "id": "9033e5e5-40ed-4b8f-b6c5-905471519ca4",
   "metadata": {},
   "outputs": [
    {
     "data": {
      "text/plain": [
       "array([[ 1,  2,  3,  4],\n",
       "       [ 5,  6,  7,  8],\n",
       "       [ 9, 10, 11, 12],\n",
       "       [13, 14, 15, 16],\n",
       "       [17, 18, 19, 20],\n",
       "       [21, 22, 23, 24]])"
      ]
     },
     "execution_count": 60,
     "metadata": {},
     "output_type": "execute_result"
    }
   ],
   "source": [
    "arr20.resize(6,4)\n",
    "arr20"
   ]
  },
  {
   "cell_type": "code",
   "execution_count": 61,
   "id": "7446e169-49ec-40d0-b466-5f3a725b90f7",
   "metadata": {},
   "outputs": [
    {
     "data": {
      "text/plain": [
       "array([17, 18, 19, 20])"
      ]
     },
     "execution_count": 61,
     "metadata": {},
     "output_type": "execute_result"
    }
   ],
   "source": [
    "arr20[4]"
   ]
  },
  {
   "cell_type": "code",
   "execution_count": 62,
   "id": "993d6d74-e9e2-4f9e-800d-6e8133f0bdf7",
   "metadata": {},
   "outputs": [
    {
     "data": {
      "text/plain": [
       "array([ 9, 10, 11, 12])"
      ]
     },
     "execution_count": 62,
     "metadata": {},
     "output_type": "execute_result"
    }
   ],
   "source": [
    "arr20[2]"
   ]
  },
  {
   "cell_type": "code",
   "execution_count": 63,
   "id": "e8c42b46-b4a5-4418-a390-0cd05bcc606a",
   "metadata": {},
   "outputs": [
    {
     "data": {
      "text/plain": [
       "19"
      ]
     },
     "execution_count": 63,
     "metadata": {},
     "output_type": "execute_result"
    }
   ],
   "source": [
    "arr20[4][2]"
   ]
  },
  {
   "cell_type": "code",
   "execution_count": 64,
   "id": "ed635de8-d681-4234-99f6-845999c7f00d",
   "metadata": {},
   "outputs": [
    {
     "data": {
      "text/plain": [
       "array([18, 19])"
      ]
     },
     "execution_count": 64,
     "metadata": {},
     "output_type": "execute_result"
    }
   ],
   "source": [
    "arr20[4][1:3]"
   ]
  },
  {
   "cell_type": "code",
   "execution_count": 66,
   "id": "345f400c-4376-4094-89e0-97e349458446",
   "metadata": {},
   "outputs": [
    {
     "data": {
      "text/plain": [
       "array([ 3,  7, 11, 15, 19, 23])"
      ]
     },
     "execution_count": 66,
     "metadata": {},
     "output_type": "execute_result"
    }
   ],
   "source": [
    "arr20[:,2]   #arr20[rows,coloum]"
   ]
  },
  {
   "cell_type": "code",
   "execution_count": 67,
   "id": "633334db-7aba-4afd-a0a0-920ae498e833",
   "metadata": {},
   "outputs": [
    {
     "data": {
      "text/plain": [
       "array([ 7, 11, 15])"
      ]
     },
     "execution_count": 67,
     "metadata": {},
     "output_type": "execute_result"
    }
   ],
   "source": [
    "arr20[:,2][1:4]"
   ]
  },
  {
   "cell_type": "code",
   "execution_count": 69,
   "id": "68544dde-3409-48e7-809f-ead1254795ef",
   "metadata": {},
   "outputs": [
    {
     "data": {
      "text/plain": [
       "array([[10, 11],\n",
       "       [14, 15]])"
      ]
     },
     "execution_count": 69,
     "metadata": {},
     "output_type": "execute_result"
    }
   ],
   "source": [
    "arr20[2:4,1:3]"
   ]
  },
  {
   "cell_type": "code",
   "execution_count": 70,
   "id": "f340b628-3563-4e8d-9046-74d930d4a5e9",
   "metadata": {},
   "outputs": [
    {
     "data": {
      "text/plain": [
       "array([[ 3,  4],\n",
       "       [ 7,  8],\n",
       "       [11, 12],\n",
       "       [15, 16]])"
      ]
     },
     "execution_count": 70,
     "metadata": {},
     "output_type": "execute_result"
    }
   ],
   "source": [
    "arr20[:4,2:]"
   ]
  },
  {
   "cell_type": "code",
   "execution_count": 71,
   "id": "bca1fe98-7c4c-4135-a890-3ab07cb6be41",
   "metadata": {},
   "outputs": [
    {
     "data": {
      "text/plain": [
       "array([[[ 1,  2,  3,  4],\n",
       "        [ 5,  6,  7,  8]],\n",
       "\n",
       "       [[ 9, 10, 11, 12],\n",
       "        [13, 14, 15, 16]],\n",
       "\n",
       "       [[17, 18, 19, 20],\n",
       "        [21, 22, 23, 24]]])"
      ]
     },
     "execution_count": 71,
     "metadata": {},
     "output_type": "execute_result"
    }
   ],
   "source": [
    "arr20.resize(3,2,4)\n",
    "arr20"
   ]
  },
  {
   "cell_type": "code",
   "execution_count": 72,
   "id": "cb71676e-1be7-4c5a-b487-12cb52cfbdf6",
   "metadata": {},
   "outputs": [
    {
     "data": {
      "text/plain": [
       "3"
      ]
     },
     "execution_count": 72,
     "metadata": {},
     "output_type": "execute_result"
    }
   ],
   "source": [
    "arr20[0][0][2]"
   ]
  },
  {
   "cell_type": "code",
   "execution_count": 73,
   "id": "959b14e1-7819-4849-a2b5-6829b7eb0193",
   "metadata": {},
   "outputs": [
    {
     "data": {
      "text/plain": [
       "array([[[ 1,  2,  3,  4],\n",
       "        [ 5,  6,  7,  8]],\n",
       "\n",
       "       [[ 9, 10, 11, 12],\n",
       "        [13, 14, 15, 16]],\n",
       "\n",
       "       [[17, 18, 19, 20],\n",
       "        [21, 22, 23, 24]]])"
      ]
     },
     "execution_count": 73,
     "metadata": {},
     "output_type": "execute_result"
    }
   ],
   "source": [
    "arr20"
   ]
  },
  {
   "cell_type": "code",
   "execution_count": 76,
   "id": "c3df3f71-3702-43a7-9fdd-5c45f88d5a39",
   "metadata": {},
   "outputs": [
    {
     "data": {
      "text/plain": [
       "3"
      ]
     },
     "execution_count": 76,
     "metadata": {},
     "output_type": "execute_result"
    }
   ],
   "source": [
    "arr20[0,0,2]"
   ]
  },
  {
   "cell_type": "code",
   "execution_count": 77,
   "id": "88be244b-f24b-47d9-b22a-12bf1c13b1ad",
   "metadata": {},
   "outputs": [
    {
     "data": {
      "text/plain": [
       "array([[10, 11],\n",
       "       [14, 15]])"
      ]
     },
     "execution_count": 77,
     "metadata": {},
     "output_type": "execute_result"
    }
   ],
   "source": [
    "arr20[1,:,1:3]"
   ]
  },
  {
   "cell_type": "code",
   "execution_count": 78,
   "id": "7dcf05ca-51e2-4e7f-b150-907a39e50ec4",
   "metadata": {},
   "outputs": [
    {
     "data": {
      "text/plain": [
       "array([[ 6,  7],\n",
       "       [14, 15],\n",
       "       [22, 23]])"
      ]
     },
     "execution_count": 78,
     "metadata": {},
     "output_type": "execute_result"
    }
   ],
   "source": [
    "arr20[0:,1,1:3]"
   ]
  },
  {
   "cell_type": "code",
   "execution_count": null,
   "id": "a3e1518e-b3f0-42ad-ba15-9051926e8ef0",
   "metadata": {},
   "outputs": [],
   "source": []
  },
  {
   "cell_type": "code",
   "execution_count": null,
   "id": "94849714-442c-4640-9223-6a7f9f9b1963",
   "metadata": {},
   "outputs": [],
   "source": []
  }
 ],
 "metadata": {
  "kernelspec": {
   "display_name": "Python 3 (ipykernel)",
   "language": "python",
   "name": "python3"
  },
  "language_info": {
   "codemirror_mode": {
    "name": "ipython",
    "version": 3
   },
   "file_extension": ".py",
   "mimetype": "text/x-python",
   "name": "python",
   "nbconvert_exporter": "python",
   "pygments_lexer": "ipython3",
   "version": "3.12.0"
  }
 },
 "nbformat": 4,
 "nbformat_minor": 5
}
