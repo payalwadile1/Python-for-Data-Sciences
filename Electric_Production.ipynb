{
 "cells": [
  {
   "cell_type": "code",
   "execution_count": 1,
   "id": "a8540d98-4615-4eff-8fad-bd6f7e147f30",
   "metadata": {},
   "outputs": [],
   "source": [
    "import numpy as np\n",
    "import pandas as pd\n",
    "import matplotlib.pyplot as plt\n",
    "import seaborn as sns\n",
    "import tensorflow as tf\n",
    "from tensorflow.keras.preprocessing.text import Tokenizer\n",
    "from tensorflow.keras.preprocessing import sequence\n",
    "from tensorflow.keras.models import Sequential\n",
    "from tensorflow.keras.layers import Embedding,SimpleRNN, Dense\n",
    "import warnings\n",
    "warnings.filterwarnings(\"ignore\")"
   ]
  },
  {
   "cell_type": "code",
   "execution_count": 2,
   "id": "bce35d3d-c83f-4dd9-af76-8328f7a9a429",
   "metadata": {},
   "outputs": [],
   "source": [
    "df = pd.read_csv(\"Electric_Production.csv\")"
   ]
  },
  {
   "cell_type": "code",
   "execution_count": 3,
   "id": "ce873f1a-9cc8-43a8-a8ac-06d3ee42ebf9",
   "metadata": {},
   "outputs": [
    {
     "data": {
      "text/html": [
       "<div>\n",
       "<style scoped>\n",
       "    .dataframe tbody tr th:only-of-type {\n",
       "        vertical-align: middle;\n",
       "    }\n",
       "\n",
       "    .dataframe tbody tr th {\n",
       "        vertical-align: top;\n",
       "    }\n",
       "\n",
       "    .dataframe thead th {\n",
       "        text-align: right;\n",
       "    }\n",
       "</style>\n",
       "<table border=\"1\" class=\"dataframe\">\n",
       "  <thead>\n",
       "    <tr style=\"text-align: right;\">\n",
       "      <th></th>\n",
       "      <th>DATE</th>\n",
       "      <th>IPG2211A2N</th>\n",
       "    </tr>\n",
       "  </thead>\n",
       "  <tbody>\n",
       "    <tr>\n",
       "      <th>0</th>\n",
       "      <td>1/1/1985</td>\n",
       "      <td>72.5052</td>\n",
       "    </tr>\n",
       "    <tr>\n",
       "      <th>1</th>\n",
       "      <td>2/1/1985</td>\n",
       "      <td>70.6720</td>\n",
       "    </tr>\n",
       "    <tr>\n",
       "      <th>2</th>\n",
       "      <td>3/1/1985</td>\n",
       "      <td>62.4502</td>\n",
       "    </tr>\n",
       "    <tr>\n",
       "      <th>3</th>\n",
       "      <td>4/1/1985</td>\n",
       "      <td>57.4714</td>\n",
       "    </tr>\n",
       "    <tr>\n",
       "      <th>4</th>\n",
       "      <td>5/1/1985</td>\n",
       "      <td>55.3151</td>\n",
       "    </tr>\n",
       "  </tbody>\n",
       "</table>\n",
       "</div>"
      ],
      "text/plain": [
       "       DATE  IPG2211A2N\n",
       "0  1/1/1985     72.5052\n",
       "1  2/1/1985     70.6720\n",
       "2  3/1/1985     62.4502\n",
       "3  4/1/1985     57.4714\n",
       "4  5/1/1985     55.3151"
      ]
     },
     "execution_count": 3,
     "metadata": {},
     "output_type": "execute_result"
    }
   ],
   "source": [
    "df.head()"
   ]
  },
  {
   "cell_type": "markdown",
   "id": "16dba235-1037-44cf-a890-31f421abdab7",
   "metadata": {},
   "source": [
    " #### The structure of the data, with columns 'Date' and 'Electric_Production',\n",
    " #### and some sample values. "
   ]
  },
  {
   "cell_type": "code",
   "execution_count": 4,
   "id": "6b78aa9b-31c6-4a4e-a611-630becdb78f9",
   "metadata": {},
   "outputs": [],
   "source": [
    "df = pd.read_csv(\"Electric_Production.csv\", index_col=\"DATE\", parse_dates=True)"
   ]
  },
  {
   "cell_type": "code",
   "execution_count": 5,
   "id": "d28bac01-c170-4e19-a343-5d507773258d",
   "metadata": {},
   "outputs": [
    {
     "data": {
      "text/html": [
       "<div>\n",
       "<style scoped>\n",
       "    .dataframe tbody tr th:only-of-type {\n",
       "        vertical-align: middle;\n",
       "    }\n",
       "\n",
       "    .dataframe tbody tr th {\n",
       "        vertical-align: top;\n",
       "    }\n",
       "\n",
       "    .dataframe thead th {\n",
       "        text-align: right;\n",
       "    }\n",
       "</style>\n",
       "<table border=\"1\" class=\"dataframe\">\n",
       "  <thead>\n",
       "    <tr style=\"text-align: right;\">\n",
       "      <th></th>\n",
       "      <th>IPG2211A2N</th>\n",
       "    </tr>\n",
       "    <tr>\n",
       "      <th>DATE</th>\n",
       "      <th></th>\n",
       "    </tr>\n",
       "  </thead>\n",
       "  <tbody>\n",
       "    <tr>\n",
       "      <th>1985-01-01</th>\n",
       "      <td>72.5052</td>\n",
       "    </tr>\n",
       "    <tr>\n",
       "      <th>1985-02-01</th>\n",
       "      <td>70.6720</td>\n",
       "    </tr>\n",
       "    <tr>\n",
       "      <th>1985-03-01</th>\n",
       "      <td>62.4502</td>\n",
       "    </tr>\n",
       "    <tr>\n",
       "      <th>1985-04-01</th>\n",
       "      <td>57.4714</td>\n",
       "    </tr>\n",
       "    <tr>\n",
       "      <th>1985-05-01</th>\n",
       "      <td>55.3151</td>\n",
       "    </tr>\n",
       "  </tbody>\n",
       "</table>\n",
       "</div>"
      ],
      "text/plain": [
       "            IPG2211A2N\n",
       "DATE                  \n",
       "1985-01-01     72.5052\n",
       "1985-02-01     70.6720\n",
       "1985-03-01     62.4502\n",
       "1985-04-01     57.4714\n",
       "1985-05-01     55.3151"
      ]
     },
     "execution_count": 5,
     "metadata": {},
     "output_type": "execute_result"
    }
   ],
   "source": [
    "df.head()"
   ]
  },
  {
   "cell_type": "code",
   "execution_count": 6,
   "id": "4391dbe5-1a0e-44cd-a393-ac273d9cafca",
   "metadata": {},
   "outputs": [
    {
     "data": {
      "text/html": [
       "<div>\n",
       "<style scoped>\n",
       "    .dataframe tbody tr th:only-of-type {\n",
       "        vertical-align: middle;\n",
       "    }\n",
       "\n",
       "    .dataframe tbody tr th {\n",
       "        vertical-align: top;\n",
       "    }\n",
       "\n",
       "    .dataframe thead th {\n",
       "        text-align: right;\n",
       "    }\n",
       "</style>\n",
       "<table border=\"1\" class=\"dataframe\">\n",
       "  <thead>\n",
       "    <tr style=\"text-align: right;\">\n",
       "      <th></th>\n",
       "      <th>IPG2211A2N</th>\n",
       "    </tr>\n",
       "    <tr>\n",
       "      <th>DATE</th>\n",
       "      <th></th>\n",
       "    </tr>\n",
       "  </thead>\n",
       "  <tbody>\n",
       "    <tr>\n",
       "      <th>1985-01-01</th>\n",
       "      <td>72.5052</td>\n",
       "    </tr>\n",
       "    <tr>\n",
       "      <th>1985-02-01</th>\n",
       "      <td>70.6720</td>\n",
       "    </tr>\n",
       "    <tr>\n",
       "      <th>1985-03-01</th>\n",
       "      <td>62.4502</td>\n",
       "    </tr>\n",
       "    <tr>\n",
       "      <th>1985-04-01</th>\n",
       "      <td>57.4714</td>\n",
       "    </tr>\n",
       "    <tr>\n",
       "      <th>1985-05-01</th>\n",
       "      <td>55.3151</td>\n",
       "    </tr>\n",
       "    <tr>\n",
       "      <th>1985-06-01</th>\n",
       "      <td>58.0904</td>\n",
       "    </tr>\n",
       "    <tr>\n",
       "      <th>1985-07-01</th>\n",
       "      <td>62.6202</td>\n",
       "    </tr>\n",
       "    <tr>\n",
       "      <th>1985-08-01</th>\n",
       "      <td>63.2485</td>\n",
       "    </tr>\n",
       "    <tr>\n",
       "      <th>1985-09-01</th>\n",
       "      <td>60.5846</td>\n",
       "    </tr>\n",
       "    <tr>\n",
       "      <th>1985-10-01</th>\n",
       "      <td>56.3154</td>\n",
       "    </tr>\n",
       "    <tr>\n",
       "      <th>1985-11-01</th>\n",
       "      <td>58.0005</td>\n",
       "    </tr>\n",
       "    <tr>\n",
       "      <th>1985-12-01</th>\n",
       "      <td>68.7145</td>\n",
       "    </tr>\n",
       "    <tr>\n",
       "      <th>1986-01-01</th>\n",
       "      <td>73.3057</td>\n",
       "    </tr>\n",
       "    <tr>\n",
       "      <th>1986-02-01</th>\n",
       "      <td>67.9869</td>\n",
       "    </tr>\n",
       "    <tr>\n",
       "      <th>1986-03-01</th>\n",
       "      <td>62.2221</td>\n",
       "    </tr>\n",
       "    <tr>\n",
       "      <th>1986-04-01</th>\n",
       "      <td>57.0329</td>\n",
       "    </tr>\n",
       "    <tr>\n",
       "      <th>1986-05-01</th>\n",
       "      <td>55.8137</td>\n",
       "    </tr>\n",
       "    <tr>\n",
       "      <th>1986-06-01</th>\n",
       "      <td>59.9005</td>\n",
       "    </tr>\n",
       "    <tr>\n",
       "      <th>1986-07-01</th>\n",
       "      <td>65.7655</td>\n",
       "    </tr>\n",
       "    <tr>\n",
       "      <th>1986-08-01</th>\n",
       "      <td>64.4816</td>\n",
       "    </tr>\n",
       "    <tr>\n",
       "      <th>1986-09-01</th>\n",
       "      <td>61.0005</td>\n",
       "    </tr>\n",
       "    <tr>\n",
       "      <th>1986-10-01</th>\n",
       "      <td>57.5322</td>\n",
       "    </tr>\n",
       "    <tr>\n",
       "      <th>1986-11-01</th>\n",
       "      <td>59.3417</td>\n",
       "    </tr>\n",
       "    <tr>\n",
       "      <th>1986-12-01</th>\n",
       "      <td>68.1354</td>\n",
       "    </tr>\n",
       "  </tbody>\n",
       "</table>\n",
       "</div>"
      ],
      "text/plain": [
       "            IPG2211A2N\n",
       "DATE                  \n",
       "1985-01-01     72.5052\n",
       "1985-02-01     70.6720\n",
       "1985-03-01     62.4502\n",
       "1985-04-01     57.4714\n",
       "1985-05-01     55.3151\n",
       "1985-06-01     58.0904\n",
       "1985-07-01     62.6202\n",
       "1985-08-01     63.2485\n",
       "1985-09-01     60.5846\n",
       "1985-10-01     56.3154\n",
       "1985-11-01     58.0005\n",
       "1985-12-01     68.7145\n",
       "1986-01-01     73.3057\n",
       "1986-02-01     67.9869\n",
       "1986-03-01     62.2221\n",
       "1986-04-01     57.0329\n",
       "1986-05-01     55.8137\n",
       "1986-06-01     59.9005\n",
       "1986-07-01     65.7655\n",
       "1986-08-01     64.4816\n",
       "1986-09-01     61.0005\n",
       "1986-10-01     57.5322\n",
       "1986-11-01     59.3417\n",
       "1986-12-01     68.1354"
      ]
     },
     "execution_count": 6,
     "metadata": {},
     "output_type": "execute_result"
    }
   ],
   "source": [
    "df[\"1985\":\"1986\"]"
   ]
  },
  {
   "cell_type": "markdown",
   "id": "b0aa2967-4817-4ae1-89f3-5e219553b5e9",
   "metadata": {},
   "source": [
    "#### DataFrame based on a range of index labels, particularly useful for time series data where \n",
    "### the index represents time intervals such as years."
   ]
  },
  {
   "cell_type": "code",
   "execution_count": 7,
   "id": "966b251a-096e-4d9f-ad21-b05675d2b0a7",
   "metadata": {},
   "outputs": [
    {
     "data": {
      "image/png": "[encoded data removed]",
      "text/plain": [
       "<Figure size 1200x400 with 1 Axes>"
      ]
     },
     "metadata": {},
     "output_type": "display_data"
    }
   ],
   "source": [
    "df.plot(figsize=(12,4), xlabel=\"Date\", ylabel=\"Production\", title=\"Electric_Production\")\n",
    "plt.grid(axis=\"x\")\n",
    "plt.show()"
   ]
  },
  {
   "cell_type": "markdown",
   "id": "cba08543-0ba4-4592-9693-53420f225db6",
   "metadata": {},
   "source": [
    "####  electric production over time, visualizing the data can help\n",
    "### identify trends, patterns, and anomalies. "
   ]
  },
  {
   "cell_type": "code",
   "execution_count": 8,
   "id": "0398407f-740e-4790-b3bb-7b3682bd9c9c",
   "metadata": {},
   "outputs": [],
   "source": [
    "from statsmodels.tsa.seasonal import seasonal_decompose"
   ]
  },
  {
   "cell_type": "code",
   "execution_count": 9,
   "id": "73855e0f-ebf5-4596-b006-f19a395a6d7c",
   "metadata": {},
   "outputs": [],
   "source": [
    "result = seasonal_decompose(df)"
   ]
  },
  {
   "cell_type": "code",
   "execution_count": 10,
   "id": "a8abf786-dac1-4bab-b27a-b78f5f5d67a2",
   "metadata": {},
   "outputs": [
    {
     "data": {
      "image/png": "[encoded data removed]",
      "text/plain": [
       "<Figure size 640x480 with 4 Axes>"
      ]
     },
     "metadata": {},
     "output_type": "display_data"
    }
   ],
   "source": [
    "result.plot();"
   ]
  },
  {
   "cell_type": "markdown",
   "id": "cf1f9630-5cdd-47d4-ba0f-8640cff6a4e1",
   "metadata": {},
   "source": [
    "#### The electric production data, decompose the time series into its trend, seasonal,\n",
    "#### and residual components, and plot these components to help understand \n",
    "#### the underlying patterns in the data."
   ]
  },
  {
   "cell_type": "code",
   "execution_count": 11,
   "id": "e84c709e-2021-422f-b3a6-dcf0a974387d",
   "metadata": {},
   "outputs": [
    {
     "data": {
      "text/plain": [
       "397"
      ]
     },
     "execution_count": 11,
     "metadata": {},
     "output_type": "execute_result"
    }
   ],
   "source": [
    "len(df)"
   ]
  },
  {
   "cell_type": "code",
   "execution_count": 12,
   "id": "a03c080b-9da3-4ece-8fc2-6edc308e36fb",
   "metadata": {},
   "outputs": [
    {
     "data": {
      "text/plain": [
       "33.083333333333336"
      ]
     },
     "execution_count": 12,
     "metadata": {},
     "output_type": "execute_result"
    }
   ],
   "source": [
    "len(df)/12"
   ]
  },
  {
   "cell_type": "code",
   "execution_count": 13,
   "id": "06955f10-a88d-4568-8e89-f995de12b51d",
   "metadata": {},
   "outputs": [
    {
     "data": {
      "text/plain": [
       "(385, 1)"
      ]
     },
     "execution_count": 13,
     "metadata": {},
     "output_type": "execute_result"
    }
   ],
   "source": [
    "train = df.iloc[:len(df)-12]\n",
    "train.shape"
   ]
  },
  {
   "cell_type": "code",
   "execution_count": 14,
   "id": "091543a5-8774-45fd-8103-308aef5e2825",
   "metadata": {},
   "outputs": [
    {
     "data": {
      "text/plain": [
       "(12, 1)"
      ]
     },
     "execution_count": 14,
     "metadata": {},
     "output_type": "execute_result"
    }
   ],
   "source": [
    "test = df.iloc[len(df)-12:]\n",
    "test.shape"
   ]
  },
  {
   "cell_type": "code",
   "execution_count": 15,
   "id": "2d57f562-7064-4697-ba28-8a5c944aba9f",
   "metadata": {},
   "outputs": [
    {
     "data": {
      "text/plain": [
       "(IPG2211A2N    72.5052\n",
       " Name: 1985-01-01 00:00:00, dtype: float64,\n",
       " IPG2211A2N    114.8505\n",
       " Name: 2017-01-01 00:00:00, dtype: float64)"
      ]
     },
     "execution_count": 15,
     "metadata": {},
     "output_type": "execute_result"
    }
   ],
   "source": [
    "train.iloc[0], train.iloc[-1]"
   ]
  },
  {
   "cell_type": "markdown",
   "id": "45cda52c-c2c8-4b8f-a0d2-7783249a7cec",
   "metadata": {},
   "source": [
    "#### train.iloc[0] retrieves and prints the first row of the DataFrame, \n",
    "#### while train.iloc[-1] retrieves and prints the last row. \n",
    "#### This helps to quickly assess the content and structure of the datase"
   ]
  },
  {
   "cell_type": "code",
   "execution_count": 16,
   "id": "3c166f3f-284f-4b12-b191-70924d8bed63",
   "metadata": {},
   "outputs": [],
   "source": [
    "from sklearn.preprocessing import MinMaxScaler"
   ]
  },
  {
   "cell_type": "code",
   "execution_count": 17,
   "id": "260085b0-6053-4f3d-9959-35767aa81b30",
   "metadata": {},
   "outputs": [],
   "source": [
    "scaler = MinMaxScaler()"
   ]
  },
  {
   "cell_type": "code",
   "execution_count": 18,
   "id": "878b2ad0-5950-4a14-992a-f3b13d39d510",
   "metadata": {},
   "outputs": [
    {
     "data": {
      "text/html": [
       "<style>#sk-container-id-1 {color: black;}#sk-container-id-1 pre{padding: 0;}#sk-container-id-1 div.sk-toggleable {background-color: white;}#sk-container-id-1 label.sk-toggleable__label {cursor: pointer;display: block;width: 100%;margin-bottom: 0;padding: 0.3em;box-sizing: border-box;text-align: center;}#sk-container-id-1 label.sk-toggleable__label-arrow:before {content: \"▸\";float: left;margin-right: 0.25em;color: #696969;}#sk-container-id-1 label.sk-toggleable__label-arrow:hover:before {color: black;}#sk-container-id-1 div.sk-estimator:hover label.sk-toggleable__label-arrow:before {color: black;}#sk-container-id-1 div.sk-toggleable__content {max-height: 0;max-width: 0;overflow: hidden;text-align: left;background-color: #f0f8ff;}#sk-container-id-1 div.sk-toggleable__content pre {margin: 0.2em;color: black;border-radius: 0.25em;background-color: #f0f8ff;}#sk-container-id-1 input.sk-toggleable__control:checked~div.sk-toggleable__content {max-height: 200px;max-width: 100%;overflow: auto;}#sk-container-id-1 input.sk-toggleable__control:checked~label.sk-toggleable__label-arrow:before {content: \"▾\";}#sk-container-id-1 div.sk-estimator input.sk-toggleable__control:checked~label.sk-toggleable__label {background-color: #d4ebff;}#sk-container-id-1 div.sk-label input.sk-toggleable__control:checked~label.sk-toggleable__label {background-color: #d4ebff;}#sk-container-id-1 input.sk-hidden--visually {border: 0;clip: rect(1px 1px 1px 1px);clip: rect(1px, 1px, 1px, 1px);height: 1px;margin: -1px;overflow: hidden;padding: 0;position: absolute;width: 1px;}#sk-container-id-1 div.sk-estimator {font-family: monospace;background-color: #f0f8ff;border: 1px dotted black;border-radius: 0.25em;box-sizing: border-box;margin-bottom: 0.5em;}#sk-container-id-1 div.sk-estimator:hover {background-color: #d4ebff;}#sk-container-id-1 div.sk-parallel-item::after {content: \"\";width: 100%;border-bottom: 1px solid gray;flex-grow: 1;}#sk-container-id-1 div.sk-label:hover label.sk-toggleable__label {background-color: #d4ebff;}#sk-container-id-1 div.sk-serial::before {content: \"\";position: absolute;border-left: 1px solid gray;box-sizing: border-box;top: 0;bottom: 0;left: 50%;z-index: 0;}#sk-container-id-1 div.sk-serial {display: flex;flex-direction: column;align-items: center;background-color: white;padding-right: 0.2em;padding-left: 0.2em;position: relative;}#sk-container-id-1 div.sk-item {position: relative;z-index: 1;}#sk-container-id-1 div.sk-parallel {display: flex;align-items: stretch;justify-content: center;background-color: white;position: relative;}#sk-container-id-1 div.sk-item::before, #sk-container-id-1 div.sk-parallel-item::before {content: \"\";position: absolute;border-left: 1px solid gray;box-sizing: border-box;top: 0;bottom: 0;left: 50%;z-index: -1;}#sk-container-id-1 div.sk-parallel-item {display: flex;flex-direction: column;z-index: 1;position: relative;background-color: white;}#sk-container-id-1 div.sk-parallel-item:first-child::after {align-self: flex-end;width: 50%;}#sk-container-id-1 div.sk-parallel-item:last-child::after {align-self: flex-start;width: 50%;}#sk-container-id-1 div.sk-parallel-item:only-child::after {width: 0;}#sk-container-id-1 div.sk-dashed-wrapped {border: 1px dashed gray;margin: 0 0.4em 0.5em 0.4em;box-sizing: border-box;padding-bottom: 0.4em;background-color: white;}#sk-container-id-1 div.sk-label label {font-family: monospace;font-weight: bold;display: inline-block;line-height: 1.2em;}#sk-container-id-1 div.sk-label-container {text-align: center;}#sk-container-id-1 div.sk-container {/* jupyter's `normalize.less` sets `[hidden] { display: none; }` but bootstrap.min.css set `[hidden] { display: none !important; }` so we also need the `!important` here to be able to override the default hidden behavior on the sphinx rendered scikit-learn.org. See: https://github.com/scikit-learn/scikit-learn/issues/21755 */display: inline-block !important;position: relative;}#sk-container-id-1 div.sk-text-repr-fallback {display: none;}</style><div id=\"sk-container-id-1\" class=\"sk-top-container\"><div class=\"sk-text-repr-fallback\"><pre>MinMaxScaler()</pre><b>In a Jupyter environment, please rerun this cell to show the HTML representation or trust the notebook. <br />On GitHub, the HTML representation is unable to render, please try loading this page with nbviewer.org.</b></div><div class=\"sk-container\" hidden><div class=\"sk-item\"><div class=\"sk-estimator sk-toggleable\"><input class=\"sk-toggleable__control sk-hidden--visually\" id=\"sk-estimator-id-1\" type=\"checkbox\" checked><label for=\"sk-estimator-id-1\" class=\"sk-toggleable__label sk-toggleable__label-arrow\">MinMaxScaler</label><div class=\"sk-toggleable__content\"><pre>MinMaxScaler()</pre></div></div></div></div></div>"
      ],
      "text/plain": [
       "MinMaxScaler()"
      ]
     },
     "execution_count": 18,
     "metadata": {},
     "output_type": "execute_result"
    }
   ],
   "source": [
    "scaler.fit(train)"
   ]
  },
  {
   "cell_type": "code",
   "execution_count": 19,
   "id": "d642c4bd-c95a-4164-b509-fdb2d3bf029c",
   "metadata": {},
   "outputs": [],
   "source": [
    "scaled_train = scaler.transform(train)\n",
    "scaled_test = scaler.transform(test)"
   ]
  },
  {
   "cell_type": "code",
   "execution_count": 20,
   "id": "dcd65b08-889d-4ca8-a10e-53ef41c60d82",
   "metadata": {},
   "outputs": [
    {
     "data": {
      "text/plain": [
       "array([[0.64077645],\n",
       "       [0.66325258],\n",
       "       [0.47922825],\n",
       "       [0.53329717],\n",
       "       [0.6794058 ],\n",
       "       [0.82446859],\n",
       "       [0.77772346],\n",
       "       [0.62808856],\n",
       "       [0.55553686],\n",
       "       [0.60952889]])"
      ]
     },
     "execution_count": 20,
     "metadata": {},
     "output_type": "execute_result"
    }
   ],
   "source": [
    "scaled_test[:10]"
   ]
  },
  {
   "cell_type": "code",
   "execution_count": 21,
   "id": "e0ea6961-48dc-48f3-9495-6b382d44787e",
   "metadata": {},
   "outputs": [
    {
     "data": {
      "text/plain": [
       "array([[0.40176212],\n",
       "       [0.30218393],\n",
       "       [0.26881424],\n",
       "       [0.35464855],\n",
       "       [0.48066284],\n",
       "       [0.47095727],\n",
       "       [0.38618476],\n",
       "       [0.32184021],\n",
       "       [0.38772523],\n",
       "       [0.53359453],\n",
       "       [0.57262858],\n",
       "       [0.47149687],\n",
       "       [0.45314608],\n",
       "       [0.31095245],\n",
       "       [0.32949327],\n",
       "       [0.45173905],\n",
       "       [0.55878897],\n",
       "       [0.55433726],\n",
       "       [0.46745566],\n",
       "       [0.35940487],\n",
       "       [0.37887838],\n",
       "       [0.52754722],\n",
       "       [0.6791389 ],\n",
       "       [0.52027711],\n",
       "       [0.51382511],\n",
       "       [0.36557257],\n",
       "       [0.34919742],\n",
       "       [0.47183195],\n",
       "       [0.61176853],\n",
       "       [0.59618102],\n",
       "       [0.46286325],\n",
       "       [0.36736109],\n",
       "       [0.39001274],\n",
       "       [0.56855691],\n",
       "       [0.68052127],\n",
       "       [0.56547597],\n",
       "       [0.4754525 ],\n",
       "       [0.37898862],\n",
       "       [0.42268907],\n",
       "       [0.51821299],\n",
       "       [0.59008874],\n",
       "       [0.63904015],\n",
       "       [0.51643173],\n",
       "       [0.40362316],\n",
       "       [0.47470257],\n",
       "       [0.68379514],\n",
       "       [0.78028947],\n",
       "       [0.60714711],\n",
       "       [0.54414431],\n",
       "       [0.40034784],\n",
       "       [0.3950026 ],\n",
       "       [0.50885555],\n",
       "       [0.59122452],\n",
       "       [0.64169464],\n",
       "       [0.47818386],\n",
       "       [0.3970261 ],\n",
       "       [0.40059298],\n",
       "       [0.54718755],\n",
       "       [0.69162371],\n",
       "       [0.57865558],\n",
       "       [0.55034247],\n",
       "       [0.44212342],\n",
       "       [0.43400184],\n",
       "       [0.54938512],\n",
       "       [0.6828842 ],\n",
       "       [0.67180642],\n",
       "       [0.55111561],\n",
       "       [0.4581548 ],\n",
       "       [0.482447  ],\n",
       "       [0.65978143],\n",
       "       [0.79584797],\n",
       "       [0.70389238],\n",
       "       [0.56916469],\n",
       "       [0.43149095],\n",
       "       [0.43734098],\n",
       "       [0.51872793],\n",
       "       [0.68037476],\n",
       "       [0.71298582],\n",
       "       [0.54538017],\n",
       "       [0.45241791],\n",
       "       [0.4824267 ],\n",
       "       [0.69956252],\n",
       "       [0.84722468],\n",
       "       [0.73751157],\n",
       "       [0.58148994],\n",
       "       [0.45558879],\n",
       "       [0.48905132],\n",
       "       [0.58296369],\n",
       "       [0.67420706],\n",
       "       [0.6511101 ],\n",
       "       [0.56148843],\n",
       "       [0.46723518],\n",
       "       [0.49752538],\n",
       "       [0.73123508],\n",
       "       [0.81007343],\n",
       "       [0.67398513],\n",
       "       [0.63303636],\n",
       "       [0.45202481],\n",
       "       [0.46284294],\n",
       "       [0.64103029],\n",
       "       [0.76929437],\n",
       "       [0.78577397],\n",
       "       [0.63534272],\n",
       "       [0.4995895 ],\n",
       "       [0.50977229],\n",
       "       [0.7674899 ],\n",
       "       [0.71304675],\n",
       "       [0.67021517],\n",
       "       [0.62498876],\n",
       "       [0.46699004],\n",
       "       [0.50344068],\n",
       "       [0.65577939],\n",
       "       [0.80701133],\n",
       "       [0.81526346],\n",
       "       [0.58671624],\n",
       "       [0.50854078],\n",
       "       [0.53730211],\n",
       "       [0.69264634],\n",
       "       [0.82307317],\n",
       "       [0.81991535],\n",
       "       [0.63645964],\n",
       "       [0.51497974],\n",
       "       [0.53298095],\n",
       "       [0.66220819],\n",
       "       [0.75795839],\n",
       "       [0.85275124],\n",
       "       [0.67038924],\n",
       "       [0.54673353],\n",
       "       [0.55987253],\n",
       "       [0.74612488],\n",
       "       [0.86333294],\n",
       "       [0.76762915],\n",
       "       [0.65453483],\n",
       "       [0.51754284],\n",
       "       [0.52102994],\n",
       "       [0.70558661],\n",
       "       [0.80429592],\n",
       "       [0.75792793],\n",
       "       [0.61507576],\n",
       "       [0.51759361],\n",
       "       [0.5583219 ],\n",
       "       [0.78484417],\n",
       "       [0.892322  ],\n",
       "       [0.71228956],\n",
       "       [0.61702819],\n",
       "       [0.47696976],\n",
       "       [0.46738604],\n",
       "       [0.60811897],\n",
       "       [0.7048686 ],\n",
       "       [0.73155855],\n",
       "       [0.57393842],\n",
       "       [0.49293151],\n",
       "       [0.49381344],\n",
       "       [0.80315435],\n",
       "       [0.92401632],\n",
       "       [0.80095823],\n",
       "       [0.62303778],\n",
       "       [0.44944865],\n",
       "       [0.51525099],\n",
       "       [0.7113264 ],\n",
       "       [0.83393773],\n",
       "       [0.83531284],\n",
       "       [0.64992646],\n",
       "       [0.4875268 ],\n",
       "       [0.54337117],\n",
       "       [0.85598595],\n",
       "       [0.93085417],\n",
       "       [0.7551545 ],\n",
       "       [0.6351585 ],\n",
       "       [0.49381054],\n",
       "       [0.50413114],\n",
       "       [0.68908381],\n",
       "       [0.8615009 ],\n",
       "       [0.84538539],\n",
       "       [0.64050229],\n",
       "       [0.50829129],\n",
       "       [0.55837702],\n",
       "       [0.75451481],\n",
       "       [0.82172417],\n",
       "       [0.69702552],\n",
       "       [0.55500741],\n",
       "       [0.46767615],\n",
       "       [0.54315794],\n",
       "       [0.66470892],\n",
       "       [0.83726091],\n",
       "       [0.79119754],\n",
       "       [0.60093009],\n",
       "       [0.50863797],\n",
       "       [0.5660968 ],\n",
       "       [0.72464817],\n",
       "       [0.8730211 ],\n",
       "       [0.74585218],\n",
       "       [0.69161355],\n",
       "       [0.51775752],\n",
       "       [0.51709317],\n",
       "       [0.65826417],\n",
       "       [0.79537364],\n",
       "       [0.76676318],\n",
       "       [0.63774191],\n",
       "       [0.52904128],\n",
       "       [0.60879492],\n",
       "       [0.84360703],\n",
       "       [1.        ],\n",
       "       [0.83501838],\n",
       "       [0.71726347],\n",
       "       [0.50727736],\n",
       "       [0.53407321],\n",
       "       [0.67541391],\n",
       "       [0.77218965],\n",
       "       [0.76703008],\n",
       "       [0.65422441],\n",
       "       [0.53769521],\n",
       "       [0.643869  ],\n",
       "       [0.78376497],\n",
       "       [0.94219159],\n",
       "       [0.88575395],\n",
       "       [0.71302064],\n",
       "       [0.49943574],\n",
       "       [0.51897308],\n",
       "       [0.68660483],\n",
       "       [0.81694899],\n",
       "       [0.8018213 ],\n",
       "       [0.67602894],\n",
       "       [0.52626785],\n",
       "       [0.54754583],\n",
       "       [0.69488452],\n",
       "       [0.89597881],\n",
       "       [0.74490643],\n",
       "       [0.58079223],\n",
       "       [0.49333331],\n",
       "       [0.5138077 ],\n",
       "       [0.70673834],\n",
       "       [0.85907705],\n",
       "       [0.87323723],\n",
       "       [0.68826135],\n",
       "       [0.52468385],\n",
       "       [0.5450393 ],\n",
       "       [0.83339812],\n",
       "       [0.86358533]])"
      ]
     },
     "execution_count": 21,
     "metadata": {},
     "output_type": "execute_result"
    }
   ],
   "source": [
    "scaled_train[146:]"
   ]
  },
  {
   "cell_type": "code",
   "execution_count": 22,
   "id": "cb839573-96f1-4096-8e76-6e7eba7bf5ea",
   "metadata": {},
   "outputs": [],
   "source": [
    "from tensorflow.keras.preprocessing.sequence import TimeseriesGenerator"
   ]
  },
  {
   "cell_type": "code",
   "execution_count": 23,
   "id": "e629a46e-fe07-4a16-8270-b4452878039c",
   "metadata": {},
   "outputs": [],
   "source": [
    "months = 12"
   ]
  },
  {
   "cell_type": "code",
   "execution_count": 24,
   "id": "d740720a-8478-41b8-91a0-86ad2d751151",
   "metadata": {},
   "outputs": [],
   "source": [
    "generator = TimeseriesGenerator(scaled_train, scaled_train, length=months, batch_size=1)"
   ]
  },
  {
   "cell_type": "code",
   "execution_count": 25,
   "id": "baa27b35-0bca-43d3-a756-fdf8b8d3b7af",
   "metadata": {},
   "outputs": [
    {
     "name": "stdout",
     "output_type": "stream",
     "text": [
      "<class 'pandas.core.frame.DataFrame'>\n",
      "DatetimeIndex: 397 entries, 1985-01-01 to 2018-01-01\n",
      "Data columns (total 1 columns):\n",
      " #   Column      Non-Null Count  Dtype  \n",
      "---  ------      --------------  -----  \n",
      " 0   IPG2211A2N  397 non-null    float64\n",
      "dtypes: float64(1)\n",
      "memory usage: 22.4 KB\n"
     ]
    }
   ],
   "source": [
    "df.info()"
   ]
  },
  {
   "cell_type": "code",
   "execution_count": 26,
   "id": "39a7fb8b-05ef-4552-ba90-c3012d4470e6",
   "metadata": {},
   "outputs": [],
   "source": [
    "x, y = generator[0]"
   ]
  },
  {
   "cell_type": "code",
   "execution_count": 27,
   "id": "b01518a3-e005-4bac-abe2-6fb7e338d813",
   "metadata": {},
   "outputs": [
    {
     "data": {
      "text/plain": [
       "(array([[[0.24934943],\n",
       "         [0.22275812],\n",
       "         [0.10349754],\n",
       "         [0.03127801],\n",
       "         [0.        ],\n",
       "         [0.04025686],\n",
       "         [0.10596346],\n",
       "         [0.11507721],\n",
       "         [0.07643625],\n",
       "         [0.01450976],\n",
       "         [0.03895283],\n",
       "         [0.19436378]]]),\n",
       " array([[0.26096101]]))"
      ]
     },
     "execution_count": 27,
     "metadata": {},
     "output_type": "execute_result"
    }
   ],
   "source": [
    "x, y"
   ]
  },
  {
   "cell_type": "code",
   "execution_count": 28,
   "id": "49ae10f0-afad-423b-9239-9d36c37461a5",
   "metadata": {},
   "outputs": [],
   "source": [
    " x2, y2 = generator[2]"
   ]
  },
  {
   "cell_type": "code",
   "execution_count": 29,
   "id": "972f8a14-13f2-469a-ae5a-a04fad2456c4",
   "metadata": {},
   "outputs": [
    {
     "data": {
      "text/plain": [
       "(array([[[0.10349754],\n",
       "         [0.03127801],\n",
       "         [0.        ],\n",
       "         [0.04025686],\n",
       "         [0.10596346],\n",
       "         [0.11507721],\n",
       "         [0.07643625],\n",
       "         [0.01450976],\n",
       "         [0.03895283],\n",
       "         [0.19436378],\n",
       "         [0.26096101],\n",
       "         [0.18380964]]]),\n",
       " array([[0.10018886]]))"
      ]
     },
     "execution_count": 29,
     "metadata": {},
     "output_type": "execute_result"
    }
   ],
   "source": [
    "x2, y2"
   ]
  },
  {
   "cell_type": "code",
   "execution_count": 30,
   "id": "32302acc-e671-48ac-80a8-ce878c7c6338",
   "metadata": {},
   "outputs": [
    {
     "data": {
      "text/plain": [
       "(1, 12, 1)"
      ]
     },
     "execution_count": 30,
     "metadata": {},
     "output_type": "execute_result"
    }
   ],
   "source": [
    "generator[0][0].shape"
   ]
  },
  {
   "cell_type": "code",
   "execution_count": 31,
   "id": "066d21e6-ba54-40f7-8de4-4eae88e3818c",
   "metadata": {},
   "outputs": [],
   "source": [
    "from tensorflow.keras.models import Sequential\n",
    "from tensorflow.keras.layers import Dense, LSTM"
   ]
  },
  {
   "cell_type": "code",
   "execution_count": 32,
   "id": "ad18cc52-9b7d-4621-857d-5b3454a0b662",
   "metadata": {},
   "outputs": [],
   "source": [
    "model = Sequential([\n",
    "    LSTM(1000, activation=\"relu\",input_shape=(12,1)),\n",
    "    Dense(1)\n",
    "])"
   ]
  },
  {
   "cell_type": "markdown",
   "id": "9d3dee58-ad68-4f57-8f5c-b418937403ff",
   "metadata": {},
   "source": [
    "#### his model configuration is used to leverage the strengths of LSTM\n",
    "#### networks in handling time series data."
   ]
  },
  {
   "cell_type": "code",
   "execution_count": 33,
   "id": "d1b05cfc-28ef-4635-927b-c15ed68f36d0",
   "metadata": {},
   "outputs": [],
   "source": [
    "model.compile(optimizer=\"adam\", loss=\"mse\")"
   ]
  },
  {
   "cell_type": "code",
   "execution_count": null,
   "id": "128700f1-d646-4762-95b6-406df88ceb11",
   "metadata": {},
   "outputs": [
    {
     "name": "stdout",
     "output_type": "stream",
     "text": [
      "Epoch 1/40\n",
      "\u001b[1m373/373\u001b[0m \u001b[32m━━━━━━━━━━━━━━━━━━━━\u001b[0m\u001b[37m\u001b[0m \u001b[1m39s\u001b[0m 94ms/step - loss: 0.0262\n",
      "Epoch 2/40\n",
      "\u001b[1m373/373\u001b[0m \u001b[32m━━━━━━━━━━━━━━━━━━━━\u001b[0m\u001b[37m\u001b[0m \u001b[1m35s\u001b[0m 93ms/step - loss: 0.0095\n",
      "Epoch 3/40\n",
      "\u001b[1m373/373\u001b[0m \u001b[32m━━━━━━━━━━━━━━━━━━━━\u001b[0m\u001b[37m\u001b[0m \u001b[1m35s\u001b[0m 94ms/step - loss: 0.0060\n",
      "Epoch 4/40\n",
      "\u001b[1m 56/373\u001b[0m \u001b[32m━━━\u001b[0m\u001b[37m━━━━━━━━━━━━━━━━━\u001b[0m \u001b[1m30s\u001b[0m 95ms/step - loss: 0.0039"
     ]
    }
   ],
   "source": [
    "model.fit(generator, epochs=40)"
   ]
  },
  {
   "cell_type": "markdown",
   "id": "9bf5d102-bb76-46b5-a648-08d1cb0587bf",
   "metadata": {},
   "source": [
    "#### the model will see the entire dataset 40 times, with each\n",
    "#### iteration (epoch) updating its weights tominimize the loss function."
   ]
  },
  {
   "cell_type": "code",
   "execution_count": null,
   "id": "7c8b0dac-6d53-42e7-b48d-309b0af02838",
   "metadata": {},
   "outputs": [],
   "source": [
    "loss = model.history.history[\"loss\"]"
   ]
  },
  {
   "cell_type": "code",
   "execution_count": null,
   "id": "556f1ed4-0f12-43aa-81eb-17ae15d7f783",
   "metadata": {},
   "outputs": [],
   "source": [
    "plt.plot(loss)\n",
    "plt.xlabel(\"Epochs\")\n",
    "plt.ylabel(\"Loss\")\n",
    "plt.title(\"Loss Visualization\")\n",
    "plt.show()"
   ]
  },
  {
   "cell_type": "markdown",
   "id": "17997e2a-c657-4900-8348-988f25f20977",
   "metadata": {},
   "source": [
    "#### the training process and understand how the loss (error) of the model changes \n",
    "#### over epochs, helping in assessingthe model's performance and convergence."
   ]
  },
  {
   "cell_type": "code",
   "execution_count": null,
   "id": "3b9add5f-b9da-4de8-a076-34fb322b5580",
   "metadata": {},
   "outputs": [],
   "source": [
    "test_pred = []\n",
    "\n",
    "first_eval_batch = scaled_train[-12:]\n",
    "current_batch = first_eval_batch.reshape((1, 12, 1))"
   ]
  },
  {
   "cell_type": "code",
   "execution_count": null,
   "id": "607da0df-fbcf-42e3-a5ae-88c0024c5de5",
   "metadata": {},
   "outputs": [],
   "source": [
    "for i in range(len(test)):\n",
    "    current_pred = model.predict(current_batch)[0]\n",
    "    test_pred.append(current_pred)\n",
    "    current_batch = np.append(current_batch[:, 1:, :],[[current_pred]], axis=1)"
   ]
  },
  {
   "cell_type": "markdown",
   "id": "8b8b6319-2e0f-44b3-bba5-0772afe3e5b0",
   "metadata": {},
   "source": [
    "#### this code snippet appears to be part of a loop where predictions are made \n",
    "#### iteratively for each step in the test dataset, updating the input batch for\n",
    "#### the next prediction."
   ]
  },
  {
   "cell_type": "code",
   "execution_count": null,
   "id": "620ad1b2-6258-4697-9e13-310c5c443b3e",
   "metadata": {},
   "outputs": [],
   "source": [
    "test_pred"
   ]
  },
  {
   "cell_type": "code",
   "execution_count": null,
   "id": "8ba69fad-f944-4d4c-b278-e57aec82668f",
   "metadata": {},
   "outputs": [],
   "source": [
    "test.head()"
   ]
  },
  {
   "cell_type": "code",
   "execution_count": null,
   "id": "85481a50-1ce8-43c1-a6bf-46cb5e9cfded",
   "metadata": {},
   "outputs": [],
   "source": [
    "true_pred = scaler.inverse_transform(test_pred)"
   ]
  },
  {
   "cell_type": "code",
   "execution_count": null,
   "id": "da995b52-5286-4249-aae0-ae6cfc8e7da9",
   "metadata": {},
   "outputs": [],
   "source": [
    "true_pred"
   ]
  },
  {
   "cell_type": "code",
   "execution_count": null,
   "id": "fa93861e-b244-43e3-8975-9cd34e773f56",
   "metadata": {},
   "outputs": [],
   "source": [
    "test[\"Prediction\"]=true_pred"
   ]
  },
  {
   "cell_type": "code",
   "execution_count": null,
   "id": "a740ea6c-8216-4331-aa92-6bbc94320de7",
   "metadata": {},
   "outputs": [],
   "source": [
    "test.head()"
   ]
  },
  {
   "cell_type": "code",
   "execution_count": null,
   "id": "c1aab97d-8ff4-4486-a138-4f96b38a1028",
   "metadata": {},
   "outputs": [],
   "source": [
    "test.plot(figsize=(12, 5))\n",
    "plt.xlabel(\"Month of Year 2017\")\n",
    "plt.ylabel(\"IPG2211A2N and Prediction\")\n",
    "plt.title(\"Comparision of IPG2211A2N vs Prediction\")\n",
    "plt.show"
   ]
  },
  {
   "cell_type": "code",
   "execution_count": null,
   "id": "ef75343b-eb1f-4932-8637-8b3d76ab5c01",
   "metadata": {},
   "outputs": [],
   "source": [
    "from sklearn.metrics import mean_squared_error"
   ]
  },
  {
   "cell_type": "code",
   "execution_count": null,
   "id": "094a2a90-0d3b-4cf9-a21a-ab1d3cc72923",
   "metadata": {},
   "outputs": [],
   "source": [
    "rmse = np.sqrt(mean_squared_error(test[\"IPG2211A2N\"], test[\"Prediction\"]))"
   ]
  },
  {
   "cell_type": "code",
   "execution_count": null,
   "id": "4be77860-264a-4fca-b771-e3a6cd5854c2",
   "metadata": {},
   "outputs": [],
   "source": [
    "rmse"
   ]
  },
  {
   "cell_type": "code",
   "execution_count": null,
   "id": "a32ce431-6257-4047-8ce5-863c20fe392c",
   "metadata": {},
   "outputs": [],
   "source": [
    "test[\"IPG2211A2N\"].mean()"
   ]
  },
  {
   "cell_type": "code",
   "execution_count": null,
   "id": "6c685097-dc98-4d0b-8f35-781dfebfc2ab",
   "metadata": {},
   "outputs": [],
   "source": [
    "test[\"Prediction\"].mean()"
   ]
  },
  {
   "cell_type": "code",
   "execution_count": null,
   "id": "675fe51e-776b-43c8-bd1b-5c0299b53444",
   "metadata": {},
   "outputs": [],
   "source": [
    "min = 862.66 - rmse\n",
    "max = 862.66 + rmse"
   ]
  },
  {
   "cell_type": "code",
   "execution_count": null,
   "id": "661b25ac-6319-43d8-bbe1-215a970ce9fc",
   "metadata": {},
   "outputs": [],
   "source": [
    "min, max"
   ]
  },
  {
   "cell_type": "markdown",
   "id": "de9f2007-07a0-4122-a342-31744f6b4f55",
   "metadata": {},
   "source": [
    "#### This approach helps you understand the potential variability in your predictions and provides a more nuanced understanding of your model's performance beyond just looking at the \n",
    "### RMSE alone."
   ]
  },
  {
   "cell_type": "code",
   "execution_count": null,
   "id": "96b9dbd2-e0d9-4249-8939-df6da93e0462",
   "metadata": {},
   "outputs": [],
   "source": []
  }
 ],
 "metadata": {
  "kernelspec": {
   "display_name": "Python 3 (ipykernel)",
   "language": "python",
   "name": "python3"
  },
  "language_info": {
   "codemirror_mode": {
    "name": "ipython",
    "version": 3
   },
   "file_extension": ".py",
   "mimetype": "text/x-python",
   "name": "python",
   "nbconvert_exporter": "python",
   "pygments_lexer": "ipython3",
   "version": "3.12.0"
  }
 },
 "nbformat": 4,
 "nbformat_minor": 5
}
