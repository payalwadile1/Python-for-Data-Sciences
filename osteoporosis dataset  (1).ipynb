{
 "cells": [
  {
   "cell_type": "code",
   "execution_count": 3,
   "id": "921d204a-d435-440c-8170-5c1dc1a46e4a",
   "metadata": {},
   "outputs": [],
   "source": [
    "# Import Necessary libraries\n",
    "import pandas as pd\n",
    "import numpy as np\n",
    "import matplotlib.pyplot as plt\n",
    "import seaborn as sns\n",
    "from sklearn.preprocessing import StandardScaler\n",
    "from sklearn.model_selection import train_test_split\n",
    "from sklearn.linear_model import LinearRegression\n",
    "from sklearn.metrics import r2_score,mean_squared_error\n",
    "import warnings\n",
    "warnings.filterwarnings(\"ignore\")"
   ]
  },
  {
   "cell_type": "code",
   "execution_count": 4,
   "id": "327451f1-3c5b-4992-b5f2-9ed6344a998a",
   "metadata": {},
   "outputs": [],
   "source": [
    "#Read the Dataset\n",
    "df = pd.read_csv(\"osteoporosis.csv\")"
   ]
  },
  {
   "cell_type": "code",
   "execution_count": 5,
   "id": "1c40f8f5-14a6-46cb-87ff-b4ecab3422a0",
   "metadata": {},
   "outputs": [
    {
     "data": {
      "text/html": [
       "<div>\n",
       "<style scoped>\n",
       "    .dataframe tbody tr th:only-of-type {\n",
       "        vertical-align: middle;\n",
       "    }\n",
       "\n",
       "    .dataframe tbody tr th {\n",
       "        vertical-align: top;\n",
       "    }\n",
       "\n",
       "    .dataframe thead th {\n",
       "        text-align: right;\n",
       "    }\n",
       "</style>\n",
       "<table border=\"1\" class=\"dataframe\">\n",
       "  <thead>\n",
       "    <tr style=\"text-align: right;\">\n",
       "      <th></th>\n",
       "      <th>Id</th>\n",
       "      <th>Age</th>\n",
       "      <th>Gender</th>\n",
       "      <th>Hormonal Changes</th>\n",
       "      <th>Family History</th>\n",
       "      <th>Race/Ethnicity</th>\n",
       "      <th>Body Weight</th>\n",
       "      <th>Calcium Intake</th>\n",
       "      <th>Vitamin D Intake</th>\n",
       "      <th>Physical Activity</th>\n",
       "      <th>Smoking</th>\n",
       "      <th>Alcohol Consumption</th>\n",
       "      <th>Medical Conditions</th>\n",
       "      <th>Medications</th>\n",
       "      <th>Prior Fractures</th>\n",
       "      <th>Osteoporosis</th>\n",
       "    </tr>\n",
       "  </thead>\n",
       "  <tbody>\n",
       "    <tr>\n",
       "      <th>0</th>\n",
       "      <td>1734616</td>\n",
       "      <td>69</td>\n",
       "      <td>Female</td>\n",
       "      <td>Normal</td>\n",
       "      <td>Yes</td>\n",
       "      <td>Asian</td>\n",
       "      <td>Underweight</td>\n",
       "      <td>Low</td>\n",
       "      <td>Sufficient</td>\n",
       "      <td>Sedentary</td>\n",
       "      <td>Yes</td>\n",
       "      <td>Moderate</td>\n",
       "      <td>Rheumatoid Arthritis</td>\n",
       "      <td>Corticosteroids</td>\n",
       "      <td>Yes</td>\n",
       "      <td>1</td>\n",
       "    </tr>\n",
       "    <tr>\n",
       "      <th>1</th>\n",
       "      <td>1419098</td>\n",
       "      <td>32</td>\n",
       "      <td>Female</td>\n",
       "      <td>Normal</td>\n",
       "      <td>Yes</td>\n",
       "      <td>Asian</td>\n",
       "      <td>Underweight</td>\n",
       "      <td>Low</td>\n",
       "      <td>Sufficient</td>\n",
       "      <td>Sedentary</td>\n",
       "      <td>No</td>\n",
       "      <td>NaN</td>\n",
       "      <td>NaN</td>\n",
       "      <td>NaN</td>\n",
       "      <td>Yes</td>\n",
       "      <td>1</td>\n",
       "    </tr>\n",
       "    <tr>\n",
       "      <th>2</th>\n",
       "      <td>1797916</td>\n",
       "      <td>89</td>\n",
       "      <td>Female</td>\n",
       "      <td>Postmenopausal</td>\n",
       "      <td>No</td>\n",
       "      <td>Caucasian</td>\n",
       "      <td>Normal</td>\n",
       "      <td>Adequate</td>\n",
       "      <td>Sufficient</td>\n",
       "      <td>Active</td>\n",
       "      <td>No</td>\n",
       "      <td>Moderate</td>\n",
       "      <td>Hyperthyroidism</td>\n",
       "      <td>Corticosteroids</td>\n",
       "      <td>No</td>\n",
       "      <td>1</td>\n",
       "    </tr>\n",
       "    <tr>\n",
       "      <th>3</th>\n",
       "      <td>1805337</td>\n",
       "      <td>78</td>\n",
       "      <td>Female</td>\n",
       "      <td>Normal</td>\n",
       "      <td>No</td>\n",
       "      <td>Caucasian</td>\n",
       "      <td>Underweight</td>\n",
       "      <td>Adequate</td>\n",
       "      <td>Insufficient</td>\n",
       "      <td>Sedentary</td>\n",
       "      <td>Yes</td>\n",
       "      <td>NaN</td>\n",
       "      <td>Rheumatoid Arthritis</td>\n",
       "      <td>Corticosteroids</td>\n",
       "      <td>No</td>\n",
       "      <td>1</td>\n",
       "    </tr>\n",
       "    <tr>\n",
       "      <th>4</th>\n",
       "      <td>1351334</td>\n",
       "      <td>38</td>\n",
       "      <td>Male</td>\n",
       "      <td>Postmenopausal</td>\n",
       "      <td>Yes</td>\n",
       "      <td>African American</td>\n",
       "      <td>Normal</td>\n",
       "      <td>Low</td>\n",
       "      <td>Sufficient</td>\n",
       "      <td>Active</td>\n",
       "      <td>Yes</td>\n",
       "      <td>NaN</td>\n",
       "      <td>Rheumatoid Arthritis</td>\n",
       "      <td>NaN</td>\n",
       "      <td>Yes</td>\n",
       "      <td>1</td>\n",
       "    </tr>\n",
       "  </tbody>\n",
       "</table>\n",
       "</div>"
      ],
      "text/plain": [
       "        Id  Age  Gender Hormonal Changes Family History    Race/Ethnicity  \\\n",
       "0  1734616   69  Female           Normal            Yes             Asian   \n",
       "1  1419098   32  Female           Normal            Yes             Asian   \n",
       "2  1797916   89  Female   Postmenopausal             No         Caucasian   \n",
       "3  1805337   78  Female           Normal             No         Caucasian   \n",
       "4  1351334   38    Male   Postmenopausal            Yes  African American   \n",
       "\n",
       "   Body Weight Calcium Intake Vitamin D Intake Physical Activity Smoking  \\\n",
       "0  Underweight            Low       Sufficient         Sedentary     Yes   \n",
       "1  Underweight            Low       Sufficient         Sedentary      No   \n",
       "2       Normal       Adequate       Sufficient            Active      No   \n",
       "3  Underweight       Adequate     Insufficient         Sedentary     Yes   \n",
       "4       Normal            Low       Sufficient            Active     Yes   \n",
       "\n",
       "  Alcohol Consumption    Medical Conditions      Medications Prior Fractures  \\\n",
       "0            Moderate  Rheumatoid Arthritis  Corticosteroids             Yes   \n",
       "1                 NaN                   NaN              NaN             Yes   \n",
       "2            Moderate       Hyperthyroidism  Corticosteroids              No   \n",
       "3                 NaN  Rheumatoid Arthritis  Corticosteroids              No   \n",
       "4                 NaN  Rheumatoid Arthritis              NaN             Yes   \n",
       "\n",
       "   Osteoporosis  \n",
       "0             1  \n",
       "1             1  \n",
       "2             1  \n",
       "3             1  \n",
       "4             1  "
      ]
     },
     "execution_count": 5,
     "metadata": {},
     "output_type": "execute_result"
    }
   ],
   "source": [
    "df.head()"
   ]
  },
  {
   "cell_type": "code",
   "execution_count": 6,
   "id": "c71293f3-37e5-4b3a-90ea-f4cfe75d174b",
   "metadata": {},
   "outputs": [
    {
     "name": "stdout",
     "output_type": "stream",
     "text": [
      "<class 'pandas.core.frame.DataFrame'>\n",
      "RangeIndex: 1958 entries, 0 to 1957\n",
      "Data columns (total 16 columns):\n",
      " #   Column               Non-Null Count  Dtype \n",
      "---  ------               --------------  ----- \n",
      " 0   Id                   1958 non-null   int64 \n",
      " 1   Age                  1958 non-null   int64 \n",
      " 2   Gender               1958 non-null   object\n",
      " 3   Hormonal Changes     1958 non-null   object\n",
      " 4   Family History       1958 non-null   object\n",
      " 5   Race/Ethnicity       1958 non-null   object\n",
      " 6   Body Weight          1958 non-null   object\n",
      " 7   Calcium Intake       1958 non-null   object\n",
      " 8   Vitamin D Intake     1958 non-null   object\n",
      " 9   Physical Activity    1958 non-null   object\n",
      " 10  Smoking              1958 non-null   object\n",
      " 11  Alcohol Consumption  970 non-null    object\n",
      " 12  Medical Conditions   1311 non-null   object\n",
      " 13  Medications          973 non-null    object\n",
      " 14  Prior Fractures      1958 non-null   object\n",
      " 15  Osteoporosis         1958 non-null   int64 \n",
      "dtypes: int64(3), object(13)\n",
      "memory usage: 244.9+ KB\n"
     ]
    }
   ],
   "source": [
    "#Checking the Info\n",
    "df.info()"
   ]
  },
  {
   "cell_type": "markdown",
   "id": "ec1de073-2905-49f9-bc45-65e2dea927e3",
   "metadata": {},
   "source": [
    "#### find the null values in Dataset"
   ]
  },
  {
   "cell_type": "code",
   "execution_count": 7,
   "id": "bfab14b3-15b7-4d29-9f5a-d97ccb764cb0",
   "metadata": {},
   "outputs": [
    {
     "data": {
      "text/plain": [
       "Id                       0\n",
       "Age                      0\n",
       "Gender                   0\n",
       "Hormonal Changes         0\n",
       "Family History           0\n",
       "Race/Ethnicity           0\n",
       "Body Weight              0\n",
       "Calcium Intake           0\n",
       "Vitamin D Intake         0\n",
       "Physical Activity        0\n",
       "Smoking                  0\n",
       "Alcohol Consumption    988\n",
       "Medical Conditions     647\n",
       "Medications            985\n",
       "Prior Fractures          0\n",
       "Osteoporosis             0\n",
       "dtype: int64"
      ]
     },
     "execution_count": 7,
     "metadata": {},
     "output_type": "execute_result"
    }
   ],
   "source": [
    "#Checking THE null value of Dataset\n",
    "df.isnull().sum()"
   ]
  },
  {
   "cell_type": "code",
   "execution_count": 8,
   "id": "4fcee492-5ca8-4465-ae82-839dac81140b",
   "metadata": {},
   "outputs": [
    {
     "data": {
      "text/plain": [
       "(1958, 16)"
      ]
     },
     "execution_count": 8,
     "metadata": {},
     "output_type": "execute_result"
    }
   ],
   "source": [
    "#Checking the shape of Dataset\n",
    "df.shape"
   ]
  },
  {
   "cell_type": "code",
   "execution_count": 9,
   "id": "f43694d4-bf80-4a7d-bc79-75c0aaba431b",
   "metadata": {},
   "outputs": [],
   "source": [
    "#Treat the Null value\n",
    "df['Medical Conditions']=df['Medical Conditions'].fillna(df['Medical Conditions'].mode()[0])"
   ]
  },
  {
   "cell_type": "code",
   "execution_count": 10,
   "id": "75e8d92b-2f7b-4611-a2a5-3a54fc99b1d7",
   "metadata": {},
   "outputs": [],
   "source": [
    "df['Alcohol Consumption']=df['Alcohol Consumption'].fillna(df['Alcohol Consumption'].mode()[0])"
   ]
  },
  {
   "cell_type": "code",
   "execution_count": 11,
   "id": "37097fe6-9957-4804-8604-03a50a7739dd",
   "metadata": {},
   "outputs": [],
   "source": [
    "df['Medications']=df['Medications'].fillna(df['Medications'].mode()[0])"
   ]
  },
  {
   "cell_type": "code",
   "execution_count": 12,
   "id": "2a588560-bfc5-44fb-ba6a-f4d7b43b6446",
   "metadata": {},
   "outputs": [
    {
     "data": {
      "text/plain": [
       "Id                     0\n",
       "Age                    0\n",
       "Gender                 0\n",
       "Hormonal Changes       0\n",
       "Family History         0\n",
       "Race/Ethnicity         0\n",
       "Body Weight            0\n",
       "Calcium Intake         0\n",
       "Vitamin D Intake       0\n",
       "Physical Activity      0\n",
       "Smoking                0\n",
       "Alcohol Consumption    0\n",
       "Medical Conditions     0\n",
       "Medications            0\n",
       "Prior Fractures        0\n",
       "Osteoporosis           0\n",
       "dtype: int64"
      ]
     },
     "execution_count": 12,
     "metadata": {},
     "output_type": "execute_result"
    }
   ],
   "source": [
    "df.isnull().sum()"
   ]
  },
  {
   "cell_type": "code",
   "execution_count": 13,
   "id": "d4e1cd54-0cc2-4880-97f7-f28597b8df70",
   "metadata": {},
   "outputs": [
    {
     "data": {
      "text/html": [
       "<div>\n",
       "<style scoped>\n",
       "    .dataframe tbody tr th:only-of-type {\n",
       "        vertical-align: middle;\n",
       "    }\n",
       "\n",
       "    .dataframe tbody tr th {\n",
       "        vertical-align: top;\n",
       "    }\n",
       "\n",
       "    .dataframe thead th {\n",
       "        text-align: right;\n",
       "    }\n",
       "</style>\n",
       "<table border=\"1\" class=\"dataframe\">\n",
       "  <thead>\n",
       "    <tr style=\"text-align: right;\">\n",
       "      <th></th>\n",
       "      <th>Id</th>\n",
       "      <th>Age</th>\n",
       "      <th>Osteoporosis</th>\n",
       "    </tr>\n",
       "  </thead>\n",
       "  <tbody>\n",
       "    <tr>\n",
       "      <th>count</th>\n",
       "      <td>1.958000e+03</td>\n",
       "      <td>1958.000000</td>\n",
       "      <td>1958.000000</td>\n",
       "    </tr>\n",
       "    <tr>\n",
       "      <th>mean</th>\n",
       "      <td>1.549929e+06</td>\n",
       "      <td>39.101124</td>\n",
       "      <td>0.500000</td>\n",
       "    </tr>\n",
       "    <tr>\n",
       "      <th>std</th>\n",
       "      <td>2.614250e+05</td>\n",
       "      <td>21.355424</td>\n",
       "      <td>0.500128</td>\n",
       "    </tr>\n",
       "    <tr>\n",
       "      <th>min</th>\n",
       "      <td>1.100064e+06</td>\n",
       "      <td>18.000000</td>\n",
       "      <td>0.000000</td>\n",
       "    </tr>\n",
       "    <tr>\n",
       "      <th>25%</th>\n",
       "      <td>1.319163e+06</td>\n",
       "      <td>21.000000</td>\n",
       "      <td>0.000000</td>\n",
       "    </tr>\n",
       "    <tr>\n",
       "      <th>50%</th>\n",
       "      <td>1.546028e+06</td>\n",
       "      <td>32.000000</td>\n",
       "      <td>0.500000</td>\n",
       "    </tr>\n",
       "    <tr>\n",
       "      <th>75%</th>\n",
       "      <td>1.775870e+06</td>\n",
       "      <td>53.000000</td>\n",
       "      <td>1.000000</td>\n",
       "    </tr>\n",
       "    <tr>\n",
       "      <th>max</th>\n",
       "      <td>1.999676e+06</td>\n",
       "      <td>90.000000</td>\n",
       "      <td>1.000000</td>\n",
       "    </tr>\n",
       "  </tbody>\n",
       "</table>\n",
       "</div>"
      ],
      "text/plain": [
       "                 Id          Age  Osteoporosis\n",
       "count  1.958000e+03  1958.000000   1958.000000\n",
       "mean   1.549929e+06    39.101124      0.500000\n",
       "std    2.614250e+05    21.355424      0.500128\n",
       "min    1.100064e+06    18.000000      0.000000\n",
       "25%    1.319163e+06    21.000000      0.000000\n",
       "50%    1.546028e+06    32.000000      0.500000\n",
       "75%    1.775870e+06    53.000000      1.000000\n",
       "max    1.999676e+06    90.000000      1.000000"
      ]
     },
     "execution_count": 13,
     "metadata": {},
     "output_type": "execute_result"
    }
   ],
   "source": [
    "#Checking the statistical Analysis\n",
    "df.describe()"
   ]
  },
  {
   "cell_type": "code",
   "execution_count": 14,
   "id": "29544199-b6d8-40bb-80eb-04b13b18d4ac",
   "metadata": {},
   "outputs": [
    {
     "data": {
      "text/plain": [
       "Alcohol Consumption\n",
       "Moderate    1958\n",
       "Name: count, dtype: int64"
      ]
     },
     "execution_count": 14,
     "metadata": {},
     "output_type": "execute_result"
    }
   ],
   "source": [
    "df[\"Alcohol Consumption\"].value_counts()"
   ]
  },
  {
   "cell_type": "code",
   "execution_count": 15,
   "id": "f998324e-afde-4bd0-8e9a-9d801910a9e7",
   "metadata": {},
   "outputs": [
    {
     "data": {
      "text/plain": [
       "Medical Conditions\n",
       "Hyperthyroidism         1325\n",
       "Rheumatoid Arthritis     633\n",
       "Name: count, dtype: int64"
      ]
     },
     "execution_count": 15,
     "metadata": {},
     "output_type": "execute_result"
    }
   ],
   "source": [
    "df[\"Medical Conditions\"].value_counts()"
   ]
  },
  {
   "cell_type": "code",
   "execution_count": 16,
   "id": "2cf62e77-4c6d-40c7-a3d3-65f6cb5aced2",
   "metadata": {},
   "outputs": [
    {
     "data": {
      "text/plain": [
       "Medications\n",
       "Corticosteroids    1958\n",
       "Name: count, dtype: int64"
      ]
     },
     "execution_count": 16,
     "metadata": {},
     "output_type": "execute_result"
    }
   ],
   "source": [
    "df[\"Medications\"].value_counts()"
   ]
  },
  {
   "cell_type": "markdown",
   "id": "62ba860e-d80c-4520-b3f4-e4beea92ea8b",
   "metadata": {},
   "source": [
    "#### EDA (Exploratory Data Analysis) On Dataset"
   ]
  },
  {
   "cell_type": "code",
   "execution_count": 17,
   "id": "94fc0688-f60e-4af0-9b0d-3d0f19df8866",
   "metadata": {},
   "outputs": [
    {
     "data": {
      "image/png": "[encoded data removed]",
      "text/plain": [
       "<Figure size 640x480 with 1 Axes>"
      ]
     },
     "metadata": {},
     "output_type": "display_data"
    }
   ],
   "source": [
    "plt.title(\"Alcohol Consumption\")\n",
    "sns.countplot(df,x=\"Alcohol Consumption\",hue=\"Alcohol Consumption\")\n",
    "plt.show()"
   ]
  },
  {
   "cell_type": "code",
   "execution_count": 18,
   "id": "418fefbf-81c2-4e8c-a2ea-34e8b75f4b1d",
   "metadata": {},
   "outputs": [
    {
     "data": {
      "image/png": "[encoded data removed]",
      "text/plain": [
       "<Figure size 640x480 with 1 Axes>"
      ]
     },
     "metadata": {},
     "output_type": "display_data"
    }
   ],
   "source": [
    "plt.title(\"Medical Conditions\")\n",
    "sns.countplot(df,x=\"Medical Conditions\",hue=\"Medical Conditions\")\n",
    "plt.show()"
   ]
  },
  {
   "cell_type": "markdown",
   "id": "f2cc7d74-d3a0-4d71-b70d-cf8d13545715",
   "metadata": {},
   "source": [
    "### Drop Unnessary Column"
   ]
  },
  {
   "cell_type": "code",
   "execution_count": 19,
   "id": "46ef3857-8dda-4937-ae80-7dd9e346fbae",
   "metadata": {},
   "outputs": [],
   "source": [
    "new_df=df.drop(\"Id\",axis=1,inplace=True)"
   ]
  },
  {
   "cell_type": "code",
   "execution_count": 20,
   "id": "27ffa8eb-cc27-47dc-bf6b-94018f876be1",
   "metadata": {},
   "outputs": [
    {
     "data": {
      "text/html": [
       "<div>\n",
       "<style scoped>\n",
       "    .dataframe tbody tr th:only-of-type {\n",
       "        vertical-align: middle;\n",
       "    }\n",
       "\n",
       "    .dataframe tbody tr th {\n",
       "        vertical-align: top;\n",
       "    }\n",
       "\n",
       "    .dataframe thead th {\n",
       "        text-align: right;\n",
       "    }\n",
       "</style>\n",
       "<table border=\"1\" class=\"dataframe\">\n",
       "  <thead>\n",
       "    <tr style=\"text-align: right;\">\n",
       "      <th></th>\n",
       "      <th>Age</th>\n",
       "      <th>Gender</th>\n",
       "      <th>Hormonal Changes</th>\n",
       "      <th>Family History</th>\n",
       "      <th>Race/Ethnicity</th>\n",
       "      <th>Body Weight</th>\n",
       "      <th>Calcium Intake</th>\n",
       "      <th>Vitamin D Intake</th>\n",
       "      <th>Physical Activity</th>\n",
       "      <th>Smoking</th>\n",
       "      <th>Alcohol Consumption</th>\n",
       "      <th>Medical Conditions</th>\n",
       "      <th>Medications</th>\n",
       "      <th>Prior Fractures</th>\n",
       "      <th>Osteoporosis</th>\n",
       "    </tr>\n",
       "  </thead>\n",
       "  <tbody>\n",
       "    <tr>\n",
       "      <th>0</th>\n",
       "      <td>69</td>\n",
       "      <td>Female</td>\n",
       "      <td>Normal</td>\n",
       "      <td>Yes</td>\n",
       "      <td>Asian</td>\n",
       "      <td>Underweight</td>\n",
       "      <td>Low</td>\n",
       "      <td>Sufficient</td>\n",
       "      <td>Sedentary</td>\n",
       "      <td>Yes</td>\n",
       "      <td>Moderate</td>\n",
       "      <td>Rheumatoid Arthritis</td>\n",
       "      <td>Corticosteroids</td>\n",
       "      <td>Yes</td>\n",
       "      <td>1</td>\n",
       "    </tr>\n",
       "    <tr>\n",
       "      <th>1</th>\n",
       "      <td>32</td>\n",
       "      <td>Female</td>\n",
       "      <td>Normal</td>\n",
       "      <td>Yes</td>\n",
       "      <td>Asian</td>\n",
       "      <td>Underweight</td>\n",
       "      <td>Low</td>\n",
       "      <td>Sufficient</td>\n",
       "      <td>Sedentary</td>\n",
       "      <td>No</td>\n",
       "      <td>Moderate</td>\n",
       "      <td>Hyperthyroidism</td>\n",
       "      <td>Corticosteroids</td>\n",
       "      <td>Yes</td>\n",
       "      <td>1</td>\n",
       "    </tr>\n",
       "    <tr>\n",
       "      <th>2</th>\n",
       "      <td>89</td>\n",
       "      <td>Female</td>\n",
       "      <td>Postmenopausal</td>\n",
       "      <td>No</td>\n",
       "      <td>Caucasian</td>\n",
       "      <td>Normal</td>\n",
       "      <td>Adequate</td>\n",
       "      <td>Sufficient</td>\n",
       "      <td>Active</td>\n",
       "      <td>No</td>\n",
       "      <td>Moderate</td>\n",
       "      <td>Hyperthyroidism</td>\n",
       "      <td>Corticosteroids</td>\n",
       "      <td>No</td>\n",
       "      <td>1</td>\n",
       "    </tr>\n",
       "    <tr>\n",
       "      <th>3</th>\n",
       "      <td>78</td>\n",
       "      <td>Female</td>\n",
       "      <td>Normal</td>\n",
       "      <td>No</td>\n",
       "      <td>Caucasian</td>\n",
       "      <td>Underweight</td>\n",
       "      <td>Adequate</td>\n",
       "      <td>Insufficient</td>\n",
       "      <td>Sedentary</td>\n",
       "      <td>Yes</td>\n",
       "      <td>Moderate</td>\n",
       "      <td>Rheumatoid Arthritis</td>\n",
       "      <td>Corticosteroids</td>\n",
       "      <td>No</td>\n",
       "      <td>1</td>\n",
       "    </tr>\n",
       "    <tr>\n",
       "      <th>4</th>\n",
       "      <td>38</td>\n",
       "      <td>Male</td>\n",
       "      <td>Postmenopausal</td>\n",
       "      <td>Yes</td>\n",
       "      <td>African American</td>\n",
       "      <td>Normal</td>\n",
       "      <td>Low</td>\n",
       "      <td>Sufficient</td>\n",
       "      <td>Active</td>\n",
       "      <td>Yes</td>\n",
       "      <td>Moderate</td>\n",
       "      <td>Rheumatoid Arthritis</td>\n",
       "      <td>Corticosteroids</td>\n",
       "      <td>Yes</td>\n",
       "      <td>1</td>\n",
       "    </tr>\n",
       "  </tbody>\n",
       "</table>\n",
       "</div>"
      ],
      "text/plain": [
       "   Age  Gender Hormonal Changes Family History    Race/Ethnicity  Body Weight  \\\n",
       "0   69  Female           Normal            Yes             Asian  Underweight   \n",
       "1   32  Female           Normal            Yes             Asian  Underweight   \n",
       "2   89  Female   Postmenopausal             No         Caucasian       Normal   \n",
       "3   78  Female           Normal             No         Caucasian  Underweight   \n",
       "4   38    Male   Postmenopausal            Yes  African American       Normal   \n",
       "\n",
       "  Calcium Intake Vitamin D Intake Physical Activity Smoking  \\\n",
       "0            Low       Sufficient         Sedentary     Yes   \n",
       "1            Low       Sufficient         Sedentary      No   \n",
       "2       Adequate       Sufficient            Active      No   \n",
       "3       Adequate     Insufficient         Sedentary     Yes   \n",
       "4            Low       Sufficient            Active     Yes   \n",
       "\n",
       "  Alcohol Consumption    Medical Conditions      Medications Prior Fractures  \\\n",
       "0            Moderate  Rheumatoid Arthritis  Corticosteroids             Yes   \n",
       "1            Moderate       Hyperthyroidism  Corticosteroids             Yes   \n",
       "2            Moderate       Hyperthyroidism  Corticosteroids              No   \n",
       "3            Moderate  Rheumatoid Arthritis  Corticosteroids              No   \n",
       "4            Moderate  Rheumatoid Arthritis  Corticosteroids             Yes   \n",
       "\n",
       "   Osteoporosis  \n",
       "0             1  \n",
       "1             1  \n",
       "2             1  \n",
       "3             1  \n",
       "4             1  "
      ]
     },
     "execution_count": 20,
     "metadata": {},
     "output_type": "execute_result"
    }
   ],
   "source": [
    "df.head()"
   ]
  },
  {
   "cell_type": "code",
   "execution_count": 21,
   "id": "f3bf401e-92b0-4969-83d0-534b72b31b4b",
   "metadata": {},
   "outputs": [],
   "source": [
    "new_df=df.drop(\"Alcohol Consumption\",axis=1,inplace=True)"
   ]
  },
  {
   "cell_type": "code",
   "execution_count": 22,
   "id": "136de3f9-a7d2-46de-ad4e-fb9808aa79c7",
   "metadata": {},
   "outputs": [],
   "source": [
    "new_df=df.drop(\"Medications\",axis=1,inplace=True)"
   ]
  },
  {
   "cell_type": "code",
   "execution_count": 23,
   "id": "08d9fc13-e397-4da5-ae45-8a0a2ae5cead",
   "metadata": {},
   "outputs": [
    {
     "data": {
      "text/html": [
       "<div>\n",
       "<style scoped>\n",
       "    .dataframe tbody tr th:only-of-type {\n",
       "        vertical-align: middle;\n",
       "    }\n",
       "\n",
       "    .dataframe tbody tr th {\n",
       "        vertical-align: top;\n",
       "    }\n",
       "\n",
       "    .dataframe thead th {\n",
       "        text-align: right;\n",
       "    }\n",
       "</style>\n",
       "<table border=\"1\" class=\"dataframe\">\n",
       "  <thead>\n",
       "    <tr style=\"text-align: right;\">\n",
       "      <th></th>\n",
       "      <th>Age</th>\n",
       "      <th>Gender</th>\n",
       "      <th>Hormonal Changes</th>\n",
       "      <th>Family History</th>\n",
       "      <th>Race/Ethnicity</th>\n",
       "      <th>Body Weight</th>\n",
       "      <th>Calcium Intake</th>\n",
       "      <th>Vitamin D Intake</th>\n",
       "      <th>Physical Activity</th>\n",
       "      <th>Smoking</th>\n",
       "      <th>Medical Conditions</th>\n",
       "      <th>Prior Fractures</th>\n",
       "      <th>Osteoporosis</th>\n",
       "    </tr>\n",
       "  </thead>\n",
       "  <tbody>\n",
       "    <tr>\n",
       "      <th>0</th>\n",
       "      <td>69</td>\n",
       "      <td>Female</td>\n",
       "      <td>Normal</td>\n",
       "      <td>Yes</td>\n",
       "      <td>Asian</td>\n",
       "      <td>Underweight</td>\n",
       "      <td>Low</td>\n",
       "      <td>Sufficient</td>\n",
       "      <td>Sedentary</td>\n",
       "      <td>Yes</td>\n",
       "      <td>Rheumatoid Arthritis</td>\n",
       "      <td>Yes</td>\n",
       "      <td>1</td>\n",
       "    </tr>\n",
       "    <tr>\n",
       "      <th>1</th>\n",
       "      <td>32</td>\n",
       "      <td>Female</td>\n",
       "      <td>Normal</td>\n",
       "      <td>Yes</td>\n",
       "      <td>Asian</td>\n",
       "      <td>Underweight</td>\n",
       "      <td>Low</td>\n",
       "      <td>Sufficient</td>\n",
       "      <td>Sedentary</td>\n",
       "      <td>No</td>\n",
       "      <td>Hyperthyroidism</td>\n",
       "      <td>Yes</td>\n",
       "      <td>1</td>\n",
       "    </tr>\n",
       "    <tr>\n",
       "      <th>2</th>\n",
       "      <td>89</td>\n",
       "      <td>Female</td>\n",
       "      <td>Postmenopausal</td>\n",
       "      <td>No</td>\n",
       "      <td>Caucasian</td>\n",
       "      <td>Normal</td>\n",
       "      <td>Adequate</td>\n",
       "      <td>Sufficient</td>\n",
       "      <td>Active</td>\n",
       "      <td>No</td>\n",
       "      <td>Hyperthyroidism</td>\n",
       "      <td>No</td>\n",
       "      <td>1</td>\n",
       "    </tr>\n",
       "    <tr>\n",
       "      <th>3</th>\n",
       "      <td>78</td>\n",
       "      <td>Female</td>\n",
       "      <td>Normal</td>\n",
       "      <td>No</td>\n",
       "      <td>Caucasian</td>\n",
       "      <td>Underweight</td>\n",
       "      <td>Adequate</td>\n",
       "      <td>Insufficient</td>\n",
       "      <td>Sedentary</td>\n",
       "      <td>Yes</td>\n",
       "      <td>Rheumatoid Arthritis</td>\n",
       "      <td>No</td>\n",
       "      <td>1</td>\n",
       "    </tr>\n",
       "    <tr>\n",
       "      <th>4</th>\n",
       "      <td>38</td>\n",
       "      <td>Male</td>\n",
       "      <td>Postmenopausal</td>\n",
       "      <td>Yes</td>\n",
       "      <td>African American</td>\n",
       "      <td>Normal</td>\n",
       "      <td>Low</td>\n",
       "      <td>Sufficient</td>\n",
       "      <td>Active</td>\n",
       "      <td>Yes</td>\n",
       "      <td>Rheumatoid Arthritis</td>\n",
       "      <td>Yes</td>\n",
       "      <td>1</td>\n",
       "    </tr>\n",
       "  </tbody>\n",
       "</table>\n",
       "</div>"
      ],
      "text/plain": [
       "   Age  Gender Hormonal Changes Family History    Race/Ethnicity  Body Weight  \\\n",
       "0   69  Female           Normal            Yes             Asian  Underweight   \n",
       "1   32  Female           Normal            Yes             Asian  Underweight   \n",
       "2   89  Female   Postmenopausal             No         Caucasian       Normal   \n",
       "3   78  Female           Normal             No         Caucasian  Underweight   \n",
       "4   38    Male   Postmenopausal            Yes  African American       Normal   \n",
       "\n",
       "  Calcium Intake Vitamin D Intake Physical Activity Smoking  \\\n",
       "0            Low       Sufficient         Sedentary     Yes   \n",
       "1            Low       Sufficient         Sedentary      No   \n",
       "2       Adequate       Sufficient            Active      No   \n",
       "3       Adequate     Insufficient         Sedentary     Yes   \n",
       "4            Low       Sufficient            Active     Yes   \n",
       "\n",
       "     Medical Conditions Prior Fractures  Osteoporosis  \n",
       "0  Rheumatoid Arthritis             Yes             1  \n",
       "1       Hyperthyroidism             Yes             1  \n",
       "2       Hyperthyroidism              No             1  \n",
       "3  Rheumatoid Arthritis              No             1  \n",
       "4  Rheumatoid Arthritis             Yes             1  "
      ]
     },
     "execution_count": 23,
     "metadata": {},
     "output_type": "execute_result"
    }
   ],
   "source": [
    "df.head()"
   ]
  },
  {
   "cell_type": "code",
   "execution_count": 24,
   "id": "83fc6af7-72f6-4f6b-9751-c62cad58809f",
   "metadata": {},
   "outputs": [
    {
     "data": {
      "text/plain": [
       "Age\n",
       "18    152\n",
       "19    147\n",
       "34    121\n",
       "29    118\n",
       "21    117\n",
       "     ... \n",
       "88      9\n",
       "60      8\n",
       "28      8\n",
       "58      7\n",
       "48      6\n",
       "Name: count, Length: 73, dtype: int64"
      ]
     },
     "execution_count": 24,
     "metadata": {},
     "output_type": "execute_result"
    }
   ],
   "source": [
    "df[\"Age\"].value_counts()"
   ]
  },
  {
   "cell_type": "code",
   "execution_count": 25,
   "id": "6f18bd4a-5b0f-40b1-9a57-d924e90a08a5",
   "metadata": {},
   "outputs": [
    {
     "data": {
      "image/png": "[encoded data removed]",
      "text/plain": [
       "<Figure size 640x480 with 1 Axes>"
      ]
     },
     "metadata": {},
     "output_type": "display_data"
    }
   ],
   "source": [
    "# Checking the Age columns using histplot\n",
    "plt.title(\"Age\")\n",
    "sns.histplot(df,x=\"Age\")\n",
    "plt.show()"
   ]
  },
  {
   "cell_type": "code",
   "execution_count": 26,
   "id": "f2a91ec5-9935-441d-b902-5f5d4769bf93",
   "metadata": {},
   "outputs": [
    {
     "data": {
      "text/plain": [
       "Gender\n",
       "Male      992\n",
       "Female    966\n",
       "Name: count, dtype: int64"
      ]
     },
     "execution_count": 26,
     "metadata": {},
     "output_type": "execute_result"
    }
   ],
   "source": [
    "df[\"Gender\"].value_counts()"
   ]
  },
  {
   "cell_type": "code",
   "execution_count": 27,
   "id": "c6c85e22-4eeb-4198-86e4-11a68219ac93",
   "metadata": {},
   "outputs": [
    {
     "data": {
      "image/png": "[encoded data removed]",
      "text/plain": [
       "<Figure size 640x480 with 1 Axes>"
      ]
     },
     "metadata": {},
     "output_type": "display_data"
    }
   ],
   "source": [
    "#Checking the Gender Column using countplot\n",
    "plt.title(\"Gender\")\n",
    "sns.countplot(df,x=\"Gender\",hue=\"Gender\")\n",
    "plt.show()"
   ]
  },
  {
   "cell_type": "code",
   "execution_count": 28,
   "id": "f5d47c03-1ff5-4da1-a52e-4df5ff26fb6b",
   "metadata": {},
   "outputs": [
    {
     "data": {
      "text/plain": [
       "Hormonal Changes\n",
       "Normal            981\n",
       "Postmenopausal    977\n",
       "Name: count, dtype: int64"
      ]
     },
     "execution_count": 28,
     "metadata": {},
     "output_type": "execute_result"
    }
   ],
   "source": [
    "df[\"Hormonal Changes\"].value_counts()"
   ]
  },
  {
   "cell_type": "code",
   "execution_count": 29,
   "id": "a0300363-5c39-4b62-9b61-4e5f154959d9",
   "metadata": {},
   "outputs": [
    {
     "data": {
      "image/png": "[encoded data removed]",
      "text/plain": [
       "<Figure size 640x480 with 1 Axes>"
      ]
     },
     "metadata": {},
     "output_type": "display_data"
    }
   ],
   "source": [
    "#Checking the Hormonal Changes using countplot\n",
    "plt.title(\"Hormonal Changes\")\n",
    "sns.countplot(df,x=\"Hormonal Changes\",hue=\"Hormonal Changes\")\n",
    "plt.show()"
   ]
  },
  {
   "cell_type": "code",
   "execution_count": 30,
   "id": "ed28c2a0-ea43-485d-b4eb-79538f867ca4",
   "metadata": {},
   "outputs": [
    {
     "data": {
      "text/plain": [
       "Osteoporosis\n",
       "1    979\n",
       "0    979\n",
       "Name: count, dtype: int64"
      ]
     },
     "execution_count": 30,
     "metadata": {},
     "output_type": "execute_result"
    }
   ],
   "source": [
    "df[\"Osteoporosis\"].value_counts()"
   ]
  },
  {
   "cell_type": "markdown",
   "id": "763acc41-60fc-48ca-bfa2-1c1ba0778806",
   "metadata": {},
   "source": [
    "####  value counts can be used to understand the distribution of classes in a classification problem. 1 for osteoporosis presences and 0 for osteroporosis is absent"
   ]
  },
  {
   "cell_type": "code",
   "execution_count": 31,
   "id": "c3a31ab7-77bc-4274-86ec-ce5d4d6ad94a",
   "metadata": {},
   "outputs": [
    {
     "data": {
      "text/html": [
       "<div>\n",
       "<style scoped>\n",
       "    .dataframe tbody tr th:only-of-type {\n",
       "        vertical-align: middle;\n",
       "    }\n",
       "\n",
       "    .dataframe tbody tr th {\n",
       "        vertical-align: top;\n",
       "    }\n",
       "\n",
       "    .dataframe thead th {\n",
       "        text-align: right;\n",
       "    }\n",
       "</style>\n",
       "<table border=\"1\" class=\"dataframe\">\n",
       "  <thead>\n",
       "    <tr style=\"text-align: right;\">\n",
       "      <th>Hormonal Changes</th>\n",
       "      <th>Normal</th>\n",
       "      <th>Postmenopausal</th>\n",
       "    </tr>\n",
       "    <tr>\n",
       "      <th>Osteoporosis</th>\n",
       "      <th></th>\n",
       "      <th></th>\n",
       "    </tr>\n",
       "  </thead>\n",
       "  <tbody>\n",
       "    <tr>\n",
       "      <th>0</th>\n",
       "      <td>498</td>\n",
       "      <td>481</td>\n",
       "    </tr>\n",
       "    <tr>\n",
       "      <th>1</th>\n",
       "      <td>483</td>\n",
       "      <td>496</td>\n",
       "    </tr>\n",
       "  </tbody>\n",
       "</table>\n",
       "</div>"
      ],
      "text/plain": [
       "Hormonal Changes  Normal  Postmenopausal\n",
       "Osteoporosis                            \n",
       "0                    498             481\n",
       "1                    483             496"
      ]
     },
     "execution_count": 31,
     "metadata": {},
     "output_type": "execute_result"
    }
   ],
   "source": [
    "pd.crosstab(columns=df[\"Hormonal Changes\"],index=df[\"Osteoporosis\"])"
   ]
  },
  {
   "cell_type": "markdown",
   "id": "fb6eeb02-9256-40d5-8186-9e155963b978",
   "metadata": {},
   "source": [
    "####  the counts of each combination of values between the target and predicted variable."
   ]
  },
  {
   "cell_type": "code",
   "execution_count": 32,
   "id": "19da373f-bbb6-48e1-903f-1c6f008ca4f1",
   "metadata": {},
   "outputs": [
    {
     "data": {
      "image/png": "[encoded data removed]",
      "text/plain": [
       "<Figure size 640x480 with 1 Axes>"
      ]
     },
     "metadata": {},
     "output_type": "display_data"
    }
   ],
   "source": [
    "plt.title(\"Osteoporosis\")\n",
    "sns.countplot(df,x=\"Osteoporosis\",hue=\"Hormonal Changes\")\n",
    "plt.show()"
   ]
  },
  {
   "cell_type": "code",
   "execution_count": 33,
   "id": "777b5ea1-554c-4fbb-8840-6259c9657633",
   "metadata": {},
   "outputs": [
    {
     "data": {
      "text/plain": [
       "Family History\n",
       "No     998\n",
       "Yes    960\n",
       "Name: count, dtype: int64"
      ]
     },
     "execution_count": 33,
     "metadata": {},
     "output_type": "execute_result"
    }
   ],
   "source": [
    "df[\"Family History\"].value_counts()"
   ]
  },
  {
   "cell_type": "code",
   "execution_count": 34,
   "id": "8f78a335-6004-4b85-9930-08c64f89a8e0",
   "metadata": {},
   "outputs": [
    {
     "data": {
      "text/html": [
       "<div>\n",
       "<style scoped>\n",
       "    .dataframe tbody tr th:only-of-type {\n",
       "        vertical-align: middle;\n",
       "    }\n",
       "\n",
       "    .dataframe tbody tr th {\n",
       "        vertical-align: top;\n",
       "    }\n",
       "\n",
       "    .dataframe thead th {\n",
       "        text-align: right;\n",
       "    }\n",
       "</style>\n",
       "<table border=\"1\" class=\"dataframe\">\n",
       "  <thead>\n",
       "    <tr style=\"text-align: right;\">\n",
       "      <th>Family History</th>\n",
       "      <th>No</th>\n",
       "      <th>Yes</th>\n",
       "    </tr>\n",
       "    <tr>\n",
       "      <th>Osteoporosis</th>\n",
       "      <th></th>\n",
       "      <th></th>\n",
       "    </tr>\n",
       "  </thead>\n",
       "  <tbody>\n",
       "    <tr>\n",
       "      <th>0</th>\n",
       "      <td>498</td>\n",
       "      <td>481</td>\n",
       "    </tr>\n",
       "    <tr>\n",
       "      <th>1</th>\n",
       "      <td>500</td>\n",
       "      <td>479</td>\n",
       "    </tr>\n",
       "  </tbody>\n",
       "</table>\n",
       "</div>"
      ],
      "text/plain": [
       "Family History   No  Yes\n",
       "Osteoporosis            \n",
       "0               498  481\n",
       "1               500  479"
      ]
     },
     "execution_count": 34,
     "metadata": {},
     "output_type": "execute_result"
    }
   ],
   "source": [
    "pd.crosstab(columns=df[\"Family History\"],index=df[\"Osteoporosis\"])"
   ]
  },
  {
   "cell_type": "code",
   "execution_count": 35,
   "id": "f45e69db-0c07-44a6-b930-19d78f191d93",
   "metadata": {},
   "outputs": [
    {
     "data": {
      "image/png": "[encoded data removed]",
      "text/plain": [
       "<Figure size 640x480 with 1 Axes>"
      ]
     },
     "metadata": {},
     "output_type": "display_data"
    }
   ],
   "source": [
    "\n",
    "plt.title(\"Osteoporosis\")\n",
    "sns.countplot(df,x=\"Osteoporosis\",hue=\"Family History\")\n",
    "plt.show()"
   ]
  },
  {
   "cell_type": "code",
   "execution_count": 36,
   "id": "376c7227-13f7-49a3-b8cb-3ff51d3da124",
   "metadata": {},
   "outputs": [
    {
     "data": {
      "text/html": [
       "<div>\n",
       "<style scoped>\n",
       "    .dataframe tbody tr th:only-of-type {\n",
       "        vertical-align: middle;\n",
       "    }\n",
       "\n",
       "    .dataframe tbody tr th {\n",
       "        vertical-align: top;\n",
       "    }\n",
       "\n",
       "    .dataframe thead th {\n",
       "        text-align: right;\n",
       "    }\n",
       "</style>\n",
       "<table border=\"1\" class=\"dataframe\">\n",
       "  <thead>\n",
       "    <tr style=\"text-align: right;\">\n",
       "      <th></th>\n",
       "      <th>Age</th>\n",
       "      <th>Gender</th>\n",
       "      <th>Hormonal Changes</th>\n",
       "      <th>Family History</th>\n",
       "      <th>Race/Ethnicity</th>\n",
       "      <th>Body Weight</th>\n",
       "      <th>Calcium Intake</th>\n",
       "      <th>Vitamin D Intake</th>\n",
       "      <th>Physical Activity</th>\n",
       "      <th>Smoking</th>\n",
       "      <th>Medical Conditions</th>\n",
       "      <th>Prior Fractures</th>\n",
       "      <th>Osteoporosis</th>\n",
       "    </tr>\n",
       "  </thead>\n",
       "  <tbody>\n",
       "    <tr>\n",
       "      <th>0</th>\n",
       "      <td>69</td>\n",
       "      <td>Female</td>\n",
       "      <td>Normal</td>\n",
       "      <td>Yes</td>\n",
       "      <td>Asian</td>\n",
       "      <td>Underweight</td>\n",
       "      <td>Low</td>\n",
       "      <td>Sufficient</td>\n",
       "      <td>Sedentary</td>\n",
       "      <td>Yes</td>\n",
       "      <td>Rheumatoid Arthritis</td>\n",
       "      <td>Yes</td>\n",
       "      <td>1</td>\n",
       "    </tr>\n",
       "    <tr>\n",
       "      <th>1</th>\n",
       "      <td>32</td>\n",
       "      <td>Female</td>\n",
       "      <td>Normal</td>\n",
       "      <td>Yes</td>\n",
       "      <td>Asian</td>\n",
       "      <td>Underweight</td>\n",
       "      <td>Low</td>\n",
       "      <td>Sufficient</td>\n",
       "      <td>Sedentary</td>\n",
       "      <td>No</td>\n",
       "      <td>Hyperthyroidism</td>\n",
       "      <td>Yes</td>\n",
       "      <td>1</td>\n",
       "    </tr>\n",
       "    <tr>\n",
       "      <th>2</th>\n",
       "      <td>89</td>\n",
       "      <td>Female</td>\n",
       "      <td>Postmenopausal</td>\n",
       "      <td>No</td>\n",
       "      <td>Caucasian</td>\n",
       "      <td>Normal</td>\n",
       "      <td>Adequate</td>\n",
       "      <td>Sufficient</td>\n",
       "      <td>Active</td>\n",
       "      <td>No</td>\n",
       "      <td>Hyperthyroidism</td>\n",
       "      <td>No</td>\n",
       "      <td>1</td>\n",
       "    </tr>\n",
       "    <tr>\n",
       "      <th>3</th>\n",
       "      <td>78</td>\n",
       "      <td>Female</td>\n",
       "      <td>Normal</td>\n",
       "      <td>No</td>\n",
       "      <td>Caucasian</td>\n",
       "      <td>Underweight</td>\n",
       "      <td>Adequate</td>\n",
       "      <td>Insufficient</td>\n",
       "      <td>Sedentary</td>\n",
       "      <td>Yes</td>\n",
       "      <td>Rheumatoid Arthritis</td>\n",
       "      <td>No</td>\n",
       "      <td>1</td>\n",
       "    </tr>\n",
       "    <tr>\n",
       "      <th>4</th>\n",
       "      <td>38</td>\n",
       "      <td>Male</td>\n",
       "      <td>Postmenopausal</td>\n",
       "      <td>Yes</td>\n",
       "      <td>African American</td>\n",
       "      <td>Normal</td>\n",
       "      <td>Low</td>\n",
       "      <td>Sufficient</td>\n",
       "      <td>Active</td>\n",
       "      <td>Yes</td>\n",
       "      <td>Rheumatoid Arthritis</td>\n",
       "      <td>Yes</td>\n",
       "      <td>1</td>\n",
       "    </tr>\n",
       "  </tbody>\n",
       "</table>\n",
       "</div>"
      ],
      "text/plain": [
       "   Age  Gender Hormonal Changes Family History    Race/Ethnicity  Body Weight  \\\n",
       "0   69  Female           Normal            Yes             Asian  Underweight   \n",
       "1   32  Female           Normal            Yes             Asian  Underweight   \n",
       "2   89  Female   Postmenopausal             No         Caucasian       Normal   \n",
       "3   78  Female           Normal             No         Caucasian  Underweight   \n",
       "4   38    Male   Postmenopausal            Yes  African American       Normal   \n",
       "\n",
       "  Calcium Intake Vitamin D Intake Physical Activity Smoking  \\\n",
       "0            Low       Sufficient         Sedentary     Yes   \n",
       "1            Low       Sufficient         Sedentary      No   \n",
       "2       Adequate       Sufficient            Active      No   \n",
       "3       Adequate     Insufficient         Sedentary     Yes   \n",
       "4            Low       Sufficient            Active     Yes   \n",
       "\n",
       "     Medical Conditions Prior Fractures  Osteoporosis  \n",
       "0  Rheumatoid Arthritis             Yes             1  \n",
       "1       Hyperthyroidism             Yes             1  \n",
       "2       Hyperthyroidism              No             1  \n",
       "3  Rheumatoid Arthritis              No             1  \n",
       "4  Rheumatoid Arthritis             Yes             1  "
      ]
     },
     "execution_count": 36,
     "metadata": {},
     "output_type": "execute_result"
    }
   ],
   "source": [
    "df.head()"
   ]
  },
  {
   "cell_type": "code",
   "execution_count": 37,
   "id": "775e0567-68bc-471e-9dda-65864640febf",
   "metadata": {},
   "outputs": [
    {
     "data": {
      "text/plain": [
       "Race/Ethnicity\n",
       "African American    681\n",
       "Caucasian           646\n",
       "Asian               631\n",
       "Name: count, dtype: int64"
      ]
     },
     "execution_count": 37,
     "metadata": {},
     "output_type": "execute_result"
    }
   ],
   "source": [
    "df[\"Race/Ethnicity\"].value_counts()"
   ]
  },
  {
   "cell_type": "code",
   "execution_count": 38,
   "id": "5ec2b0fb-b81d-4637-8868-54f78559d13a",
   "metadata": {},
   "outputs": [
    {
     "data": {
      "image/png": "[encoded data removed]",
      "text/plain": [
       "<Figure size 640x480 with 1 Axes>"
      ]
     },
     "metadata": {},
     "output_type": "display_data"
    }
   ],
   "source": [
    "plt.title(\"Race/Ethnicity\")\n",
    "sns.countplot(df,x=\"Race/Ethnicity\",hue=\"Race/Ethnicity\")\n",
    "plt.show()"
   ]
  },
  {
   "cell_type": "code",
   "execution_count": 39,
   "id": "3f5f069c-669c-44d4-a4e8-c7698fcef15a",
   "metadata": {},
   "outputs": [
    {
     "data": {
      "text/html": [
       "<div>\n",
       "<style scoped>\n",
       "    .dataframe tbody tr th:only-of-type {\n",
       "        vertical-align: middle;\n",
       "    }\n",
       "\n",
       "    .dataframe tbody tr th {\n",
       "        vertical-align: top;\n",
       "    }\n",
       "\n",
       "    .dataframe thead th {\n",
       "        text-align: right;\n",
       "    }\n",
       "</style>\n",
       "<table border=\"1\" class=\"dataframe\">\n",
       "  <thead>\n",
       "    <tr style=\"text-align: right;\">\n",
       "      <th>Race/Ethnicity</th>\n",
       "      <th>African American</th>\n",
       "      <th>Asian</th>\n",
       "      <th>Caucasian</th>\n",
       "    </tr>\n",
       "    <tr>\n",
       "      <th>Osteoporosis</th>\n",
       "      <th></th>\n",
       "      <th></th>\n",
       "      <th></th>\n",
       "    </tr>\n",
       "  </thead>\n",
       "  <tbody>\n",
       "    <tr>\n",
       "      <th>0</th>\n",
       "      <td>337</td>\n",
       "      <td>317</td>\n",
       "      <td>325</td>\n",
       "    </tr>\n",
       "    <tr>\n",
       "      <th>1</th>\n",
       "      <td>344</td>\n",
       "      <td>314</td>\n",
       "      <td>321</td>\n",
       "    </tr>\n",
       "  </tbody>\n",
       "</table>\n",
       "</div>"
      ],
      "text/plain": [
       "Race/Ethnicity  African American  Asian  Caucasian\n",
       "Osteoporosis                                      \n",
       "0                            337    317        325\n",
       "1                            344    314        321"
      ]
     },
     "execution_count": 39,
     "metadata": {},
     "output_type": "execute_result"
    }
   ],
   "source": [
    "pd.crosstab(columns=df[\"Race/Ethnicity\"],index=df[\"Osteoporosis\"])"
   ]
  },
  {
   "cell_type": "code",
   "execution_count": 40,
   "id": "5dd9d040-75e9-4b03-a76d-6f1bf0eb50e7",
   "metadata": {},
   "outputs": [
    {
     "data": {
      "image/png": "[encoded data removed]",
      "text/plain": [
       "<Figure size 640x480 with 1 Axes>"
      ]
     },
     "metadata": {},
     "output_type": "display_data"
    }
   ],
   "source": [
    "plt.title(\"Osteoporosis\")\n",
    "sns.countplot(df,x=\"Osteoporosis\",hue=\"Race/Ethnicity\")\n",
    "plt.show()"
   ]
  },
  {
   "cell_type": "code",
   "execution_count": 41,
   "id": "a61ac29f-0e06-4db7-9e4a-2e7dfec6779c",
   "metadata": {},
   "outputs": [
    {
     "data": {
      "text/plain": [
       "Body Weight\n",
       "Normal         1027\n",
       "Underweight     931\n",
       "Name: count, dtype: int64"
      ]
     },
     "execution_count": 41,
     "metadata": {},
     "output_type": "execute_result"
    }
   ],
   "source": [
    "df[\"Body Weight\"].value_counts()"
   ]
  },
  {
   "cell_type": "code",
   "execution_count": 42,
   "id": "627e155e-f9c0-4899-96a5-253da90326da",
   "metadata": {},
   "outputs": [
    {
     "data": {
      "image/png": "[encoded data removed]",
      "text/plain": [
       "<Figure size 640x480 with 1 Axes>"
      ]
     },
     "metadata": {},
     "output_type": "display_data"
    }
   ],
   "source": [
    "plt.title(\"Body Weight\")\n",
    "sns.countplot(df,x=\"Body Weight\",hue=\"Body Weight\")\n",
    "plt.show()"
   ]
  },
  {
   "cell_type": "code",
   "execution_count": 43,
   "id": "b9c3e17c-6a10-499a-ae48-1b18bf15414d",
   "metadata": {},
   "outputs": [
    {
     "data": {
      "text/plain": [
       "Calcium Intake\n",
       "Low         1004\n",
       "Adequate     954\n",
       "Name: count, dtype: int64"
      ]
     },
     "execution_count": 43,
     "metadata": {},
     "output_type": "execute_result"
    }
   ],
   "source": [
    "df[\"Calcium Intake\"].value_counts()"
   ]
  },
  {
   "cell_type": "code",
   "execution_count": 44,
   "id": "eb7f0a29-c975-418f-8391-ab6f9255838d",
   "metadata": {},
   "outputs": [
    {
     "data": {
      "image/png": "[encoded data removed]",
      "text/plain": [
       "<Figure size 640x480 with 1 Axes>"
      ]
     },
     "metadata": {},
     "output_type": "display_data"
    }
   ],
   "source": [
    "plt.title(\"Calcium Intake\")\n",
    "sns.countplot(df,x=\"Calcium Intake\",hue=\"Calcium Intake\")\n",
    "plt.show()"
   ]
  },
  {
   "cell_type": "code",
   "execution_count": 45,
   "id": "db515aea-fee1-4117-8423-b3ba9f16013e",
   "metadata": {},
   "outputs": [
    {
     "data": {
      "text/html": [
       "<div>\n",
       "<style scoped>\n",
       "    .dataframe tbody tr th:only-of-type {\n",
       "        vertical-align: middle;\n",
       "    }\n",
       "\n",
       "    .dataframe tbody tr th {\n",
       "        vertical-align: top;\n",
       "    }\n",
       "\n",
       "    .dataframe thead th {\n",
       "        text-align: right;\n",
       "    }\n",
       "</style>\n",
       "<table border=\"1\" class=\"dataframe\">\n",
       "  <thead>\n",
       "    <tr style=\"text-align: right;\">\n",
       "      <th>Calcium Intake</th>\n",
       "      <th>Adequate</th>\n",
       "      <th>Low</th>\n",
       "    </tr>\n",
       "    <tr>\n",
       "      <th>Osteoporosis</th>\n",
       "      <th></th>\n",
       "      <th></th>\n",
       "    </tr>\n",
       "  </thead>\n",
       "  <tbody>\n",
       "    <tr>\n",
       "      <th>0</th>\n",
       "      <td>475</td>\n",
       "      <td>504</td>\n",
       "    </tr>\n",
       "    <tr>\n",
       "      <th>1</th>\n",
       "      <td>479</td>\n",
       "      <td>500</td>\n",
       "    </tr>\n",
       "  </tbody>\n",
       "</table>\n",
       "</div>"
      ],
      "text/plain": [
       "Calcium Intake  Adequate  Low\n",
       "Osteoporosis                 \n",
       "0                    475  504\n",
       "1                    479  500"
      ]
     },
     "execution_count": 45,
     "metadata": {},
     "output_type": "execute_result"
    }
   ],
   "source": [
    "pd.crosstab(columns=df[\"Calcium Intake\"],index=df[\"Osteoporosis\"])"
   ]
  },
  {
   "cell_type": "code",
   "execution_count": 46,
   "id": "e6c3b83d-ce8a-44ed-bd19-c33d4919735e",
   "metadata": {},
   "outputs": [
    {
     "data": {
      "image/png": "[encoded data removed]",
      "text/plain": [
       "<Figure size 640x480 with 1 Axes>"
      ]
     },
     "metadata": {},
     "output_type": "display_data"
    }
   ],
   "source": [
    "plt.title(\"Calcium Intake\")\n",
    "sns.countplot(df,x=\"Osteoporosis\",hue=\"Calcium Intake\")\n",
    "plt.show()"
   ]
  },
  {
   "cell_type": "code",
   "execution_count": 47,
   "id": "c9364e59-8d3c-4300-92d3-b425bc39753a",
   "metadata": {},
   "outputs": [
    {
     "data": {
      "text/plain": [
       "Vitamin D Intake\n",
       "Sufficient      1011\n",
       "Insufficient     947\n",
       "Name: count, dtype: int64"
      ]
     },
     "execution_count": 47,
     "metadata": {},
     "output_type": "execute_result"
    }
   ],
   "source": [
    "df[\"Vitamin D Intake\"].value_counts()"
   ]
  },
  {
   "cell_type": "code",
   "execution_count": 48,
   "id": "322e39f7-f609-4fe9-9ced-d880691b57e0",
   "metadata": {},
   "outputs": [
    {
     "data": {
      "text/plain": [
       "Physical Activity\n",
       "Active       1021\n",
       "Sedentary     937\n",
       "Name: count, dtype: int64"
      ]
     },
     "execution_count": 48,
     "metadata": {},
     "output_type": "execute_result"
    }
   ],
   "source": [
    "df[\"Physical Activity\"].value_counts()"
   ]
  },
  {
   "cell_type": "code",
   "execution_count": 49,
   "id": "2b35d46b-8372-4af2-8242-144e2f387273",
   "metadata": {},
   "outputs": [
    {
     "data": {
      "text/plain": [
       "Smoking\n",
       "Yes    982\n",
       "No     976\n",
       "Name: count, dtype: int64"
      ]
     },
     "execution_count": 49,
     "metadata": {},
     "output_type": "execute_result"
    }
   ],
   "source": [
    "df[\"Smoking\"].value_counts()"
   ]
  },
  {
   "cell_type": "code",
   "execution_count": 50,
   "id": "94ba8d14-d464-480d-93da-0b2909015f81",
   "metadata": {},
   "outputs": [
    {
     "data": {
      "text/plain": [
       "Prior Fractures\n",
       "Yes    983\n",
       "No     975\n",
       "Name: count, dtype: int64"
      ]
     },
     "execution_count": 50,
     "metadata": {},
     "output_type": "execute_result"
    }
   ],
   "source": [
    "df[\"Prior Fractures\"].value_counts()"
   ]
  },
  {
   "cell_type": "code",
   "execution_count": 51,
   "id": "97824f50-f4c1-452d-af6d-2af9fd47a3d4",
   "metadata": {},
   "outputs": [
    {
     "data": {
      "text/plain": [
       "Age                   0\n",
       "Gender                0\n",
       "Hormonal Changes      0\n",
       "Family History        0\n",
       "Race/Ethnicity        0\n",
       "Body Weight           0\n",
       "Calcium Intake        0\n",
       "Vitamin D Intake      0\n",
       "Physical Activity     0\n",
       "Smoking               0\n",
       "Medical Conditions    0\n",
       "Prior Fractures       0\n",
       "Osteoporosis          0\n",
       "dtype: int64"
      ]
     },
     "execution_count": 51,
     "metadata": {},
     "output_type": "execute_result"
    }
   ],
   "source": [
    "df.isnull().sum()"
   ]
  },
  {
   "cell_type": "markdown",
   "id": "b654c8f7-1ca7-4336-8ffe-ec09b04fdb6e",
   "metadata": {},
   "source": [
    "#### The get_dummies() function is used in machine learning for handling categorical variables.\n"
   ]
  },
  {
   "cell_type": "code",
   "execution_count": 52,
   "id": "72def493-8b0c-49a8-a9d7-f8213c256513",
   "metadata": {},
   "outputs": [
    {
     "data": {
      "text/html": [
       "<div>\n",
       "<style scoped>\n",
       "    .dataframe tbody tr th:only-of-type {\n",
       "        vertical-align: middle;\n",
       "    }\n",
       "\n",
       "    .dataframe tbody tr th {\n",
       "        vertical-align: top;\n",
       "    }\n",
       "\n",
       "    .dataframe thead th {\n",
       "        text-align: right;\n",
       "    }\n",
       "</style>\n",
       "<table border=\"1\" class=\"dataframe\">\n",
       "  <thead>\n",
       "    <tr style=\"text-align: right;\">\n",
       "      <th></th>\n",
       "      <th>Male</th>\n",
       "    </tr>\n",
       "  </thead>\n",
       "  <tbody>\n",
       "    <tr>\n",
       "      <th>0</th>\n",
       "      <td>0</td>\n",
       "    </tr>\n",
       "    <tr>\n",
       "      <th>1</th>\n",
       "      <td>0</td>\n",
       "    </tr>\n",
       "    <tr>\n",
       "      <th>2</th>\n",
       "      <td>0</td>\n",
       "    </tr>\n",
       "    <tr>\n",
       "      <th>3</th>\n",
       "      <td>0</td>\n",
       "    </tr>\n",
       "    <tr>\n",
       "      <th>4</th>\n",
       "      <td>1</td>\n",
       "    </tr>\n",
       "    <tr>\n",
       "      <th>...</th>\n",
       "      <td>...</td>\n",
       "    </tr>\n",
       "    <tr>\n",
       "      <th>1953</th>\n",
       "      <td>0</td>\n",
       "    </tr>\n",
       "    <tr>\n",
       "      <th>1954</th>\n",
       "      <td>0</td>\n",
       "    </tr>\n",
       "    <tr>\n",
       "      <th>1955</th>\n",
       "      <td>0</td>\n",
       "    </tr>\n",
       "    <tr>\n",
       "      <th>1956</th>\n",
       "      <td>1</td>\n",
       "    </tr>\n",
       "    <tr>\n",
       "      <th>1957</th>\n",
       "      <td>0</td>\n",
       "    </tr>\n",
       "  </tbody>\n",
       "</table>\n",
       "<p>1958 rows × 1 columns</p>\n",
       "</div>"
      ],
      "text/plain": [
       "      Male\n",
       "0        0\n",
       "1        0\n",
       "2        0\n",
       "3        0\n",
       "4        1\n",
       "...    ...\n",
       "1953     0\n",
       "1954     0\n",
       "1955     0\n",
       "1956     1\n",
       "1957     0\n",
       "\n",
       "[1958 rows x 1 columns]"
      ]
     },
     "execution_count": 52,
     "metadata": {},
     "output_type": "execute_result"
    }
   ],
   "source": [
    "pd.get_dummies(df[\"Gender\"],dtype=\"int\",drop_first=True)"
   ]
  },
  {
   "cell_type": "code",
   "execution_count": 53,
   "id": "aac54c18-e22e-41fc-b5ef-f025efbefb6f",
   "metadata": {},
   "outputs": [],
   "source": [
    "df[\"gender\"]=pd.get_dummies(df[\"Gender\"],dtype=\"int\",drop_first=True)"
   ]
  },
  {
   "cell_type": "code",
   "execution_count": 54,
   "id": "4b2c1e11-9d9d-4438-b56d-f108ecc63a38",
   "metadata": {},
   "outputs": [],
   "source": [
    "df.drop(\"Gender\",axis=1,inplace=True)"
   ]
  },
  {
   "cell_type": "code",
   "execution_count": 55,
   "id": "40f50d2e-d4e4-4a3c-b802-451afb924ec8",
   "metadata": {},
   "outputs": [
    {
     "data": {
      "text/html": [
       "<div>\n",
       "<style scoped>\n",
       "    .dataframe tbody tr th:only-of-type {\n",
       "        vertical-align: middle;\n",
       "    }\n",
       "\n",
       "    .dataframe tbody tr th {\n",
       "        vertical-align: top;\n",
       "    }\n",
       "\n",
       "    .dataframe thead th {\n",
       "        text-align: right;\n",
       "    }\n",
       "</style>\n",
       "<table border=\"1\" class=\"dataframe\">\n",
       "  <thead>\n",
       "    <tr style=\"text-align: right;\">\n",
       "      <th></th>\n",
       "      <th>Age</th>\n",
       "      <th>Hormonal Changes</th>\n",
       "      <th>Family History</th>\n",
       "      <th>Race/Ethnicity</th>\n",
       "      <th>Body Weight</th>\n",
       "      <th>Calcium Intake</th>\n",
       "      <th>Vitamin D Intake</th>\n",
       "      <th>Physical Activity</th>\n",
       "      <th>Smoking</th>\n",
       "      <th>Medical Conditions</th>\n",
       "      <th>Prior Fractures</th>\n",
       "      <th>Osteoporosis</th>\n",
       "      <th>gender</th>\n",
       "    </tr>\n",
       "  </thead>\n",
       "  <tbody>\n",
       "    <tr>\n",
       "      <th>0</th>\n",
       "      <td>69</td>\n",
       "      <td>Normal</td>\n",
       "      <td>Yes</td>\n",
       "      <td>Asian</td>\n",
       "      <td>Underweight</td>\n",
       "      <td>Low</td>\n",
       "      <td>Sufficient</td>\n",
       "      <td>Sedentary</td>\n",
       "      <td>Yes</td>\n",
       "      <td>Rheumatoid Arthritis</td>\n",
       "      <td>Yes</td>\n",
       "      <td>1</td>\n",
       "      <td>0</td>\n",
       "    </tr>\n",
       "    <tr>\n",
       "      <th>1</th>\n",
       "      <td>32</td>\n",
       "      <td>Normal</td>\n",
       "      <td>Yes</td>\n",
       "      <td>Asian</td>\n",
       "      <td>Underweight</td>\n",
       "      <td>Low</td>\n",
       "      <td>Sufficient</td>\n",
       "      <td>Sedentary</td>\n",
       "      <td>No</td>\n",
       "      <td>Hyperthyroidism</td>\n",
       "      <td>Yes</td>\n",
       "      <td>1</td>\n",
       "      <td>0</td>\n",
       "    </tr>\n",
       "    <tr>\n",
       "      <th>2</th>\n",
       "      <td>89</td>\n",
       "      <td>Postmenopausal</td>\n",
       "      <td>No</td>\n",
       "      <td>Caucasian</td>\n",
       "      <td>Normal</td>\n",
       "      <td>Adequate</td>\n",
       "      <td>Sufficient</td>\n",
       "      <td>Active</td>\n",
       "      <td>No</td>\n",
       "      <td>Hyperthyroidism</td>\n",
       "      <td>No</td>\n",
       "      <td>1</td>\n",
       "      <td>0</td>\n",
       "    </tr>\n",
       "    <tr>\n",
       "      <th>3</th>\n",
       "      <td>78</td>\n",
       "      <td>Normal</td>\n",
       "      <td>No</td>\n",
       "      <td>Caucasian</td>\n",
       "      <td>Underweight</td>\n",
       "      <td>Adequate</td>\n",
       "      <td>Insufficient</td>\n",
       "      <td>Sedentary</td>\n",
       "      <td>Yes</td>\n",
       "      <td>Rheumatoid Arthritis</td>\n",
       "      <td>No</td>\n",
       "      <td>1</td>\n",
       "      <td>0</td>\n",
       "    </tr>\n",
       "    <tr>\n",
       "      <th>4</th>\n",
       "      <td>38</td>\n",
       "      <td>Postmenopausal</td>\n",
       "      <td>Yes</td>\n",
       "      <td>African American</td>\n",
       "      <td>Normal</td>\n",
       "      <td>Low</td>\n",
       "      <td>Sufficient</td>\n",
       "      <td>Active</td>\n",
       "      <td>Yes</td>\n",
       "      <td>Rheumatoid Arthritis</td>\n",
       "      <td>Yes</td>\n",
       "      <td>1</td>\n",
       "      <td>1</td>\n",
       "    </tr>\n",
       "  </tbody>\n",
       "</table>\n",
       "</div>"
      ],
      "text/plain": [
       "   Age Hormonal Changes Family History    Race/Ethnicity  Body Weight  \\\n",
       "0   69           Normal            Yes             Asian  Underweight   \n",
       "1   32           Normal            Yes             Asian  Underweight   \n",
       "2   89   Postmenopausal             No         Caucasian       Normal   \n",
       "3   78           Normal             No         Caucasian  Underweight   \n",
       "4   38   Postmenopausal            Yes  African American       Normal   \n",
       "\n",
       "  Calcium Intake Vitamin D Intake Physical Activity Smoking  \\\n",
       "0            Low       Sufficient         Sedentary     Yes   \n",
       "1            Low       Sufficient         Sedentary      No   \n",
       "2       Adequate       Sufficient            Active      No   \n",
       "3       Adequate     Insufficient         Sedentary     Yes   \n",
       "4            Low       Sufficient            Active     Yes   \n",
       "\n",
       "     Medical Conditions Prior Fractures  Osteoporosis  gender  \n",
       "0  Rheumatoid Arthritis             Yes             1       0  \n",
       "1       Hyperthyroidism             Yes             1       0  \n",
       "2       Hyperthyroidism              No             1       0  \n",
       "3  Rheumatoid Arthritis              No             1       0  \n",
       "4  Rheumatoid Arthritis             Yes             1       1  "
      ]
     },
     "execution_count": 55,
     "metadata": {},
     "output_type": "execute_result"
    }
   ],
   "source": [
    "df.head()"
   ]
  },
  {
   "cell_type": "code",
   "execution_count": 56,
   "id": "09ec1003-b228-4195-81bf-5f21adb612c1",
   "metadata": {},
   "outputs": [
    {
     "data": {
      "text/html": [
       "<div>\n",
       "<style scoped>\n",
       "    .dataframe tbody tr th:only-of-type {\n",
       "        vertical-align: middle;\n",
       "    }\n",
       "\n",
       "    .dataframe tbody tr th {\n",
       "        vertical-align: top;\n",
       "    }\n",
       "\n",
       "    .dataframe thead th {\n",
       "        text-align: right;\n",
       "    }\n",
       "</style>\n",
       "<table border=\"1\" class=\"dataframe\">\n",
       "  <thead>\n",
       "    <tr style=\"text-align: right;\">\n",
       "      <th></th>\n",
       "      <th>Postmenopausal</th>\n",
       "    </tr>\n",
       "  </thead>\n",
       "  <tbody>\n",
       "    <tr>\n",
       "      <th>0</th>\n",
       "      <td>0</td>\n",
       "    </tr>\n",
       "    <tr>\n",
       "      <th>1</th>\n",
       "      <td>0</td>\n",
       "    </tr>\n",
       "    <tr>\n",
       "      <th>2</th>\n",
       "      <td>1</td>\n",
       "    </tr>\n",
       "    <tr>\n",
       "      <th>3</th>\n",
       "      <td>0</td>\n",
       "    </tr>\n",
       "    <tr>\n",
       "      <th>4</th>\n",
       "      <td>1</td>\n",
       "    </tr>\n",
       "    <tr>\n",
       "      <th>...</th>\n",
       "      <td>...</td>\n",
       "    </tr>\n",
       "    <tr>\n",
       "      <th>1953</th>\n",
       "      <td>0</td>\n",
       "    </tr>\n",
       "    <tr>\n",
       "      <th>1954</th>\n",
       "      <td>1</td>\n",
       "    </tr>\n",
       "    <tr>\n",
       "      <th>1955</th>\n",
       "      <td>1</td>\n",
       "    </tr>\n",
       "    <tr>\n",
       "      <th>1956</th>\n",
       "      <td>1</td>\n",
       "    </tr>\n",
       "    <tr>\n",
       "      <th>1957</th>\n",
       "      <td>1</td>\n",
       "    </tr>\n",
       "  </tbody>\n",
       "</table>\n",
       "<p>1958 rows × 1 columns</p>\n",
       "</div>"
      ],
      "text/plain": [
       "      Postmenopausal\n",
       "0                  0\n",
       "1                  0\n",
       "2                  1\n",
       "3                  0\n",
       "4                  1\n",
       "...              ...\n",
       "1953               0\n",
       "1954               1\n",
       "1955               1\n",
       "1956               1\n",
       "1957               1\n",
       "\n",
       "[1958 rows x 1 columns]"
      ]
     },
     "execution_count": 56,
     "metadata": {},
     "output_type": "execute_result"
    }
   ],
   "source": [
    "pd.get_dummies(df[\"Hormonal Changes\"],dtype=\"int\",drop_first=True)"
   ]
  },
  {
   "cell_type": "code",
   "execution_count": 57,
   "id": "57e6fbc6-54ca-4c93-a6bc-27317f409f07",
   "metadata": {},
   "outputs": [],
   "source": [
    "df[\"hormonal changes\"]=pd.get_dummies(df[\"Hormonal Changes\"],dtype=\"int\",drop_first=True)"
   ]
  },
  {
   "cell_type": "code",
   "execution_count": 58,
   "id": "4c7d911f-9094-4347-ac31-fdf41c0b27f3",
   "metadata": {},
   "outputs": [
    {
     "data": {
      "text/html": [
       "<div>\n",
       "<style scoped>\n",
       "    .dataframe tbody tr th:only-of-type {\n",
       "        vertical-align: middle;\n",
       "    }\n",
       "\n",
       "    .dataframe tbody tr th {\n",
       "        vertical-align: top;\n",
       "    }\n",
       "\n",
       "    .dataframe thead th {\n",
       "        text-align: right;\n",
       "    }\n",
       "</style>\n",
       "<table border=\"1\" class=\"dataframe\">\n",
       "  <thead>\n",
       "    <tr style=\"text-align: right;\">\n",
       "      <th></th>\n",
       "      <th>Hormonal Changes</th>\n",
       "      <th>hormonal changes</th>\n",
       "    </tr>\n",
       "  </thead>\n",
       "  <tbody>\n",
       "    <tr>\n",
       "      <th>0</th>\n",
       "      <td>Normal</td>\n",
       "      <td>0</td>\n",
       "    </tr>\n",
       "    <tr>\n",
       "      <th>1</th>\n",
       "      <td>Normal</td>\n",
       "      <td>0</td>\n",
       "    </tr>\n",
       "    <tr>\n",
       "      <th>2</th>\n",
       "      <td>Postmenopausal</td>\n",
       "      <td>1</td>\n",
       "    </tr>\n",
       "    <tr>\n",
       "      <th>3</th>\n",
       "      <td>Normal</td>\n",
       "      <td>0</td>\n",
       "    </tr>\n",
       "    <tr>\n",
       "      <th>4</th>\n",
       "      <td>Postmenopausal</td>\n",
       "      <td>1</td>\n",
       "    </tr>\n",
       "    <tr>\n",
       "      <th>...</th>\n",
       "      <td>...</td>\n",
       "      <td>...</td>\n",
       "    </tr>\n",
       "    <tr>\n",
       "      <th>1953</th>\n",
       "      <td>Normal</td>\n",
       "      <td>0</td>\n",
       "    </tr>\n",
       "    <tr>\n",
       "      <th>1954</th>\n",
       "      <td>Postmenopausal</td>\n",
       "      <td>1</td>\n",
       "    </tr>\n",
       "    <tr>\n",
       "      <th>1955</th>\n",
       "      <td>Postmenopausal</td>\n",
       "      <td>1</td>\n",
       "    </tr>\n",
       "    <tr>\n",
       "      <th>1956</th>\n",
       "      <td>Postmenopausal</td>\n",
       "      <td>1</td>\n",
       "    </tr>\n",
       "    <tr>\n",
       "      <th>1957</th>\n",
       "      <td>Postmenopausal</td>\n",
       "      <td>1</td>\n",
       "    </tr>\n",
       "  </tbody>\n",
       "</table>\n",
       "<p>1958 rows × 2 columns</p>\n",
       "</div>"
      ],
      "text/plain": [
       "     Hormonal Changes  hormonal changes\n",
       "0              Normal                 0\n",
       "1              Normal                 0\n",
       "2      Postmenopausal                 1\n",
       "3              Normal                 0\n",
       "4      Postmenopausal                 1\n",
       "...               ...               ...\n",
       "1953           Normal                 0\n",
       "1954   Postmenopausal                 1\n",
       "1955   Postmenopausal                 1\n",
       "1956   Postmenopausal                 1\n",
       "1957   Postmenopausal                 1\n",
       "\n",
       "[1958 rows x 2 columns]"
      ]
     },
     "execution_count": 58,
     "metadata": {},
     "output_type": "execute_result"
    }
   ],
   "source": [
    "df[[\"Hormonal Changes\",\"hormonal changes\"]]"
   ]
  },
  {
   "cell_type": "code",
   "execution_count": 59,
   "id": "68e1fafe-1798-4759-be4d-ee7c3f55cd37",
   "metadata": {},
   "outputs": [],
   "source": [
    "df.drop(\"Hormonal Changes\",axis=1,inplace=True)"
   ]
  },
  {
   "cell_type": "code",
   "execution_count": 60,
   "id": "37792b9b-575b-42b4-8d7a-cf316510d059",
   "metadata": {},
   "outputs": [
    {
     "data": {
      "text/html": [
       "<div>\n",
       "<style scoped>\n",
       "    .dataframe tbody tr th:only-of-type {\n",
       "        vertical-align: middle;\n",
       "    }\n",
       "\n",
       "    .dataframe tbody tr th {\n",
       "        vertical-align: top;\n",
       "    }\n",
       "\n",
       "    .dataframe thead th {\n",
       "        text-align: right;\n",
       "    }\n",
       "</style>\n",
       "<table border=\"1\" class=\"dataframe\">\n",
       "  <thead>\n",
       "    <tr style=\"text-align: right;\">\n",
       "      <th></th>\n",
       "      <th>Age</th>\n",
       "      <th>Family History</th>\n",
       "      <th>Race/Ethnicity</th>\n",
       "      <th>Body Weight</th>\n",
       "      <th>Calcium Intake</th>\n",
       "      <th>Vitamin D Intake</th>\n",
       "      <th>Physical Activity</th>\n",
       "      <th>Smoking</th>\n",
       "      <th>Medical Conditions</th>\n",
       "      <th>Prior Fractures</th>\n",
       "      <th>Osteoporosis</th>\n",
       "      <th>gender</th>\n",
       "      <th>hormonal changes</th>\n",
       "    </tr>\n",
       "  </thead>\n",
       "  <tbody>\n",
       "    <tr>\n",
       "      <th>0</th>\n",
       "      <td>69</td>\n",
       "      <td>Yes</td>\n",
       "      <td>Asian</td>\n",
       "      <td>Underweight</td>\n",
       "      <td>Low</td>\n",
       "      <td>Sufficient</td>\n",
       "      <td>Sedentary</td>\n",
       "      <td>Yes</td>\n",
       "      <td>Rheumatoid Arthritis</td>\n",
       "      <td>Yes</td>\n",
       "      <td>1</td>\n",
       "      <td>0</td>\n",
       "      <td>0</td>\n",
       "    </tr>\n",
       "    <tr>\n",
       "      <th>1</th>\n",
       "      <td>32</td>\n",
       "      <td>Yes</td>\n",
       "      <td>Asian</td>\n",
       "      <td>Underweight</td>\n",
       "      <td>Low</td>\n",
       "      <td>Sufficient</td>\n",
       "      <td>Sedentary</td>\n",
       "      <td>No</td>\n",
       "      <td>Hyperthyroidism</td>\n",
       "      <td>Yes</td>\n",
       "      <td>1</td>\n",
       "      <td>0</td>\n",
       "      <td>0</td>\n",
       "    </tr>\n",
       "    <tr>\n",
       "      <th>2</th>\n",
       "      <td>89</td>\n",
       "      <td>No</td>\n",
       "      <td>Caucasian</td>\n",
       "      <td>Normal</td>\n",
       "      <td>Adequate</td>\n",
       "      <td>Sufficient</td>\n",
       "      <td>Active</td>\n",
       "      <td>No</td>\n",
       "      <td>Hyperthyroidism</td>\n",
       "      <td>No</td>\n",
       "      <td>1</td>\n",
       "      <td>0</td>\n",
       "      <td>1</td>\n",
       "    </tr>\n",
       "    <tr>\n",
       "      <th>3</th>\n",
       "      <td>78</td>\n",
       "      <td>No</td>\n",
       "      <td>Caucasian</td>\n",
       "      <td>Underweight</td>\n",
       "      <td>Adequate</td>\n",
       "      <td>Insufficient</td>\n",
       "      <td>Sedentary</td>\n",
       "      <td>Yes</td>\n",
       "      <td>Rheumatoid Arthritis</td>\n",
       "      <td>No</td>\n",
       "      <td>1</td>\n",
       "      <td>0</td>\n",
       "      <td>0</td>\n",
       "    </tr>\n",
       "    <tr>\n",
       "      <th>4</th>\n",
       "      <td>38</td>\n",
       "      <td>Yes</td>\n",
       "      <td>African American</td>\n",
       "      <td>Normal</td>\n",
       "      <td>Low</td>\n",
       "      <td>Sufficient</td>\n",
       "      <td>Active</td>\n",
       "      <td>Yes</td>\n",
       "      <td>Rheumatoid Arthritis</td>\n",
       "      <td>Yes</td>\n",
       "      <td>1</td>\n",
       "      <td>1</td>\n",
       "      <td>1</td>\n",
       "    </tr>\n",
       "  </tbody>\n",
       "</table>\n",
       "</div>"
      ],
      "text/plain": [
       "   Age Family History    Race/Ethnicity  Body Weight Calcium Intake  \\\n",
       "0   69            Yes             Asian  Underweight            Low   \n",
       "1   32            Yes             Asian  Underweight            Low   \n",
       "2   89             No         Caucasian       Normal       Adequate   \n",
       "3   78             No         Caucasian  Underweight       Adequate   \n",
       "4   38            Yes  African American       Normal            Low   \n",
       "\n",
       "  Vitamin D Intake Physical Activity Smoking    Medical Conditions  \\\n",
       "0       Sufficient         Sedentary     Yes  Rheumatoid Arthritis   \n",
       "1       Sufficient         Sedentary      No       Hyperthyroidism   \n",
       "2       Sufficient            Active      No       Hyperthyroidism   \n",
       "3     Insufficient         Sedentary     Yes  Rheumatoid Arthritis   \n",
       "4       Sufficient            Active     Yes  Rheumatoid Arthritis   \n",
       "\n",
       "  Prior Fractures  Osteoporosis  gender  hormonal changes  \n",
       "0             Yes             1       0                 0  \n",
       "1             Yes             1       0                 0  \n",
       "2              No             1       0                 1  \n",
       "3              No             1       0                 0  \n",
       "4             Yes             1       1                 1  "
      ]
     },
     "execution_count": 60,
     "metadata": {},
     "output_type": "execute_result"
    }
   ],
   "source": [
    "df.head()"
   ]
  },
  {
   "cell_type": "code",
   "execution_count": 61,
   "id": "8cadd105-ad09-41b1-90b8-6ba2ff7c166d",
   "metadata": {},
   "outputs": [],
   "source": [
    "df[\"family history\"]=pd.get_dummies(df[\"Family History\"],dtype=\"int\",drop_first=True)\n",
    "df.drop(\"Family History\",axis=1,inplace=True)"
   ]
  },
  {
   "cell_type": "code",
   "execution_count": 62,
   "id": "fd4ac966-ddb7-475e-b017-ef33bfc0cd94",
   "metadata": {},
   "outputs": [],
   "source": [
    "df[\"weight\"]=pd.get_dummies(df[\"Body Weight\"],dtype=\"int\",drop_first=True)\n",
    "df.drop(\"Body Weight\",axis=1,inplace=True)"
   ]
  },
  {
   "cell_type": "code",
   "execution_count": 63,
   "id": "ba83da3d-19c2-4145-a370-013ffbd0586f",
   "metadata": {},
   "outputs": [],
   "source": [
    "df[\"calcium intake\"]=pd.get_dummies(df[\"Calcium Intake\"],dtype=\"int\",drop_first=True)\n",
    "df.drop(\"Calcium Intake\",axis=1,inplace=True)"
   ]
  },
  {
   "cell_type": "code",
   "execution_count": 64,
   "id": "6a271147-db22-41e2-8091-b5d177381e43",
   "metadata": {},
   "outputs": [],
   "source": [
    "df[\"vit D\"]=pd.get_dummies(df[\"Vitamin D Intake\"],dtype=\"int\",drop_first=True)\n",
    "df.drop(\"Vitamin D Intake\",axis=1,inplace=True)"
   ]
  },
  {
   "cell_type": "code",
   "execution_count": 65,
   "id": "65e670bf-99ac-4b18-9f8b-fa7375e10ee9",
   "metadata": {},
   "outputs": [],
   "source": [
    "df[\"Activity\"]=pd.get_dummies(df[\"Physical Activity\"],dtype=\"int\",drop_first=True)\n",
    "df.drop(\"Physical Activity\",axis=1,inplace=True)"
   ]
  },
  {
   "cell_type": "code",
   "execution_count": 66,
   "id": "28b9f4bc-7c8f-4556-b6d3-b94ff432d751",
   "metadata": {},
   "outputs": [],
   "source": [
    "df[\"smoking\"]=pd.get_dummies(df[\"Smoking\"],dtype=\"int\",drop_first=True)\n",
    "df.drop(\"Smoking\",axis=1,inplace=True)"
   ]
  },
  {
   "cell_type": "code",
   "execution_count": 67,
   "id": "ae15f4a7-2e9f-4977-9fec-5680f68e37dd",
   "metadata": {},
   "outputs": [
    {
     "data": {
      "text/html": [
       "<div>\n",
       "<style scoped>\n",
       "    .dataframe tbody tr th:only-of-type {\n",
       "        vertical-align: middle;\n",
       "    }\n",
       "\n",
       "    .dataframe tbody tr th {\n",
       "        vertical-align: top;\n",
       "    }\n",
       "\n",
       "    .dataframe thead th {\n",
       "        text-align: right;\n",
       "    }\n",
       "</style>\n",
       "<table border=\"1\" class=\"dataframe\">\n",
       "  <thead>\n",
       "    <tr style=\"text-align: right;\">\n",
       "      <th></th>\n",
       "      <th>Age</th>\n",
       "      <th>Race/Ethnicity</th>\n",
       "      <th>Medical Conditions</th>\n",
       "      <th>Prior Fractures</th>\n",
       "      <th>Osteoporosis</th>\n",
       "      <th>gender</th>\n",
       "      <th>hormonal changes</th>\n",
       "      <th>family history</th>\n",
       "      <th>weight</th>\n",
       "      <th>calcium intake</th>\n",
       "      <th>vit D</th>\n",
       "      <th>Activity</th>\n",
       "      <th>smoking</th>\n",
       "    </tr>\n",
       "  </thead>\n",
       "  <tbody>\n",
       "    <tr>\n",
       "      <th>0</th>\n",
       "      <td>69</td>\n",
       "      <td>Asian</td>\n",
       "      <td>Rheumatoid Arthritis</td>\n",
       "      <td>Yes</td>\n",
       "      <td>1</td>\n",
       "      <td>0</td>\n",
       "      <td>0</td>\n",
       "      <td>1</td>\n",
       "      <td>1</td>\n",
       "      <td>1</td>\n",
       "      <td>1</td>\n",
       "      <td>1</td>\n",
       "      <td>1</td>\n",
       "    </tr>\n",
       "    <tr>\n",
       "      <th>1</th>\n",
       "      <td>32</td>\n",
       "      <td>Asian</td>\n",
       "      <td>Hyperthyroidism</td>\n",
       "      <td>Yes</td>\n",
       "      <td>1</td>\n",
       "      <td>0</td>\n",
       "      <td>0</td>\n",
       "      <td>1</td>\n",
       "      <td>1</td>\n",
       "      <td>1</td>\n",
       "      <td>1</td>\n",
       "      <td>1</td>\n",
       "      <td>0</td>\n",
       "    </tr>\n",
       "    <tr>\n",
       "      <th>2</th>\n",
       "      <td>89</td>\n",
       "      <td>Caucasian</td>\n",
       "      <td>Hyperthyroidism</td>\n",
       "      <td>No</td>\n",
       "      <td>1</td>\n",
       "      <td>0</td>\n",
       "      <td>1</td>\n",
       "      <td>0</td>\n",
       "      <td>0</td>\n",
       "      <td>0</td>\n",
       "      <td>1</td>\n",
       "      <td>0</td>\n",
       "      <td>0</td>\n",
       "    </tr>\n",
       "    <tr>\n",
       "      <th>3</th>\n",
       "      <td>78</td>\n",
       "      <td>Caucasian</td>\n",
       "      <td>Rheumatoid Arthritis</td>\n",
       "      <td>No</td>\n",
       "      <td>1</td>\n",
       "      <td>0</td>\n",
       "      <td>0</td>\n",
       "      <td>0</td>\n",
       "      <td>1</td>\n",
       "      <td>0</td>\n",
       "      <td>0</td>\n",
       "      <td>1</td>\n",
       "      <td>1</td>\n",
       "    </tr>\n",
       "    <tr>\n",
       "      <th>4</th>\n",
       "      <td>38</td>\n",
       "      <td>African American</td>\n",
       "      <td>Rheumatoid Arthritis</td>\n",
       "      <td>Yes</td>\n",
       "      <td>1</td>\n",
       "      <td>1</td>\n",
       "      <td>1</td>\n",
       "      <td>1</td>\n",
       "      <td>0</td>\n",
       "      <td>1</td>\n",
       "      <td>1</td>\n",
       "      <td>0</td>\n",
       "      <td>1</td>\n",
       "    </tr>\n",
       "  </tbody>\n",
       "</table>\n",
       "</div>"
      ],
      "text/plain": [
       "   Age    Race/Ethnicity    Medical Conditions Prior Fractures  Osteoporosis  \\\n",
       "0   69             Asian  Rheumatoid Arthritis             Yes             1   \n",
       "1   32             Asian       Hyperthyroidism             Yes             1   \n",
       "2   89         Caucasian       Hyperthyroidism              No             1   \n",
       "3   78         Caucasian  Rheumatoid Arthritis              No             1   \n",
       "4   38  African American  Rheumatoid Arthritis             Yes             1   \n",
       "\n",
       "   gender  hormonal changes  family history  weight  calcium intake  vit D  \\\n",
       "0       0                 0               1       1               1      1   \n",
       "1       0                 0               1       1               1      1   \n",
       "2       0                 1               0       0               0      1   \n",
       "3       0                 0               0       1               0      0   \n",
       "4       1                 1               1       0               1      1   \n",
       "\n",
       "   Activity  smoking  \n",
       "0         1        1  \n",
       "1         1        0  \n",
       "2         0        0  \n",
       "3         1        1  \n",
       "4         0        1  "
      ]
     },
     "execution_count": 67,
     "metadata": {},
     "output_type": "execute_result"
    }
   ],
   "source": [
    "df.head()"
   ]
  },
  {
   "cell_type": "code",
   "execution_count": 68,
   "id": "defb7016-4ca4-4f3d-b12d-5d9c18a45f06",
   "metadata": {},
   "outputs": [],
   "source": [
    "df[\"Fractures\"]=pd.get_dummies(df[\"Prior Fractures\"],dtype=\"int\",drop_first=True)\n",
    "df.drop(\"Prior Fractures\",axis=1,inplace=True)"
   ]
  },
  {
   "cell_type": "code",
   "execution_count": 69,
   "id": "1a422eec-6457-4cbf-9859-c7d2519104be",
   "metadata": {},
   "outputs": [],
   "source": [
    "df.dropna(subset=['Medical Conditions'], inplace=True)"
   ]
  },
  {
   "cell_type": "code",
   "execution_count": 70,
   "id": "7be4549a-6a34-429a-9f3b-bea2f154b82c",
   "metadata": {},
   "outputs": [
    {
     "data": {
      "text/html": [
       "<div>\n",
       "<style scoped>\n",
       "    .dataframe tbody tr th:only-of-type {\n",
       "        vertical-align: middle;\n",
       "    }\n",
       "\n",
       "    .dataframe tbody tr th {\n",
       "        vertical-align: top;\n",
       "    }\n",
       "\n",
       "    .dataframe thead th {\n",
       "        text-align: right;\n",
       "    }\n",
       "</style>\n",
       "<table border=\"1\" class=\"dataframe\">\n",
       "  <thead>\n",
       "    <tr style=\"text-align: right;\">\n",
       "      <th></th>\n",
       "      <th>Age</th>\n",
       "      <th>Race/Ethnicity</th>\n",
       "      <th>Medical Conditions</th>\n",
       "      <th>Osteoporosis</th>\n",
       "      <th>gender</th>\n",
       "      <th>hormonal changes</th>\n",
       "      <th>family history</th>\n",
       "      <th>weight</th>\n",
       "      <th>calcium intake</th>\n",
       "      <th>vit D</th>\n",
       "      <th>Activity</th>\n",
       "      <th>smoking</th>\n",
       "      <th>Fractures</th>\n",
       "    </tr>\n",
       "  </thead>\n",
       "  <tbody>\n",
       "    <tr>\n",
       "      <th>0</th>\n",
       "      <td>69</td>\n",
       "      <td>Asian</td>\n",
       "      <td>Rheumatoid Arthritis</td>\n",
       "      <td>1</td>\n",
       "      <td>0</td>\n",
       "      <td>0</td>\n",
       "      <td>1</td>\n",
       "      <td>1</td>\n",
       "      <td>1</td>\n",
       "      <td>1</td>\n",
       "      <td>1</td>\n",
       "      <td>1</td>\n",
       "      <td>1</td>\n",
       "    </tr>\n",
       "    <tr>\n",
       "      <th>1</th>\n",
       "      <td>32</td>\n",
       "      <td>Asian</td>\n",
       "      <td>Hyperthyroidism</td>\n",
       "      <td>1</td>\n",
       "      <td>0</td>\n",
       "      <td>0</td>\n",
       "      <td>1</td>\n",
       "      <td>1</td>\n",
       "      <td>1</td>\n",
       "      <td>1</td>\n",
       "      <td>1</td>\n",
       "      <td>0</td>\n",
       "      <td>1</td>\n",
       "    </tr>\n",
       "    <tr>\n",
       "      <th>2</th>\n",
       "      <td>89</td>\n",
       "      <td>Caucasian</td>\n",
       "      <td>Hyperthyroidism</td>\n",
       "      <td>1</td>\n",
       "      <td>0</td>\n",
       "      <td>1</td>\n",
       "      <td>0</td>\n",
       "      <td>0</td>\n",
       "      <td>0</td>\n",
       "      <td>1</td>\n",
       "      <td>0</td>\n",
       "      <td>0</td>\n",
       "      <td>0</td>\n",
       "    </tr>\n",
       "    <tr>\n",
       "      <th>3</th>\n",
       "      <td>78</td>\n",
       "      <td>Caucasian</td>\n",
       "      <td>Rheumatoid Arthritis</td>\n",
       "      <td>1</td>\n",
       "      <td>0</td>\n",
       "      <td>0</td>\n",
       "      <td>0</td>\n",
       "      <td>1</td>\n",
       "      <td>0</td>\n",
       "      <td>0</td>\n",
       "      <td>1</td>\n",
       "      <td>1</td>\n",
       "      <td>0</td>\n",
       "    </tr>\n",
       "    <tr>\n",
       "      <th>4</th>\n",
       "      <td>38</td>\n",
       "      <td>African American</td>\n",
       "      <td>Rheumatoid Arthritis</td>\n",
       "      <td>1</td>\n",
       "      <td>1</td>\n",
       "      <td>1</td>\n",
       "      <td>1</td>\n",
       "      <td>0</td>\n",
       "      <td>1</td>\n",
       "      <td>1</td>\n",
       "      <td>0</td>\n",
       "      <td>1</td>\n",
       "      <td>1</td>\n",
       "    </tr>\n",
       "  </tbody>\n",
       "</table>\n",
       "</div>"
      ],
      "text/plain": [
       "   Age    Race/Ethnicity    Medical Conditions  Osteoporosis  gender  \\\n",
       "0   69             Asian  Rheumatoid Arthritis             1       0   \n",
       "1   32             Asian       Hyperthyroidism             1       0   \n",
       "2   89         Caucasian       Hyperthyroidism             1       0   \n",
       "3   78         Caucasian  Rheumatoid Arthritis             1       0   \n",
       "4   38  African American  Rheumatoid Arthritis             1       1   \n",
       "\n",
       "   hormonal changes  family history  weight  calcium intake  vit D  Activity  \\\n",
       "0                 0               1       1               1      1         1   \n",
       "1                 0               1       1               1      1         1   \n",
       "2                 1               0       0               0      1         0   \n",
       "3                 0               0       1               0      0         1   \n",
       "4                 1               1       0               1      1         0   \n",
       "\n",
       "   smoking  Fractures  \n",
       "0        1          1  \n",
       "1        0          1  \n",
       "2        0          0  \n",
       "3        1          0  \n",
       "4        1          1  "
      ]
     },
     "execution_count": 70,
     "metadata": {},
     "output_type": "execute_result"
    }
   ],
   "source": [
    "df.head()"
   ]
  },
  {
   "cell_type": "code",
   "execution_count": 71,
   "id": "9c446834-24e7-45b2-8ec3-ff46f47f603c",
   "metadata": {},
   "outputs": [],
   "source": [
    "df[\"medical condition\"]=pd.get_dummies(df[\"Medical Conditions\"],dtype=\"int\",drop_first=True)\n",
    "df.drop(\"Medical Conditions\",axis=1,inplace=True)"
   ]
  },
  {
   "cell_type": "code",
   "execution_count": 72,
   "id": "7db91fbe-f281-461d-87c8-766ba7736dd8",
   "metadata": {},
   "outputs": [
    {
     "data": {
      "text/html": [
       "<div>\n",
       "<style scoped>\n",
       "    .dataframe tbody tr th:only-of-type {\n",
       "        vertical-align: middle;\n",
       "    }\n",
       "\n",
       "    .dataframe tbody tr th {\n",
       "        vertical-align: top;\n",
       "    }\n",
       "\n",
       "    .dataframe thead th {\n",
       "        text-align: right;\n",
       "    }\n",
       "</style>\n",
       "<table border=\"1\" class=\"dataframe\">\n",
       "  <thead>\n",
       "    <tr style=\"text-align: right;\">\n",
       "      <th></th>\n",
       "      <th>Age</th>\n",
       "      <th>Race/Ethnicity</th>\n",
       "      <th>Osteoporosis</th>\n",
       "      <th>gender</th>\n",
       "      <th>hormonal changes</th>\n",
       "      <th>family history</th>\n",
       "      <th>weight</th>\n",
       "      <th>calcium intake</th>\n",
       "      <th>vit D</th>\n",
       "      <th>Activity</th>\n",
       "      <th>smoking</th>\n",
       "      <th>Fractures</th>\n",
       "      <th>medical condition</th>\n",
       "    </tr>\n",
       "  </thead>\n",
       "  <tbody>\n",
       "    <tr>\n",
       "      <th>0</th>\n",
       "      <td>69</td>\n",
       "      <td>Asian</td>\n",
       "      <td>1</td>\n",
       "      <td>0</td>\n",
       "      <td>0</td>\n",
       "      <td>1</td>\n",
       "      <td>1</td>\n",
       "      <td>1</td>\n",
       "      <td>1</td>\n",
       "      <td>1</td>\n",
       "      <td>1</td>\n",
       "      <td>1</td>\n",
       "      <td>1</td>\n",
       "    </tr>\n",
       "    <tr>\n",
       "      <th>1</th>\n",
       "      <td>32</td>\n",
       "      <td>Asian</td>\n",
       "      <td>1</td>\n",
       "      <td>0</td>\n",
       "      <td>0</td>\n",
       "      <td>1</td>\n",
       "      <td>1</td>\n",
       "      <td>1</td>\n",
       "      <td>1</td>\n",
       "      <td>1</td>\n",
       "      <td>0</td>\n",
       "      <td>1</td>\n",
       "      <td>0</td>\n",
       "    </tr>\n",
       "    <tr>\n",
       "      <th>2</th>\n",
       "      <td>89</td>\n",
       "      <td>Caucasian</td>\n",
       "      <td>1</td>\n",
       "      <td>0</td>\n",
       "      <td>1</td>\n",
       "      <td>0</td>\n",
       "      <td>0</td>\n",
       "      <td>0</td>\n",
       "      <td>1</td>\n",
       "      <td>0</td>\n",
       "      <td>0</td>\n",
       "      <td>0</td>\n",
       "      <td>0</td>\n",
       "    </tr>\n",
       "    <tr>\n",
       "      <th>3</th>\n",
       "      <td>78</td>\n",
       "      <td>Caucasian</td>\n",
       "      <td>1</td>\n",
       "      <td>0</td>\n",
       "      <td>0</td>\n",
       "      <td>0</td>\n",
       "      <td>1</td>\n",
       "      <td>0</td>\n",
       "      <td>0</td>\n",
       "      <td>1</td>\n",
       "      <td>1</td>\n",
       "      <td>0</td>\n",
       "      <td>1</td>\n",
       "    </tr>\n",
       "    <tr>\n",
       "      <th>4</th>\n",
       "      <td>38</td>\n",
       "      <td>African American</td>\n",
       "      <td>1</td>\n",
       "      <td>1</td>\n",
       "      <td>1</td>\n",
       "      <td>1</td>\n",
       "      <td>0</td>\n",
       "      <td>1</td>\n",
       "      <td>1</td>\n",
       "      <td>0</td>\n",
       "      <td>1</td>\n",
       "      <td>1</td>\n",
       "      <td>1</td>\n",
       "    </tr>\n",
       "  </tbody>\n",
       "</table>\n",
       "</div>"
      ],
      "text/plain": [
       "   Age    Race/Ethnicity  Osteoporosis  gender  hormonal changes  \\\n",
       "0   69             Asian             1       0                 0   \n",
       "1   32             Asian             1       0                 0   \n",
       "2   89         Caucasian             1       0                 1   \n",
       "3   78         Caucasian             1       0                 0   \n",
       "4   38  African American             1       1                 1   \n",
       "\n",
       "   family history  weight  calcium intake  vit D  Activity  smoking  \\\n",
       "0               1       1               1      1         1        1   \n",
       "1               1       1               1      1         1        0   \n",
       "2               0       0               0      1         0        0   \n",
       "3               0       1               0      0         1        1   \n",
       "4               1       0               1      1         0        1   \n",
       "\n",
       "   Fractures  medical condition  \n",
       "0          1                  1  \n",
       "1          1                  0  \n",
       "2          0                  0  \n",
       "3          0                  1  \n",
       "4          1                  1  "
      ]
     },
     "execution_count": 72,
     "metadata": {},
     "output_type": "execute_result"
    }
   ],
   "source": [
    "df.head()"
   ]
  },
  {
   "cell_type": "code",
   "execution_count": 73,
   "id": "edcbca40-5152-4ac5-8939-f6eddbd1d89c",
   "metadata": {},
   "outputs": [
    {
     "data": {
      "text/plain": [
       "Age                  0\n",
       "Race/Ethnicity       0\n",
       "Osteoporosis         0\n",
       "gender               0\n",
       "hormonal changes     0\n",
       "family history       0\n",
       "weight               0\n",
       "calcium intake       0\n",
       "vit D                0\n",
       "Activity             0\n",
       "smoking              0\n",
       "Fractures            0\n",
       "medical condition    0\n",
       "dtype: int64"
      ]
     },
     "execution_count": 73,
     "metadata": {},
     "output_type": "execute_result"
    }
   ],
   "source": [
    "df.isnull().sum()"
   ]
  },
  {
   "cell_type": "code",
   "execution_count": 74,
   "id": "f04e0907-4dfd-4970-bc15-9bf715d85d8d",
   "metadata": {},
   "outputs": [
    {
     "data": {
      "text/plain": [
       "<Axes: >"
      ]
     },
     "execution_count": 74,
     "metadata": {},
     "output_type": "execute_result"
    },
    {
     "data": {
      "image/png": "[encoded data removed]",
      "text/plain": [
       "<Figure size 640x480 with 1 Axes>"
      ]
     },
     "metadata": {},
     "output_type": "display_data"
    }
   ],
   "source": [
    "df[\"medical condition\"].plot.box()"
   ]
  },
  {
   "cell_type": "markdown",
   "id": "38e56a37-c45d-4988-86bd-08fa87cba803",
   "metadata": {},
   "source": [
    "#### categorical variables need to be transformed into a numerical format."
   ]
  },
  {
   "cell_type": "code",
   "execution_count": 75,
   "id": "14f1542a-247a-4130-b10f-3210a3ec2085",
   "metadata": {},
   "outputs": [],
   "source": [
    "#Import LabelEncoder\n",
    "from sklearn.preprocessing import LabelEncoder\n"
   ]
  },
  {
   "cell_type": "code",
   "execution_count": 76,
   "id": "978a9a4b-1544-4a22-a3aa-b28dd13ab9a0",
   "metadata": {},
   "outputs": [],
   "source": [
    "le=LabelEncoder()"
   ]
  },
  {
   "cell_type": "code",
   "execution_count": 77,
   "id": "e9069835-e28f-4311-a846-ff8b4ff0d748",
   "metadata": {},
   "outputs": [
    {
     "data": {
      "text/plain": [
       "array([1, 1, 2, ..., 0, 0, 0])"
      ]
     },
     "execution_count": 77,
     "metadata": {},
     "output_type": "execute_result"
    }
   ],
   "source": [
    "le.fit_transform(df[\"Race/Ethnicity\"])"
   ]
  },
  {
   "cell_type": "code",
   "execution_count": 78,
   "id": "a20fe0e9-e8a9-48c9-b38a-458639ade2ba",
   "metadata": {},
   "outputs": [],
   "source": [
    "df[\"Race/Ethnicity\"]=le.fit_transform(df[\"Race/Ethnicity\"])"
   ]
  },
  {
   "cell_type": "code",
   "execution_count": 79,
   "id": "4e23d35f-95d3-4c9a-b7c2-7d943214c8a7",
   "metadata": {},
   "outputs": [
    {
     "data": {
      "text/html": [
       "<div>\n",
       "<style scoped>\n",
       "    .dataframe tbody tr th:only-of-type {\n",
       "        vertical-align: middle;\n",
       "    }\n",
       "\n",
       "    .dataframe tbody tr th {\n",
       "        vertical-align: top;\n",
       "    }\n",
       "\n",
       "    .dataframe thead th {\n",
       "        text-align: right;\n",
       "    }\n",
       "</style>\n",
       "<table border=\"1\" class=\"dataframe\">\n",
       "  <thead>\n",
       "    <tr style=\"text-align: right;\">\n",
       "      <th></th>\n",
       "      <th>Age</th>\n",
       "      <th>Race/Ethnicity</th>\n",
       "      <th>Osteoporosis</th>\n",
       "      <th>gender</th>\n",
       "      <th>hormonal changes</th>\n",
       "      <th>family history</th>\n",
       "      <th>weight</th>\n",
       "      <th>calcium intake</th>\n",
       "      <th>vit D</th>\n",
       "      <th>Activity</th>\n",
       "      <th>smoking</th>\n",
       "      <th>Fractures</th>\n",
       "      <th>medical condition</th>\n",
       "    </tr>\n",
       "  </thead>\n",
       "  <tbody>\n",
       "    <tr>\n",
       "      <th>0</th>\n",
       "      <td>69</td>\n",
       "      <td>1</td>\n",
       "      <td>1</td>\n",
       "      <td>0</td>\n",
       "      <td>0</td>\n",
       "      <td>1</td>\n",
       "      <td>1</td>\n",
       "      <td>1</td>\n",
       "      <td>1</td>\n",
       "      <td>1</td>\n",
       "      <td>1</td>\n",
       "      <td>1</td>\n",
       "      <td>1</td>\n",
       "    </tr>\n",
       "    <tr>\n",
       "      <th>1</th>\n",
       "      <td>32</td>\n",
       "      <td>1</td>\n",
       "      <td>1</td>\n",
       "      <td>0</td>\n",
       "      <td>0</td>\n",
       "      <td>1</td>\n",
       "      <td>1</td>\n",
       "      <td>1</td>\n",
       "      <td>1</td>\n",
       "      <td>1</td>\n",
       "      <td>0</td>\n",
       "      <td>1</td>\n",
       "      <td>0</td>\n",
       "    </tr>\n",
       "    <tr>\n",
       "      <th>2</th>\n",
       "      <td>89</td>\n",
       "      <td>2</td>\n",
       "      <td>1</td>\n",
       "      <td>0</td>\n",
       "      <td>1</td>\n",
       "      <td>0</td>\n",
       "      <td>0</td>\n",
       "      <td>0</td>\n",
       "      <td>1</td>\n",
       "      <td>0</td>\n",
       "      <td>0</td>\n",
       "      <td>0</td>\n",
       "      <td>0</td>\n",
       "    </tr>\n",
       "    <tr>\n",
       "      <th>3</th>\n",
       "      <td>78</td>\n",
       "      <td>2</td>\n",
       "      <td>1</td>\n",
       "      <td>0</td>\n",
       "      <td>0</td>\n",
       "      <td>0</td>\n",
       "      <td>1</td>\n",
       "      <td>0</td>\n",
       "      <td>0</td>\n",
       "      <td>1</td>\n",
       "      <td>1</td>\n",
       "      <td>0</td>\n",
       "      <td>1</td>\n",
       "    </tr>\n",
       "    <tr>\n",
       "      <th>4</th>\n",
       "      <td>38</td>\n",
       "      <td>0</td>\n",
       "      <td>1</td>\n",
       "      <td>1</td>\n",
       "      <td>1</td>\n",
       "      <td>1</td>\n",
       "      <td>0</td>\n",
       "      <td>1</td>\n",
       "      <td>1</td>\n",
       "      <td>0</td>\n",
       "      <td>1</td>\n",
       "      <td>1</td>\n",
       "      <td>1</td>\n",
       "    </tr>\n",
       "  </tbody>\n",
       "</table>\n",
       "</div>"
      ],
      "text/plain": [
       "   Age  Race/Ethnicity  Osteoporosis  gender  hormonal changes  \\\n",
       "0   69               1             1       0                 0   \n",
       "1   32               1             1       0                 0   \n",
       "2   89               2             1       0                 1   \n",
       "3   78               2             1       0                 0   \n",
       "4   38               0             1       1                 1   \n",
       "\n",
       "   family history  weight  calcium intake  vit D  Activity  smoking  \\\n",
       "0               1       1               1      1         1        1   \n",
       "1               1       1               1      1         1        0   \n",
       "2               0       0               0      1         0        0   \n",
       "3               0       1               0      0         1        1   \n",
       "4               1       0               1      1         0        1   \n",
       "\n",
       "   Fractures  medical condition  \n",
       "0          1                  1  \n",
       "1          1                  0  \n",
       "2          0                  0  \n",
       "3          0                  1  \n",
       "4          1                  1  "
      ]
     },
     "execution_count": 79,
     "metadata": {},
     "output_type": "execute_result"
    }
   ],
   "source": [
    "df.head()"
   ]
  },
  {
   "cell_type": "code",
   "execution_count": 80,
   "id": "20b1402d-f7da-44c5-90e3-97a28bf6c46b",
   "metadata": {},
   "outputs": [
    {
     "data": {
      "text/plain": [
       "Age                  0\n",
       "Race/Ethnicity       0\n",
       "Osteoporosis         0\n",
       "gender               0\n",
       "hormonal changes     0\n",
       "family history       0\n",
       "weight               0\n",
       "calcium intake       0\n",
       "vit D                0\n",
       "Activity             0\n",
       "smoking              0\n",
       "Fractures            0\n",
       "medical condition    0\n",
       "dtype: int64"
      ]
     },
     "execution_count": 80,
     "metadata": {},
     "output_type": "execute_result"
    }
   ],
   "source": [
    "df.isna().sum()"
   ]
  },
  {
   "cell_type": "markdown",
   "id": "000442d3-cd22-4c78-8265-40e0604237b9",
   "metadata": {},
   "source": [
    "#### Split the columns into Independant Variable(x) and Target Variable(y)"
   ]
  },
  {
   "cell_type": "code",
   "execution_count": 81,
   "id": "74c9943b-3641-44ba-a2bc-0b9404962963",
   "metadata": {},
   "outputs": [],
   "source": [
    "x=df.drop(\"Osteoporosis\",axis=1)\n",
    "y=df[\"Osteoporosis\"]"
   ]
  },
  {
   "cell_type": "markdown",
   "id": "5da30a2b-a471-49fb-9639-fadc7c2c88b2",
   "metadata": {},
   "source": [
    "#### Split Dataset into Train,Test"
   ]
  },
  {
   "cell_type": "code",
   "execution_count": 82,
   "id": "2f98d32e-f266-4a17-9785-564bd28ecf04",
   "metadata": {},
   "outputs": [],
   "source": [
    "x_train,x_test,y_train,y_test=train_test_split(x,y,train_size=0.75,random_state=98)"
   ]
  },
  {
   "cell_type": "markdown",
   "id": "5eb51fb9-51e7-4373-b86c-4cfb6c8acdf7",
   "metadata": {},
   "source": [
    "#### Importing and Applying Model "
   ]
  },
  {
   "cell_type": "code",
   "execution_count": 83,
   "id": "faa82412-f3cf-43d4-a3ac-10cdd8719f08",
   "metadata": {},
   "outputs": [],
   "source": [
    "from sklearn.linear_model import LogisticRegression"
   ]
  },
  {
   "cell_type": "code",
   "execution_count": 84,
   "id": "119c1fe7-3622-4796-8d5e-10114c428db6",
   "metadata": {},
   "outputs": [],
   "source": [
    "model=LogisticRegression()"
   ]
  },
  {
   "cell_type": "code",
   "execution_count": 85,
   "id": "ed740caf-401a-4b28-b095-42ad8a3a7433",
   "metadata": {},
   "outputs": [
    {
     "data": {
      "text/html": [
       "<style>#sk-container-id-1 {color: black;}#sk-container-id-1 pre{padding: 0;}#sk-container-id-1 div.sk-toggleable {background-color: white;}#sk-container-id-1 label.sk-toggleable__label {cursor: pointer;display: block;width: 100%;margin-bottom: 0;padding: 0.3em;box-sizing: border-box;text-align: center;}#sk-container-id-1 label.sk-toggleable__label-arrow:before {content: \"▸\";float: left;margin-right: 0.25em;color: #696969;}#sk-container-id-1 label.sk-toggleable__label-arrow:hover:before {color: black;}#sk-container-id-1 div.sk-estimator:hover label.sk-toggleable__label-arrow:before {color: black;}#sk-container-id-1 div.sk-toggleable__content {max-height: 0;max-width: 0;overflow: hidden;text-align: left;background-color: #f0f8ff;}#sk-container-id-1 div.sk-toggleable__content pre {margin: 0.2em;color: black;border-radius: 0.25em;background-color: #f0f8ff;}#sk-container-id-1 input.sk-toggleable__control:checked~div.sk-toggleable__content {max-height: 200px;max-width: 100%;overflow: auto;}#sk-container-id-1 input.sk-toggleable__control:checked~label.sk-toggleable__label-arrow:before {content: \"▾\";}#sk-container-id-1 div.sk-estimator input.sk-toggleable__control:checked~label.sk-toggleable__label {background-color: #d4ebff;}#sk-container-id-1 div.sk-label input.sk-toggleable__control:checked~label.sk-toggleable__label {background-color: #d4ebff;}#sk-container-id-1 input.sk-hidden--visually {border: 0;clip: rect(1px 1px 1px 1px);clip: rect(1px, 1px, 1px, 1px);height: 1px;margin: -1px;overflow: hidden;padding: 0;position: absolute;width: 1px;}#sk-container-id-1 div.sk-estimator {font-family: monospace;background-color: #f0f8ff;border: 1px dotted black;border-radius: 0.25em;box-sizing: border-box;margin-bottom: 0.5em;}#sk-container-id-1 div.sk-estimator:hover {background-color: #d4ebff;}#sk-container-id-1 div.sk-parallel-item::after {content: \"\";width: 100%;border-bottom: 1px solid gray;flex-grow: 1;}#sk-container-id-1 div.sk-label:hover label.sk-toggleable__label {background-color: #d4ebff;}#sk-container-id-1 div.sk-serial::before {content: \"\";position: absolute;border-left: 1px solid gray;box-sizing: border-box;top: 0;bottom: 0;left: 50%;z-index: 0;}#sk-container-id-1 div.sk-serial {display: flex;flex-direction: column;align-items: center;background-color: white;padding-right: 0.2em;padding-left: 0.2em;position: relative;}#sk-container-id-1 div.sk-item {position: relative;z-index: 1;}#sk-container-id-1 div.sk-parallel {display: flex;align-items: stretch;justify-content: center;background-color: white;position: relative;}#sk-container-id-1 div.sk-item::before, #sk-container-id-1 div.sk-parallel-item::before {content: \"\";position: absolute;border-left: 1px solid gray;box-sizing: border-box;top: 0;bottom: 0;left: 50%;z-index: -1;}#sk-container-id-1 div.sk-parallel-item {display: flex;flex-direction: column;z-index: 1;position: relative;background-color: white;}#sk-container-id-1 div.sk-parallel-item:first-child::after {align-self: flex-end;width: 50%;}#sk-container-id-1 div.sk-parallel-item:last-child::after {align-self: flex-start;width: 50%;}#sk-container-id-1 div.sk-parallel-item:only-child::after {width: 0;}#sk-container-id-1 div.sk-dashed-wrapped {border: 1px dashed gray;margin: 0 0.4em 0.5em 0.4em;box-sizing: border-box;padding-bottom: 0.4em;background-color: white;}#sk-container-id-1 div.sk-label label {font-family: monospace;font-weight: bold;display: inline-block;line-height: 1.2em;}#sk-container-id-1 div.sk-label-container {text-align: center;}#sk-container-id-1 div.sk-container {/* jupyter's `normalize.less` sets `[hidden] { display: none; }` but bootstrap.min.css set `[hidden] { display: none !important; }` so we also need the `!important` here to be able to override the default hidden behavior on the sphinx rendered scikit-learn.org. See: https://github.com/scikit-learn/scikit-learn/issues/21755 */display: inline-block !important;position: relative;}#sk-container-id-1 div.sk-text-repr-fallback {display: none;}</style><div id=\"sk-container-id-1\" class=\"sk-top-container\"><div class=\"sk-text-repr-fallback\"><pre>LogisticRegression()</pre><b>In a Jupyter environment, please rerun this cell to show the HTML representation or trust the notebook. <br />On GitHub, the HTML representation is unable to render, please try loading this page with nbviewer.org.</b></div><div class=\"sk-container\" hidden><div class=\"sk-item\"><div class=\"sk-estimator sk-toggleable\"><input class=\"sk-toggleable__control sk-hidden--visually\" id=\"sk-estimator-id-1\" type=\"checkbox\" checked><label for=\"sk-estimator-id-1\" class=\"sk-toggleable__label sk-toggleable__label-arrow\">LogisticRegression</label><div class=\"sk-toggleable__content\"><pre>LogisticRegression()</pre></div></div></div></div></div>"
      ],
      "text/plain": [
       "LogisticRegression()"
      ]
     },
     "execution_count": 85,
     "metadata": {},
     "output_type": "execute_result"
    }
   ],
   "source": [
    "model.fit(x_train,y_train)"
   ]
  },
  {
   "cell_type": "code",
   "execution_count": 86,
   "id": "bc686f47-dc89-4951-8c6c-504adcf81f70",
   "metadata": {},
   "outputs": [],
   "source": [
    "y_pred=model.predict(x_test)"
   ]
  },
  {
   "cell_type": "markdown",
   "id": "5bccaa1f-233f-47fc-88ac-fd5bc9611891",
   "metadata": {},
   "source": [
    "#### Importing and Checking Accuracy Score classification_report,confusion_matrix "
   ]
  },
  {
   "cell_type": "code",
   "execution_count": 87,
   "id": "02aed96a-6fa4-446a-a200-798c3835af61",
   "metadata": {},
   "outputs": [],
   "source": [
    "from sklearn.metrics import accuracy_score,classification_report,confusion_matrix"
   ]
  },
  {
   "cell_type": "code",
   "execution_count": 88,
   "id": "2cec191d-e3c3-403d-b96e-d3edc7cf43b4",
   "metadata": {},
   "outputs": [
    {
     "data": {
      "text/plain": [
       "0.8448979591836735"
      ]
     },
     "execution_count": 88,
     "metadata": {},
     "output_type": "execute_result"
    }
   ],
   "source": [
    "accuracy_score(y_test,y_pred)"
   ]
  },
  {
   "cell_type": "markdown",
   "id": "979eda98-57f0-45b4-b465-1c795900ab82",
   "metadata": {},
   "source": [
    "#### The model achieves an overall accuracy of 84%, meaning that 84% of all instances in the dataset were correctly classified."
   ]
  },
  {
   "cell_type": "code",
   "execution_count": 89,
   "id": "cd84ab72-3852-4296-a955-af75abfc1b87",
   "metadata": {},
   "outputs": [
    {
     "data": {
      "text/plain": [
       "array([[205,  22],\n",
       "       [ 54, 209]], dtype=int64)"
      ]
     },
     "execution_count": 89,
     "metadata": {},
     "output_type": "execute_result"
    }
   ],
   "source": [
    "confusion_matrix(y_test,y_pred)"
   ]
  },
  {
   "cell_type": "code",
   "execution_count": 90,
   "id": "5e5200cb-d679-41c3-af15-f20281b80275",
   "metadata": {},
   "outputs": [
    {
     "name": "stdout",
     "output_type": "stream",
     "text": [
      "              precision    recall  f1-score   support\n",
      "\n",
      "           0       0.79      0.90      0.84       227\n",
      "           1       0.90      0.79      0.85       263\n",
      "\n",
      "    accuracy                           0.84       490\n",
      "   macro avg       0.85      0.85      0.84       490\n",
      "weighted avg       0.85      0.84      0.84       490\n",
      "\n"
     ]
    }
   ],
   "source": [
    "print(classification_report(y_test,y_pred))"
   ]
  },
  {
   "cell_type": "markdown",
   "id": "38f87bb2-157b-4b1b-92f7-f7f49bd0f68f",
   "metadata": {},
   "source": [
    "\n",
    "#### For class 0, which likely represents one category or class in your dataset, the precision is 79%, recall is 90%, and F1-score is 84%.\n",
    "#### For class 1, which likely represents another category or class in your dataset, the precision is 90%, recall is 79%, and F1-score is 85%."
   ]
  },
  {
   "cell_type": "code",
   "execution_count": 91,
   "id": "61733574-00dd-487b-b467-318e15a18c24",
   "metadata": {},
   "outputs": [
    {
     "data": {
      "text/plain": [
       "0.8160762942779292"
      ]
     },
     "execution_count": 91,
     "metadata": {},
     "output_type": "execute_result"
    }
   ],
   "source": [
    "model.score(x_train,y_train)"
   ]
  },
  {
   "cell_type": "code",
   "execution_count": 92,
   "id": "178153ac-8582-4cb9-9b7a-ad7b0fbd8a19",
   "metadata": {},
   "outputs": [],
   "source": [
    "from sklearn.linear_model import LinearRegression"
   ]
  },
  {
   "cell_type": "code",
   "execution_count": 93,
   "id": "4231fe54-4632-4c94-814f-b43e84a9d446",
   "metadata": {},
   "outputs": [],
   "source": [
    "lr=LinearRegression()"
   ]
  },
  {
   "cell_type": "code",
   "execution_count": 94,
   "id": "f96488f6-fcc5-4b73-8440-1658968e1b48",
   "metadata": {},
   "outputs": [
    {
     "data": {
      "text/html": [
       "<style>#sk-container-id-2 {color: black;}#sk-container-id-2 pre{padding: 0;}#sk-container-id-2 div.sk-toggleable {background-color: white;}#sk-container-id-2 label.sk-toggleable__label {cursor: pointer;display: block;width: 100%;margin-bottom: 0;padding: 0.3em;box-sizing: border-box;text-align: center;}#sk-container-id-2 label.sk-toggleable__label-arrow:before {content: \"▸\";float: left;margin-right: 0.25em;color: #696969;}#sk-container-id-2 label.sk-toggleable__label-arrow:hover:before {color: black;}#sk-container-id-2 div.sk-estimator:hover label.sk-toggleable__label-arrow:before {color: black;}#sk-container-id-2 div.sk-toggleable__content {max-height: 0;max-width: 0;overflow: hidden;text-align: left;background-color: #f0f8ff;}#sk-container-id-2 div.sk-toggleable__content pre {margin: 0.2em;color: black;border-radius: 0.25em;background-color: #f0f8ff;}#sk-container-id-2 input.sk-toggleable__control:checked~div.sk-toggleable__content {max-height: 200px;max-width: 100%;overflow: auto;}#sk-container-id-2 input.sk-toggleable__control:checked~label.sk-toggleable__label-arrow:before {content: \"▾\";}#sk-container-id-2 div.sk-estimator input.sk-toggleable__control:checked~label.sk-toggleable__label {background-color: #d4ebff;}#sk-container-id-2 div.sk-label input.sk-toggleable__control:checked~label.sk-toggleable__label {background-color: #d4ebff;}#sk-container-id-2 input.sk-hidden--visually {border: 0;clip: rect(1px 1px 1px 1px);clip: rect(1px, 1px, 1px, 1px);height: 1px;margin: -1px;overflow: hidden;padding: 0;position: absolute;width: 1px;}#sk-container-id-2 div.sk-estimator {font-family: monospace;background-color: #f0f8ff;border: 1px dotted black;border-radius: 0.25em;box-sizing: border-box;margin-bottom: 0.5em;}#sk-container-id-2 div.sk-estimator:hover {background-color: #d4ebff;}#sk-container-id-2 div.sk-parallel-item::after {content: \"\";width: 100%;border-bottom: 1px solid gray;flex-grow: 1;}#sk-container-id-2 div.sk-label:hover label.sk-toggleable__label {background-color: #d4ebff;}#sk-container-id-2 div.sk-serial::before {content: \"\";position: absolute;border-left: 1px solid gray;box-sizing: border-box;top: 0;bottom: 0;left: 50%;z-index: 0;}#sk-container-id-2 div.sk-serial {display: flex;flex-direction: column;align-items: center;background-color: white;padding-right: 0.2em;padding-left: 0.2em;position: relative;}#sk-container-id-2 div.sk-item {position: relative;z-index: 1;}#sk-container-id-2 div.sk-parallel {display: flex;align-items: stretch;justify-content: center;background-color: white;position: relative;}#sk-container-id-2 div.sk-item::before, #sk-container-id-2 div.sk-parallel-item::before {content: \"\";position: absolute;border-left: 1px solid gray;box-sizing: border-box;top: 0;bottom: 0;left: 50%;z-index: -1;}#sk-container-id-2 div.sk-parallel-item {display: flex;flex-direction: column;z-index: 1;position: relative;background-color: white;}#sk-container-id-2 div.sk-parallel-item:first-child::after {align-self: flex-end;width: 50%;}#sk-container-id-2 div.sk-parallel-item:last-child::after {align-self: flex-start;width: 50%;}#sk-container-id-2 div.sk-parallel-item:only-child::after {width: 0;}#sk-container-id-2 div.sk-dashed-wrapped {border: 1px dashed gray;margin: 0 0.4em 0.5em 0.4em;box-sizing: border-box;padding-bottom: 0.4em;background-color: white;}#sk-container-id-2 div.sk-label label {font-family: monospace;font-weight: bold;display: inline-block;line-height: 1.2em;}#sk-container-id-2 div.sk-label-container {text-align: center;}#sk-container-id-2 div.sk-container {/* jupyter's `normalize.less` sets `[hidden] { display: none; }` but bootstrap.min.css set `[hidden] { display: none !important; }` so we also need the `!important` here to be able to override the default hidden behavior on the sphinx rendered scikit-learn.org. See: https://github.com/scikit-learn/scikit-learn/issues/21755 */display: inline-block !important;position: relative;}#sk-container-id-2 div.sk-text-repr-fallback {display: none;}</style><div id=\"sk-container-id-2\" class=\"sk-top-container\"><div class=\"sk-text-repr-fallback\"><pre>LinearRegression()</pre><b>In a Jupyter environment, please rerun this cell to show the HTML representation or trust the notebook. <br />On GitHub, the HTML representation is unable to render, please try loading this page with nbviewer.org.</b></div><div class=\"sk-container\" hidden><div class=\"sk-item\"><div class=\"sk-estimator sk-toggleable\"><input class=\"sk-toggleable__control sk-hidden--visually\" id=\"sk-estimator-id-2\" type=\"checkbox\" checked><label for=\"sk-estimator-id-2\" class=\"sk-toggleable__label sk-toggleable__label-arrow\">LinearRegression</label><div class=\"sk-toggleable__content\"><pre>LinearRegression()</pre></div></div></div></div></div>"
      ],
      "text/plain": [
       "LinearRegression()"
      ]
     },
     "execution_count": 94,
     "metadata": {},
     "output_type": "execute_result"
    }
   ],
   "source": [
    "lr.fit(x_train,y_train)"
   ]
  },
  {
   "cell_type": "code",
   "execution_count": 95,
   "id": "9b2a96d8-e511-4f81-ad82-b55495fa943d",
   "metadata": {},
   "outputs": [],
   "source": [
    "y_pred=lr.predict(x_test)"
   ]
  },
  {
   "cell_type": "code",
   "execution_count": 96,
   "id": "5f061089-d78b-488e-a0cd-8d5d0b1d7000",
   "metadata": {},
   "outputs": [
    {
     "data": {
      "text/plain": [
       "0.4654243545588671"
      ]
     },
     "execution_count": 96,
     "metadata": {},
     "output_type": "execute_result"
    }
   ],
   "source": [
    "r2_score(y_test,y_pred)"
   ]
  },
  {
   "cell_type": "code",
   "execution_count": 97,
   "id": "51e19a64-babc-42cd-9c51-56e0ce2dee2b",
   "metadata": {},
   "outputs": [
    {
     "data": {
      "text/plain": [
       "0.1329225348124993"
      ]
     },
     "execution_count": 97,
     "metadata": {},
     "output_type": "execute_result"
    }
   ],
   "source": [
    "mean_squared_error(y_test,y_pred)"
   ]
  },
  {
   "cell_type": "code",
   "execution_count": null,
   "id": "3fffe137-6b52-43aa-a47a-7cf298132319",
   "metadata": {},
   "outputs": [],
   "source": []
  }
 ],
 "metadata": {
  "kernelspec": {
   "display_name": "Python 3 (ipykernel)",
   "language": "python",
   "name": "python3"
  },
  "language_info": {
   "codemirror_mode": {
    "name": "ipython",
    "version": 3
   },
   "file_extension": ".py",
   "mimetype": "text/x-python",
   "name": "python",
   "nbconvert_exporter": "python",
   "pygments_lexer": "ipython3",
   "version": "3.12.0"
  }
 },
 "nbformat": 4,
 "nbformat_minor": 5
}
